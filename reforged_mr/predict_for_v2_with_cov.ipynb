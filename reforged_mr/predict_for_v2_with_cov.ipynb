{
 "cells": [
  {
   "cell_type": "code",
   "execution_count": 1,
   "metadata": {},
   "outputs": [
    {
     "name": "stdout",
     "output_type": "stream",
     "text": [
      "/Users/Dev/AMD/dismod_mr_migrated/reforged_mr/model/spline.py\n",
      "/Users/Dev/AMD/dismod_mr_migrated/reforged_mr/model/priors.py\n",
      "/Users/Dev/AMD/dismod_mr_migrated/reforged_mr/model/age_groups.py\n",
      "/Users/Dev/AMD/dismod_mr_migrated/reforged_mr/model/covariates.py\n",
      "/Users/Dev/AMD/dismod_mr_migrated/reforged_mr/model/likelihood.py\n",
      "/Users/Dev/AMD/dismod_mr_migrated/reforged_mr/pipeline.py\n"
     ]
    }
   ],
   "source": [
    "import pipeline as pipeline\n",
    "print(pipeline.__file__)"
   ]
  },
  {
   "cell_type": "code",
   "execution_count": 2,
   "metadata": {},
   "outputs": [
    {
     "name": "stdout",
     "output_type": "stream",
     "text": [
      "number of rows: 207\n",
      "number of unique location_id: 18\n",
      "number of nodes: 233\n",
      "number of edges: 232\n"
     ]
    }
   ],
   "source": [
    "input_dir  = './input_data'\n",
    "stage_dirs = ['amd_sim_data', 'amd_sim_data_Early', 'amd_sim_data_Intermediate', 'amd_sim_data_Late-dry', 'amd_sim_data_Late-wet']\n",
    "stage      = stage_dirs[2] # Intermediate\n",
    "\n",
    "pm_model = pipeline.initiliaze_pipeline(f'{input_dir}/{stage}', verbose=True)"
   ]
  },
  {
   "cell_type": "code",
   "execution_count": 3,
   "metadata": {},
   "outputs": [
    {
     "name": "stdout",
     "output_type": "stream",
     "text": [
      "Standard errors replaced: 0\n",
      "Effective sample sizes filled: 0\n"
     ]
    }
   ],
   "source": [
    "rate_types = ['beta_binom', 'binom', 'neg_binom', 'poisson', 'log_normal', 'normal', 'offset_log_normal']\n",
    "rate_type = rate_types[2]\n",
    "\n",
    "pipeline.generate_pymc_objects(pm_model, rate_type=rate_type, include_covariates=True)"
   ]
  },
  {
   "cell_type": "markdown",
   "metadata": {},
   "source": []
  },
  {
   "cell_type": "code",
   "execution_count": 4,
   "metadata": {},
   "outputs": [
    {
     "name": "stderr",
     "output_type": "stream",
     "text": [
      "INFO:pipeline:  ▶ pm.find_MAP() 수행 중...\n"
     ]
    },
    {
     "data": {
      "text/html": [
       "\n",
       "<style>\n",
       "    /* Turns off some styling */\n",
       "    progress {\n",
       "        /* gets rid of default border in Firefox and Opera. */\n",
       "        border: none;\n",
       "        /* Needs to be in here for Safari polyfill so background images work as expected. */\n",
       "        background-size: auto;\n",
       "    }\n",
       "    progress:not([value]), progress:not([value])::-webkit-progress-bar {\n",
       "        background: repeating-linear-gradient(45deg, #7e7e7e, #7e7e7e 10px, #5c5c5c 10px, #5c5c5c 20px);\n",
       "    }\n",
       "    .progress-bar-interrupted, .progress-bar-interrupted::-webkit-progress-bar {\n",
       "        background: #F44336;\n",
       "    }\n",
       "</style>\n"
      ],
      "text/plain": [
       "<IPython.core.display.HTML object>"
      ]
     },
     "metadata": {},
     "output_type": "display_data"
    },
    {
     "data": {
      "text/html": [
       "\n",
       "    <div>\n",
       "      <progress value='130' class='' max='130' style='width:300px; height:20px; vertical-align: middle;'></progress>\n",
       "      100.00% [130/130 00:00&lt;00:00 logp = -908.75, ||grad|| = 190.73]\n",
       "    </div>\n",
       "    "
      ],
      "text/plain": [
       "<IPython.core.display.HTML object>"
      ]
     },
     "metadata": {},
     "output_type": "display_data"
    },
    {
     "name": "stdout",
     "output_type": "stream",
     "text": [
      "\n"
     ]
    }
   ],
   "source": [
    "map_estimate = pipeline.return_map_estimate(pm_model=pm_model, verbose=True)"
   ]
  },
  {
   "cell_type": "code",
   "execution_count": 5,
   "metadata": {},
   "outputs": [
    {
     "name": "stderr",
     "output_type": "stream",
     "text": [
      "INFO:pipeline:  ▶ Metropolis 샘플링 수행 중...\n",
      "Multiprocess sampling (4 chains in 4 jobs)\n",
      "INFO:pymc:Multiprocess sampling (4 chains in 4 jobs)\n",
      "CompoundStep\n",
      "INFO:pymc:CompoundStep\n",
      ">Metropolis: [gamma_p]\n",
      "INFO:pymc:>Metropolis: [gamma_p]\n",
      ">Metropolis: [sigma_alpha_p_0_z]\n",
      "INFO:pymc:>Metropolis: [sigma_alpha_p_0_z]\n",
      ">Metropolis: [sigma_alpha_p_1_z]\n",
      "INFO:pymc:>Metropolis: [sigma_alpha_p_1_z]\n",
      ">Metropolis: [sigma_alpha_p_2_z]\n",
      "INFO:pymc:>Metropolis: [sigma_alpha_p_2_z]\n",
      ">Metropolis: [sigma_alpha_p_3_z]\n",
      "INFO:pymc:>Metropolis: [sigma_alpha_p_3_z]\n",
      ">Metropolis: [sigma_alpha_p_4_z]\n",
      "INFO:pymc:>Metropolis: [sigma_alpha_p_4_z]\n",
      ">Metropolis: [alpha_p_31]\n",
      "INFO:pymc:>Metropolis: [alpha_p_31]\n",
      ">Metropolis: [alpha_p_56]\n",
      "INFO:pymc:>Metropolis: [alpha_p_56]\n",
      ">Metropolis: [alpha_p_62]\n",
      "INFO:pymc:>Metropolis: [alpha_p_62]\n",
      ">Metropolis: [alpha_p_64]\n",
      "INFO:pymc:>Metropolis: [alpha_p_64]\n",
      ">Metropolis: [alpha_p_70]\n",
      "INFO:pymc:>Metropolis: [alpha_p_70]\n",
      ">Metropolis: [alpha_p_71]\n",
      "INFO:pymc:>Metropolis: [alpha_p_71]\n",
      ">Metropolis: [alpha_p_65]\n",
      "INFO:pymc:>Metropolis: [alpha_p_65]\n",
      ">Metropolis: [alpha_p_67]\n",
      "INFO:pymc:>Metropolis: [alpha_p_67]\n",
      ">Metropolis: [alpha_p_68]\n",
      "INFO:pymc:>Metropolis: [alpha_p_68]\n",
      ">Metropolis: [alpha_p_69]\n",
      "INFO:pymc:>Metropolis: [alpha_p_69]\n",
      ">Metropolis: [alpha_p_100]\n",
      "INFO:pymc:>Metropolis: [alpha_p_100]\n",
      ">Metropolis: [alpha_p_102]\n",
      "INFO:pymc:>Metropolis: [alpha_p_102]\n",
      ">Metropolis: [alpha_p_73]\n",
      "INFO:pymc:>Metropolis: [alpha_p_73]\n",
      ">Metropolis: [alpha_p_81]\n",
      "INFO:pymc:>Metropolis: [alpha_p_81]\n",
      ">Metropolis: [alpha_p_83]\n",
      "INFO:pymc:>Metropolis: [alpha_p_83]\n",
      ">Metropolis: [alpha_p_84]\n",
      "INFO:pymc:>Metropolis: [alpha_p_84]\n",
      ">Metropolis: [alpha_p_86]\n",
      "INFO:pymc:>Metropolis: [alpha_p_86]\n",
      ">Metropolis: [alpha_p_89]\n",
      "INFO:pymc:>Metropolis: [alpha_p_89]\n",
      ">Metropolis: [alpha_p_92]\n",
      "INFO:pymc:>Metropolis: [alpha_p_92]\n",
      ">Metropolis: [alpha_p_137]\n",
      "INFO:pymc:>Metropolis: [alpha_p_137]\n",
      ">Metropolis: [alpha_p_138]\n",
      "INFO:pymc:>Metropolis: [alpha_p_138]\n",
      ">Metropolis: [alpha_p_142]\n",
      "INFO:pymc:>Metropolis: [alpha_p_142]\n",
      ">Metropolis: [alpha_p_158]\n",
      "INFO:pymc:>Metropolis: [alpha_p_158]\n",
      ">Metropolis: [alpha_p_159]\n",
      "INFO:pymc:>Metropolis: [alpha_p_159]\n",
      ">Metropolis: [alpha_p_163]\n",
      "INFO:pymc:>Metropolis: [alpha_p_163]\n",
      ">Metropolis: [alpha_p_164]\n",
      "INFO:pymc:>Metropolis: [alpha_p_164]\n",
      ">Metropolis: [alpha_p_4]\n",
      "INFO:pymc:>Metropolis: [alpha_p_4]\n",
      ">Metropolis: [alpha_p_5]\n",
      "INFO:pymc:>Metropolis: [alpha_p_5]\n",
      ">Metropolis: [alpha_p_6]\n",
      "INFO:pymc:>Metropolis: [alpha_p_6]\n",
      ">Metropolis: [alpha_p_8]\n",
      "INFO:pymc:>Metropolis: [alpha_p_8]\n",
      ">Metropolis: [alpha_p_9]\n",
      "INFO:pymc:>Metropolis: [alpha_p_9]\n",
      ">Metropolis: [alpha_p_18]\n",
      "INFO:pymc:>Metropolis: [alpha_p_18]\n",
      ">Metropolis: [beta_p_x_sdi]\n",
      "INFO:pymc:>Metropolis: [beta_p_x_sdi]\n",
      ">Metropolis: [beta_p_x_tob]\n",
      "INFO:pymc:>Metropolis: [beta_p_x_tob]\n",
      ">Metropolis: [beta_p_x_sex]\n",
      "INFO:pymc:>Metropolis: [beta_p_x_sex]\n",
      ">Metropolis: [eta_p]\n",
      "INFO:pymc:>Metropolis: [eta_p]\n"
     ]
    },
    {
     "data": {
      "text/html": [
       "\n",
       "<style>\n",
       "    /* Turns off some styling */\n",
       "    progress {\n",
       "        /* gets rid of default border in Firefox and Opera. */\n",
       "        border: none;\n",
       "        /* Needs to be in here for Safari polyfill so background images work as expected. */\n",
       "        background-size: auto;\n",
       "    }\n",
       "    progress:not([value]), progress:not([value])::-webkit-progress-bar {\n",
       "        background: repeating-linear-gradient(45deg, #7e7e7e, #7e7e7e 10px, #5c5c5c 10px, #5c5c5c 20px);\n",
       "    }\n",
       "    .progress-bar-interrupted, .progress-bar-interrupted::-webkit-progress-bar {\n",
       "        background: #F44336;\n",
       "    }\n",
       "</style>\n"
      ],
      "text/plain": [
       "<IPython.core.display.HTML object>"
      ]
     },
     "metadata": {},
     "output_type": "display_data"
    },
    {
     "data": {
      "text/html": [
       "\n",
       "    <div>\n",
       "      <progress value='12000' class='' max='12000' style='width:300px; height:20px; vertical-align: middle;'></progress>\n",
       "      100.00% [12000/12000 01:42&lt;00:00 Sampling 4 chains, 0 divergences]\n",
       "    </div>\n",
       "    "
      ],
      "text/plain": [
       "<IPython.core.display.HTML object>"
      ]
     },
     "metadata": {},
     "output_type": "display_data"
    },
    {
     "name": "stderr",
     "output_type": "stream",
     "text": [
      "Sampling 4 chains for 1_000 tune and 2_000 draw iterations (4_000 + 8_000 draws total) took 103 seconds.\n",
      "INFO:pymc:Sampling 4 chains for 1_000 tune and 2_000 draw iterations (4_000 + 8_000 draws total) took 103 seconds.\n",
      "The rhat statistic is larger than 1.01 for some parameters. This indicates problems during sampling. See https://arxiv.org/abs/1903.08008 for details\n",
      "INFO:pymc:The rhat statistic is larger than 1.01 for some parameters. This indicates problems during sampling. See https://arxiv.org/abs/1903.08008 for details\n",
      "The effective sample size per chain is smaller than 100 for some parameters.  A higher number is needed for reliable rhat and ess computation. See https://arxiv.org/abs/1903.08008 for details\n",
      "ERROR:pymc:The effective sample size per chain is smaller than 100 for some parameters.  A higher number is needed for reliable rhat and ess computation. See https://arxiv.org/abs/1903.08008 for details\n",
      "INFO:pipeline:[asr] 전체 소요 시간: 224.7초\n"
     ]
    }
   ],
   "source": [
    "idata = pipeline.return_idata(pm_model     = pm_model, \n",
    "                            map_estimate   = map_estimate, \n",
    "                            draws          = 2000,\n",
    "                            tune           = 1000,\n",
    "                            chains         = 4,\n",
    "                            cores          = 4,\n",
    "                            target_accept  = 0.9,\n",
    "                            max_treedepth  = 10,\n",
    "                            use_advi       = False,\n",
    "                            use_metropolis = True,\n",
    "                            verbose=True\n",
    "                            ) \n",
    "# 198.3초 소요"
   ]
  },
  {
   "cell_type": "code",
   "execution_count": 7,
   "metadata": {},
   "outputs": [
    {
     "name": "stdout",
     "output_type": "stream",
     "text": [
      "Total vars:    1159\n",
      "R-hat > 1.01:  414\n",
      "R-hat <= 1.01:  689\n",
      "R-hat missing: 56\n",
      "<xarray.Dataset> Size: 17kB\n",
      "Dimensions:               (knot: 6, age: 93, cum_sum_mu_p_dim_0: 93,\n",
      "                           mu_interval_p_dim_0: 207, pi_p_dim_0: 207,\n",
      "                           obs_dim: 207, p_pred_p_dim_0: 207)\n",
      "Coordinates:\n",
      "  * knot                  (knot) float64 48B 2.0 30.0 45.0 60.0 80.0 94.0\n",
      "  * age                   (age) float64 744B 2.0 3.0 4.0 5.0 ... 92.0 93.0 94.0\n",
      "  * cum_sum_mu_p_dim_0    (cum_sum_mu_p_dim_0) int64 744B 0 1 2 3 ... 90 91 92\n",
      "  * mu_interval_p_dim_0   (mu_interval_p_dim_0) int64 2kB 0 1 2 ... 204 205 206\n",
      "  * pi_p_dim_0            (pi_p_dim_0) int64 2kB 0 1 2 3 4 ... 203 204 205 206\n",
      "  * obs_dim               (obs_dim) int64 2kB 0 1 2 3 4 ... 202 203 204 205 206\n",
      "  * p_pred_p_dim_0        (p_pred_p_dim_0) int64 2kB 0 1 2 3 ... 203 204 205 206\n",
      "Data variables: (12/54)\n",
      "    gamma_p               (knot) float64 48B 1.012 1.011 1.028 1.071 1.066 1.061\n",
      "    sigma_alpha_p_0_z     float64 8B 1.002\n",
      "    sigma_alpha_p_1_z     float64 8B 1.019\n",
      "    sigma_alpha_p_2_z     float64 8B 1.008\n",
      "    sigma_alpha_p_3_z     float64 8B 1.003\n",
      "    sigma_alpha_p_4_z     float64 8B 1.002\n",
      "    ...                    ...\n",
      "    sigma_alpha_p_2       float64 8B 1.008\n",
      "    sigma_alpha_p_3       float64 8B 1.003\n",
      "    sigma_alpha_p_4       float64 8B 1.002\n",
      "    pi_p                  (pi_p_dim_0) float64 2kB 1.002 1.003 ... 1.008 1.009\n",
      "    delta_p               (obs_dim) float64 2kB 1.005 1.005 ... 1.005 1.005\n",
      "    p_pred_p              (p_pred_p_dim_0) float64 2kB 1.002 1.003 ... 1.009\n"
     ]
    }
   ],
   "source": [
    "summary_df = pipeline.return_rhat(idata)"
   ]
  },
  {
   "cell_type": "code",
   "execution_count": 331,
   "metadata": {},
   "outputs": [],
   "source": [
    "import pandas as pd\n",
    "import numpy as np\n",
    "import pymc as pm\n",
    "import arviz as az\n",
    "import json\n",
    "import re\n",
    "import networkx as nx\n",
    "import logging\n",
    "import time\n",
    "import arviz as az\n",
    "import warnings\n",
    "import matplotlib.pyplot as plt\n",
    "import random\n",
    "\n",
    "def predict_for_v2(\n",
    "    pm_model,\n",
    "    idata,\n",
    "    include_covariates  = True,\n",
    "    lower               = 0.0,\n",
    "    upper               = 1.0,\n",
    "    year                = 2005,\n",
    "    location_id         = 0,\n",
    "    sex                 = 'Female'\n",
    "    ):\n",
    "    \n",
    "\n",
    "    ##############################################################################################\n",
    "    #\n",
    "    # Given an age, year, country and sex, predict the prevalence\n",
    "    #\n",
    "    # 1. age -> h(a)\n",
    "    #\n",
    "    # 2. country + year                    -> sdi\n",
    "    #    country + year + sex              -> tobacco\n",
    "    #    (sdi * beta1) + (tobacco * beta2) -> fixed effects\n",
    "    #\n",
    "    # 3. country -> available ancestors among (alpha_global + alpha_super_region + alpha_region + alpha_country) : random effects\n",
    "    #\n",
    "    # 4. if country is a region, super region, or global, \n",
    "    #    then use the weighted sumn of the children countries' \"prevalnce\" : NOTE: prevalance?\n",
    "    #\n",
    "    ##############################################################################################\n",
    "\n",
    "\n",
    "    # CASE 1: Do not include covariates: Early return once you get h(a)\n",
    "    h_a_trace = idata.posterior['constrained_mu_age_p'].values\n",
    "    n_chain, n_draw, n_ages = h_a_trace.shape                 # (4, 2000, 93)\n",
    "    h_a_trace = h_a_trace.reshape((n_chain * n_draw, n_ages))  # shape = (n_samples, n_ages) -> (8000, 93)\n",
    "    h_a_trace_clipped = np.clip(h_a_trace, lower, upper)\n",
    "    \n",
    "    # Calculate number of clipped\n",
    "    n_clipped = np.sum((h_a_trace < lower) | (h_a_trace > upper))\n",
    "    pct_clipped = (n_clipped / h_a_trace.size) * 100\n",
    "    print(f\"Percentage of clipped values: {pct_clipped:.2f}% ({n_clipped:,} out of {h_a_trace.size:,})\")\n",
    "\n",
    "    # Early return if not include covariates\n",
    "    if not include_covariates:    \n",
    "        return h_a_trace_clipped\n",
    "\n",
    "    # CASE 2: Include covariates: Get the covariates and calculate the prevalence\n",
    "    n_samples = h_a_trace.shape[0]\n",
    "\n",
    "    # Get relevant data from pm_model        \n",
    "    output_template    = pm_model.shared_data['output_template']\n",
    "    region_id_graph    = pm_model.shared_data['region_id_graph']\n",
    "\n",
    "\n",
    "    # CASE 2.1: Get beta_trace (fixed effects) : shape = (n_samples, n_ages) -> (8000, 1)\n",
    "    beta_sdi_trace = idata.posterior['beta_p_x_sdi'].values.reshape(n_samples, -1) # shape = (8000, 1)\n",
    "    \n",
    "    beta_tob_trace = idata.posterior['beta_p_x_tob'].values.reshape(n_samples, -1) # shape = (8000, 1)\n",
    "    \n",
    "    beta_sex_trace = idata.posterior['beta_p_x_sex'].values.reshape(n_samples, -1) # shape = (8000, 1)\n",
    "    \n",
    "    # Use the year and sex to get x_sdi, x_tob from the df, output_template\n",
    "    # Return a single df of shape (204, 2)\n",
    "    x_sdi_tob_df = output_template.loc[\n",
    "        (output_template['year'] == year) & (output_template['sex'] == sex),\n",
    "        ['location_id', 'x_sdi', 'x_tob']\n",
    "    ].reset_index(drop=True)\n",
    "    \n",
    "    if sex == 'Male':\n",
    "        x_sdi_tob_df['x_sex'] = 0.5\n",
    "    elif sex == 'Female':\n",
    "        x_sdi_tob_df['x_sex'] = -0.5\n",
    "    \n",
    "    # check if location_id is in the df\n",
    "    if location_id not in x_sdi_tob_df['location_id'].values:\n",
    "        leaves = [n for n in nx.bfs_tree(region_id_graph, location_id) if region_id_graph.out_degree(n) == 0]\n",
    "    else:\n",
    "        leaves = [location_id]\n",
    "\n",
    "    # Filter x_sdi_tob_df using the leaves\n",
    "    x_sdi_tob_df = x_sdi_tob_df[x_sdi_tob_df['location_id'].isin(leaves)]\n",
    "    \n",
    "    # create a df of shape (n_samples, n_leaves) for x_sdi\n",
    "    x_sdi_values = x_sdi_tob_df.set_index('location_id').reindex(leaves)['x_sdi'].values\n",
    "    x_sdi_df = pd.DataFrame(np.tile(x_sdi_values, (n_samples, 1)), columns=leaves) # shape = (8000, n_leaves)\n",
    "    \n",
    "    # create a df of shape (n_samples, n_leaves) for x_tob\n",
    "    x_tob_values = x_sdi_tob_df.set_index('location_id').reindex(leaves)['x_tob'].values\n",
    "    x_tob_df = pd.DataFrame(np.tile(x_tob_values, (n_samples, 1)), columns=leaves) # shape = (8000, n_leaves)\n",
    "    \n",
    "    # create a df of shape (n_samples, n_leaves) for x_sex\n",
    "    x_sex_values = x_sdi_tob_df.set_index('location_id').reindex(leaves)['x_sex'].values\n",
    "    x_sex_df = pd.DataFrame(np.tile(x_sex_values, (n_samples, 1)), columns=leaves) # shape = (8000, n_leaves)\n",
    "\n",
    "    # use the leaves and the output_template to get the population (pop)\n",
    "    pop_df = output_template.loc[\n",
    "        (output_template['year'] == year) & (output_template['sex'] == sex),\n",
    "        ['location_id', 'pop']\n",
    "    ].reset_index(drop=True)\n",
    "    \n",
    "    # filter pop_df using the leaves\n",
    "    pop_df = pop_df[pop_df['location_id'].isin(leaves)]\n",
    "    pop_df['pop_ratio'] = pop_df['pop'] / pop_df['pop'].sum()  \n",
    "\n",
    "    # only keep the pop_ratio and location_id\n",
    "    pop_df = pop_df.set_index('location_id').reindex(leaves)['pop_ratio'].values\n",
    "    pop_ratio_df = pd.DataFrame(np.tile(pop_df, (n_samples, 1)), columns=leaves)\n",
    "\n",
    "\n",
    "    # CASE 2.2: Calculate the random effects    \n",
    "    random_effect_df = pd.DataFrame(np.zeros((n_samples, len(leaves))), columns=leaves)\n",
    "\n",
    "    for leaf in leaves:\n",
    "        random_effect_nodes = list(nx.ancestors(region_id_graph, leaf))\n",
    "        random_effect_nodes.append(leaf)\n",
    "\n",
    "        for node in random_effect_nodes:\n",
    "            alpha_name = f'alpha_p_{node}'\n",
    "            \n",
    "            alpha_sum = np.zeros((n_samples, 1))\n",
    "            if alpha_name in idata.posterior:\n",
    "                alpha_sum += idata.posterior[alpha_name].values.reshape(n_samples, -1)\n",
    "                \n",
    "        random_effect_df[leaf] = alpha_sum\n",
    "\n",
    "    # CASE 2.3: total effect = fixed effect + random effect\n",
    "    fixed_effect = beta_sdi_trace * x_sdi_df + \\\n",
    "                    beta_tob_trace * x_tob_df + \\\n",
    "                    beta_sex_trace * x_sex_df\n",
    "    \n",
    "    total_effect = np.exp(fixed_effect + random_effect_df)\n",
    "    weighted_total_effect = total_effect * pop_ratio_df\n",
    "    weighted_total_effect_sum = weighted_total_effect.sum(axis=1).to_numpy().reshape(-1, 1)\n",
    "    \n",
    "    pred = h_a_trace_clipped * weighted_total_effect_sum\n",
    "    return pred\n",
    "    "
   ]
  },
  {
   "cell_type": "code",
   "execution_count": 332,
   "metadata": {},
   "outputs": [
    {
     "name": "stdout",
     "output_type": "stream",
     "text": [
      "Percentage of clipped values: 0.00% (0 out of 744,000)\n"
     ]
    }
   ],
   "source": [
    "# Global: 1\n",
    "\n",
    "# High-income Asia Pacific: 65\n",
    "    # Brunei Darussalam: 66\n",
    "    # Japan: 67\n",
    "    # Republic of Korea: 68\n",
    "    # Singapore: 69\n",
    "\n",
    "# USA: 102\n",
    "\n",
    "# Cambodia: 10\n",
    "pred = predict_for_v2( pm_model            = pm_model,\n",
    "                                idata               = idata, \n",
    "                                include_covariates  = True,\n",
    "                                lower               = 0.0,\n",
    "                                upper               = 1.0,\n",
    "                                year                = 1998,\n",
    "                                location_id         = 1,\n",
    "                                sex                 = 'Male',\n",
    "                                )"
   ]
  },
  {
   "cell_type": "code",
   "execution_count": 333,
   "metadata": {},
   "outputs": [
    {
     "name": "stderr",
     "output_type": "stream",
     "text": [
      "/Users/Dev/AMD/dismod_mr_migrated/reforged_mr/pipeline.py:948: FutureWarning: hdi currently interprets 2d data as (draw, shape) but this will change in a future release to (chain, draw) for coherence with other functions\n",
      "  hpd = pm.stats.hdi(pred, hdi_prob=0.95)\n"
     ]
    },
    {
     "data": {
      "image/png": "[encoded data removed]",
      "text/plain": [
       "<Figure size 1000x400 with 1 Axes>"
      ]
     },
     "metadata": {},
     "output_type": "display_data"
    }
   ],
   "source": [
    "pipeline.visualize_pred(pred, pm_model.shared_data[\"data\"])"
   ]
  },
  {
   "cell_type": "code",
   "execution_count": null,
   "metadata": {},
   "outputs": [],
   "source": [
    "# Execute above cells"
   ]
  }
 ],
 "metadata": {
  "kernelspec": {
   "display_name": "amd",
   "language": "python",
   "name": "python3"
  },
  "language_info": {
   "codemirror_mode": {
    "name": "ipython",
    "version": 3
   },
   "file_extension": ".py",
   "mimetype": "text/x-python",
   "name": "python",
   "nbconvert_exporter": "python",
   "pygments_lexer": "ipython3",
   "version": "3.9.7"
  }
 },
 "nbformat": 4,
 "nbformat_minor": 2
}
