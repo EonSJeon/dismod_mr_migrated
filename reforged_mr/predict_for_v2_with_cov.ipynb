{
 "cells": [
  {
   "cell_type": "code",
   "execution_count": 1,
   "metadata": {},
   "outputs": [
    {
     "name": "stdout",
     "output_type": "stream",
     "text": [
      "/Users/Dev/AMD/dismod_mr_migrated/reforged_mr/model/spline.py\n",
      "/Users/Dev/AMD/dismod_mr_migrated/reforged_mr/model/priors.py\n",
      "/Users/Dev/AMD/dismod_mr_migrated/reforged_mr/model/age_groups.py\n",
      "/Users/Dev/AMD/dismod_mr_migrated/reforged_mr/model/covariates.py\n",
      "/Users/Dev/AMD/dismod_mr_migrated/reforged_mr/model/likelihood.py\n",
      "/Users/Dev/AMD/dismod_mr_migrated/reforged_mr/pipeline.py\n"
     ]
    }
   ],
   "source": [
    "import pipeline as pipeline\n",
    "print(pipeline.__file__)"
   ]
  },
  {
   "cell_type": "code",
   "execution_count": 2,
   "metadata": {},
   "outputs": [
    {
     "name": "stdout",
     "output_type": "stream",
     "text": [
      "number of rows: 207\n",
      "number of unique location_id: 18\n",
      "number of nodes: 233\n",
      "number of edges: 232\n"
     ]
    }
   ],
   "source": [
    "input_dir  = './input_data'\n",
    "stage_dirs = ['amd_sim_data', 'amd_sim_data_Early', 'amd_sim_data_Intermediate', 'amd_sim_data_Late-dry', 'amd_sim_data_Late-wet']\n",
    "stage      = stage_dirs[2] # Intermediate\n",
    "\n",
    "pm_model = pipeline.initiliaze_pipeline(f'{input_dir}/{stage}', verbose=True)"
   ]
  },
  {
   "cell_type": "code",
   "execution_count": 3,
   "metadata": {},
   "outputs": [
    {
     "name": "stdout",
     "output_type": "stream",
     "text": [
      "Standard errors replaced: 0\n",
      "Effective sample sizes filled: 0\n"
     ]
    }
   ],
   "source": [
    "rate_types = ['beta_binom', 'binom', 'neg_binom', 'poisson', 'log_normal', 'normal', 'offset_log_normal']\n",
    "rate_type = rate_types[2]\n",
    "\n",
    "pipeline.generate_pymc_objects(pm_model, rate_type=rate_type, include_covariates=True)"
   ]
  },
  {
   "cell_type": "markdown",
   "metadata": {},
   "source": []
  },
  {
   "cell_type": "code",
   "execution_count": 4,
   "metadata": {},
   "outputs": [
    {
     "name": "stderr",
     "output_type": "stream",
     "text": [
      "INFO:pipeline:  ▶ pm.find_MAP() 수행 중...\n"
     ]
    },
    {
     "data": {
      "text/html": [
       "\n",
       "<style>\n",
       "    /* Turns off some styling */\n",
       "    progress {\n",
       "        /* gets rid of default border in Firefox and Opera. */\n",
       "        border: none;\n",
       "        /* Needs to be in here for Safari polyfill so background images work as expected. */\n",
       "        background-size: auto;\n",
       "    }\n",
       "    progress:not([value]), progress:not([value])::-webkit-progress-bar {\n",
       "        background: repeating-linear-gradient(45deg, #7e7e7e, #7e7e7e 10px, #5c5c5c 10px, #5c5c5c 20px);\n",
       "    }\n",
       "    .progress-bar-interrupted, .progress-bar-interrupted::-webkit-progress-bar {\n",
       "        background: #F44336;\n",
       "    }\n",
       "</style>\n"
      ],
      "text/plain": [
       "<IPython.core.display.HTML object>"
      ]
     },
     "metadata": {},
     "output_type": "display_data"
    },
    {
     "data": {
      "text/html": [
       "\n",
       "    <div>\n",
       "      <progress value='130' class='' max='130' style='width:300px; height:20px; vertical-align: middle;'></progress>\n",
       "      100.00% [130/130 00:00&lt;00:00 logp = -908.75, ||grad|| = 190.73]\n",
       "    </div>\n",
       "    "
      ],
      "text/plain": [
       "<IPython.core.display.HTML object>"
      ]
     },
     "metadata": {},
     "output_type": "display_data"
    },
    {
     "name": "stdout",
     "output_type": "stream",
     "text": [
      "\n"
     ]
    }
   ],
   "source": [
    "map_estimate = pipeline.return_map_estimate(pm_model=pm_model, verbose=True)"
   ]
  },
  {
   "cell_type": "code",
   "execution_count": 5,
   "metadata": {},
   "outputs": [
    {
     "name": "stderr",
     "output_type": "stream",
     "text": [
      "INFO:pipeline:  ▶ Metropolis 샘플링 수행 중...\n",
      "Multiprocess sampling (4 chains in 4 jobs)\n",
      "INFO:pymc:Multiprocess sampling (4 chains in 4 jobs)\n",
      "CompoundStep\n",
      "INFO:pymc:CompoundStep\n",
      ">Metropolis: [gamma_p]\n",
      "INFO:pymc:>Metropolis: [gamma_p]\n",
      ">Metropolis: [sigma_alpha_p_0_z]\n",
      "INFO:pymc:>Metropolis: [sigma_alpha_p_0_z]\n",
      ">Metropolis: [sigma_alpha_p_1_z]\n",
      "INFO:pymc:>Metropolis: [sigma_alpha_p_1_z]\n",
      ">Metropolis: [sigma_alpha_p_2_z]\n",
      "INFO:pymc:>Metropolis: [sigma_alpha_p_2_z]\n",
      ">Metropolis: [sigma_alpha_p_3_z]\n",
      "INFO:pymc:>Metropolis: [sigma_alpha_p_3_z]\n",
      ">Metropolis: [sigma_alpha_p_4_z]\n",
      "INFO:pymc:>Metropolis: [sigma_alpha_p_4_z]\n",
      ">Metropolis: [alpha_p_31]\n",
      "INFO:pymc:>Metropolis: [alpha_p_31]\n",
      ">Metropolis: [alpha_p_56]\n",
      "INFO:pymc:>Metropolis: [alpha_p_56]\n",
      ">Metropolis: [alpha_p_62]\n",
      "INFO:pymc:>Metropolis: [alpha_p_62]\n",
      ">Metropolis: [alpha_p_64]\n",
      "INFO:pymc:>Metropolis: [alpha_p_64]\n",
      ">Metropolis: [alpha_p_70]\n",
      "INFO:pymc:>Metropolis: [alpha_p_70]\n",
      ">Metropolis: [alpha_p_71]\n",
      "INFO:pymc:>Metropolis: [alpha_p_71]\n",
      ">Metropolis: [alpha_p_65]\n",
      "INFO:pymc:>Metropolis: [alpha_p_65]\n",
      ">Metropolis: [alpha_p_67]\n",
      "INFO:pymc:>Metropolis: [alpha_p_67]\n",
      ">Metropolis: [alpha_p_68]\n",
      "INFO:pymc:>Metropolis: [alpha_p_68]\n",
      ">Metropolis: [alpha_p_69]\n",
      "INFO:pymc:>Metropolis: [alpha_p_69]\n",
      ">Metropolis: [alpha_p_100]\n",
      "INFO:pymc:>Metropolis: [alpha_p_100]\n",
      ">Metropolis: [alpha_p_102]\n",
      "INFO:pymc:>Metropolis: [alpha_p_102]\n",
      ">Metropolis: [alpha_p_73]\n",
      "INFO:pymc:>Metropolis: [alpha_p_73]\n",
      ">Metropolis: [alpha_p_81]\n",
      "INFO:pymc:>Metropolis: [alpha_p_81]\n",
      ">Metropolis: [alpha_p_83]\n",
      "INFO:pymc:>Metropolis: [alpha_p_83]\n",
      ">Metropolis: [alpha_p_84]\n",
      "INFO:pymc:>Metropolis: [alpha_p_84]\n",
      ">Metropolis: [alpha_p_86]\n",
      "INFO:pymc:>Metropolis: [alpha_p_86]\n",
      ">Metropolis: [alpha_p_89]\n",
      "INFO:pymc:>Metropolis: [alpha_p_89]\n",
      ">Metropolis: [alpha_p_92]\n",
      "INFO:pymc:>Metropolis: [alpha_p_92]\n",
      ">Metropolis: [alpha_p_137]\n",
      "INFO:pymc:>Metropolis: [alpha_p_137]\n",
      ">Metropolis: [alpha_p_138]\n",
      "INFO:pymc:>Metropolis: [alpha_p_138]\n",
      ">Metropolis: [alpha_p_142]\n",
      "INFO:pymc:>Metropolis: [alpha_p_142]\n",
      ">Metropolis: [alpha_p_158]\n",
      "INFO:pymc:>Metropolis: [alpha_p_158]\n",
      ">Metropolis: [alpha_p_159]\n",
      "INFO:pymc:>Metropolis: [alpha_p_159]\n",
      ">Metropolis: [alpha_p_163]\n",
      "INFO:pymc:>Metropolis: [alpha_p_163]\n",
      ">Metropolis: [alpha_p_164]\n",
      "INFO:pymc:>Metropolis: [alpha_p_164]\n",
      ">Metropolis: [alpha_p_4]\n",
      "INFO:pymc:>Metropolis: [alpha_p_4]\n",
      ">Metropolis: [alpha_p_5]\n",
      "INFO:pymc:>Metropolis: [alpha_p_5]\n",
      ">Metropolis: [alpha_p_6]\n",
      "INFO:pymc:>Metropolis: [alpha_p_6]\n",
      ">Metropolis: [alpha_p_8]\n",
      "INFO:pymc:>Metropolis: [alpha_p_8]\n",
      ">Metropolis: [alpha_p_9]\n",
      "INFO:pymc:>Metropolis: [alpha_p_9]\n",
      ">Metropolis: [alpha_p_18]\n",
      "INFO:pymc:>Metropolis: [alpha_p_18]\n",
      ">Metropolis: [beta_p_x_sdi]\n",
      "INFO:pymc:>Metropolis: [beta_p_x_sdi]\n",
      ">Metropolis: [beta_p_x_tob]\n",
      "INFO:pymc:>Metropolis: [beta_p_x_tob]\n",
      ">Metropolis: [beta_p_x_sex]\n",
      "INFO:pymc:>Metropolis: [beta_p_x_sex]\n",
      ">Metropolis: [eta_p]\n",
      "INFO:pymc:>Metropolis: [eta_p]\n"
     ]
    },
    {
     "data": {
      "text/html": [
       "\n",
       "<style>\n",
       "    /* Turns off some styling */\n",
       "    progress {\n",
       "        /* gets rid of default border in Firefox and Opera. */\n",
       "        border: none;\n",
       "        /* Needs to be in here for Safari polyfill so background images work as expected. */\n",
       "        background-size: auto;\n",
       "    }\n",
       "    progress:not([value]), progress:not([value])::-webkit-progress-bar {\n",
       "        background: repeating-linear-gradient(45deg, #7e7e7e, #7e7e7e 10px, #5c5c5c 10px, #5c5c5c 20px);\n",
       "    }\n",
       "    .progress-bar-interrupted, .progress-bar-interrupted::-webkit-progress-bar {\n",
       "        background: #F44336;\n",
       "    }\n",
       "</style>\n"
      ],
      "text/plain": [
       "<IPython.core.display.HTML object>"
      ]
     },
     "metadata": {},
     "output_type": "display_data"
    },
    {
     "data": {
      "text/html": [
       "\n",
       "    <div>\n",
       "      <progress value='12000' class='' max='12000' style='width:300px; height:20px; vertical-align: middle;'></progress>\n",
       "      100.00% [12000/12000 01:42&lt;00:00 Sampling 4 chains, 0 divergences]\n",
       "    </div>\n",
       "    "
      ],
      "text/plain": [
       "<IPython.core.display.HTML object>"
      ]
     },
     "metadata": {},
     "output_type": "display_data"
    },
    {
     "name": "stderr",
     "output_type": "stream",
     "text": [
      "Sampling 4 chains for 1_000 tune and 2_000 draw iterations (4_000 + 8_000 draws total) took 103 seconds.\n",
      "INFO:pymc:Sampling 4 chains for 1_000 tune and 2_000 draw iterations (4_000 + 8_000 draws total) took 103 seconds.\n",
      "The rhat statistic is larger than 1.01 for some parameters. This indicates problems during sampling. See https://arxiv.org/abs/1903.08008 for details\n",
      "INFO:pymc:The rhat statistic is larger than 1.01 for some parameters. This indicates problems during sampling. See https://arxiv.org/abs/1903.08008 for details\n",
      "The effective sample size per chain is smaller than 100 for some parameters.  A higher number is needed for reliable rhat and ess computation. See https://arxiv.org/abs/1903.08008 for details\n",
      "ERROR:pymc:The effective sample size per chain is smaller than 100 for some parameters.  A higher number is needed for reliable rhat and ess computation. See https://arxiv.org/abs/1903.08008 for details\n",
      "INFO:pipeline:[asr] 전체 소요 시간: 224.7초\n"
     ]
    }
   ],
   "source": [
    "idata = pipeline.return_idata(pm_model     = pm_model, \n",
    "                            map_estimate   = map_estimate, \n",
    "                            draws          = 2000,\n",
    "                            tune           = 1000,\n",
    "                            chains         = 4,\n",
    "                            cores          = 4,\n",
    "                            target_accept  = 0.9,\n",
    "                            max_treedepth  = 10,\n",
    "                            use_advi       = False,\n",
    "                            use_metropolis = True,\n",
    "                            verbose=True\n",
    "                            ) \n",
    "# 198.3초 소요"
   ]
  },
  {
   "cell_type": "code",
   "execution_count": 7,
   "metadata": {},
   "outputs": [
    {
     "name": "stdout",
     "output_type": "stream",
     "text": [
      "Total vars:    1159\n",
      "R-hat > 1.01:  414\n",
      "R-hat <= 1.01:  689\n",
      "R-hat missing: 56\n",
      "<xarray.Dataset> Size: 17kB\n",
      "Dimensions:               (knot: 6, age: 93, cum_sum_mu_p_dim_0: 93,\n",
      "                           mu_interval_p_dim_0: 207, pi_p_dim_0: 207,\n",
      "                           obs_dim: 207, p_pred_p_dim_0: 207)\n",
      "Coordinates:\n",
      "  * knot                  (knot) float64 48B 2.0 30.0 45.0 60.0 80.0 94.0\n",
      "  * age                   (age) float64 744B 2.0 3.0 4.0 5.0 ... 92.0 93.0 94.0\n",
      "  * cum_sum_mu_p_dim_0    (cum_sum_mu_p_dim_0) int64 744B 0 1 2 3 ... 90 91 92\n",
      "  * mu_interval_p_dim_0   (mu_interval_p_dim_0) int64 2kB 0 1 2 ... 204 205 206\n",
      "  * pi_p_dim_0            (pi_p_dim_0) int64 2kB 0 1 2 3 4 ... 203 204 205 206\n",
      "  * obs_dim               (obs_dim) int64 2kB 0 1 2 3 4 ... 202 203 204 205 206\n",
      "  * p_pred_p_dim_0        (p_pred_p_dim_0) int64 2kB 0 1 2 3 ... 203 204 205 206\n",
      "Data variables: (12/54)\n",
      "    gamma_p               (knot) float64 48B 1.012 1.011 1.028 1.071 1.066 1.061\n",
      "    sigma_alpha_p_0_z     float64 8B 1.002\n",
      "    sigma_alpha_p_1_z     float64 8B 1.019\n",
      "    sigma_alpha_p_2_z     float64 8B 1.008\n",
      "    sigma_alpha_p_3_z     float64 8B 1.003\n",
      "    sigma_alpha_p_4_z     float64 8B 1.002\n",
      "    ...                    ...\n",
      "    sigma_alpha_p_2       float64 8B 1.008\n",
      "    sigma_alpha_p_3       float64 8B 1.003\n",
      "    sigma_alpha_p_4       float64 8B 1.002\n",
      "    pi_p                  (pi_p_dim_0) float64 2kB 1.002 1.003 ... 1.008 1.009\n",
      "    delta_p               (obs_dim) float64 2kB 1.005 1.005 ... 1.005 1.005\n",
      "    p_pred_p              (p_pred_p_dim_0) float64 2kB 1.002 1.003 ... 1.009\n"
     ]
    }
   ],
   "source": [
    "summary_df = pipeline.return_rhat(idata)"
   ]
  },
  {
   "cell_type": "code",
   "execution_count": null,
   "metadata": {},
   "outputs": [],
   "source": [
    "import pandas as pd\n",
    "import numpy as np\n",
    "import pymc as pm\n",
    "import arviz as az\n",
    "import json\n",
    "import re\n",
    "import networkx as nx\n",
    "import logging\n",
    "import time\n",
    "import arviz as az\n",
    "import warnings\n",
    "import matplotlib.pyplot as plt\n",
    "import random\n",
    "\n",
    "def predict_for_v2(\n",
    "    pm_model,\n",
    "    idata,\n",
    "    include_covariates  = True,\n",
    "    lower               = 0.0,\n",
    "    upper               = 1.0,\n",
    "    year                = 2005,\n",
    "    location_id         = 0,\n",
    "    sex                 = 'Female'\n",
    "    ):\n",
    "    \n",
    "\n",
    "    ##############################################################################################\n",
    "    #\n",
    "    # Given an age, year, country and sex, predict the prevalence\n",
    "    #\n",
    "    # 1. age -> h(a)\n",
    "    #\n",
    "    # 2. country + year                    -> sdi\n",
    "    #    country + year + sex              -> tobacco\n",
    "    #    (sdi * beta1) + (tobacco * beta2) -> fixed effects\n",
    "    #\n",
    "    # 3. country -> available ancestors among (alpha_global + alpha_super_region + alpha_region + alpha_country) : random effects\n",
    "    #\n",
    "    # 4. if country is a region, super region, or global, \n",
    "    #    then use the weighted sumn of the children countries' \"prevalnce\" : NOTE: prevalance?\n",
    "    #\n",
    "    ##############################################################################################\n",
    "\n",
    "\n",
    "    # CASE 1: Do not include covariates: Early return once you get h(a)\n",
    "    h_a_trace = idata.posterior['constrained_mu_age_p'].values\n",
    "    n_chain, n_draw, n_ages = h_a_trace.shape                 # (4, 2000, 93)\n",
    "    h_a_trace = h_a_trace.reshape((n_chain * n_draw, n_ages))  # shape = (n_samples, n_ages) -> (8000, 93)\n",
    "    h_a_trace_clipped = np.clip(h_a_trace, lower, upper)\n",
    "    \n",
    "    # Calculate number of clipped\n",
    "    n_clipped = np.sum((h_a_trace < lower) | (h_a_trace > upper))\n",
    "    pct_clipped = (n_clipped / h_a_trace.size) * 100\n",
    "    print(f\"Percentage of clipped values: {pct_clipped:.2f}% ({n_clipped:,} out of {h_a_trace.size:,})\")\n",
    "\n",
    "    # Early return if not include covariates\n",
    "    if not include_covariates:    \n",
    "        return h_a_trace_clipped\n",
    "\n",
    "    # CASE 2: Include covariates: Get the covariates and calculate the prevalence\n",
    "    n_samples = h_a_trace.shape[0]\n",
    "\n",
    "    # Get relevant data from pm_model        \n",
    "    alpha              = pm_model.shared_data['alpha']\n",
    "    const_alpha_sigma  = pm_model.shared_data['const_alpha_sigma']\n",
    "    beta               = pm_model.shared_data['beta']\n",
    "    const_beta_sigma   = pm_model.shared_data['const_beta_sigma']\n",
    "    # X                  = pm_model.shared_data['X']\n",
    "    X_shift            = pm_model.shared_data['X_shift']\n",
    "    output_template    = pm_model.shared_data['output_template']\n",
    "    region_id_graph    = pm_model.shared_data['region_id_graph']\n",
    "    name_to_id         = pm_model.shared_data['name_to_id']\n",
    "    U                  = pm_model.shared_data['U']\n",
    "    U_shift            = pm_model.shared_data['U_shift']\n",
    "    id_to_name         = pm_model.shared_data['id_to_name']\n",
    "\n",
    "\n",
    "    # CASE 2.1: Get beta_trace (fixed effects) : shape = (n_samples, n_ages) -> (8000, 1)\n",
    "    beta_sdi_trace = idata.posterior['beta_p_x_sdi'].values.reshape(n_samples, -1) # shape = (8000, 1)\n",
    "    beta_tob_trace = idata.posterior['beta_p_x_tob'].values.reshape(n_samples, -1) # shape = (8000, 1)\n",
    "    beta_sex_trace = idata.posterior['beta_p_x_sex'].values.reshape(n_samples, -1) # shape = (8000, 1)\n",
    "\n",
    "    # Use the year and sex to get x_sdi, x_tob from the df, output_template\n",
    "    # Return a single df of shape (204, 2)\n",
    "    x_sdi_tob_df = output_template.loc[\n",
    "        (output_template['year'] == year) & (output_template['sex'] == sex),\n",
    "        ['location_id', 'x_sdi', 'x_tob']\n",
    "    ].reset_index(drop=True)\n",
    "    \n",
    "    if sex == 'Male':\n",
    "        x_sdi_tob_df['x_sex'] = 0.5\n",
    "    elif sex == 'Female':\n",
    "        x_sdi_tob_df['x_sex'] = -0.5\n",
    "    \n",
    "    # check if location_id is in the df\n",
    "    if location_id not in x_sdi_tob_df['location_id'].values:\n",
    "        leaves = [n for n in nx.bfs_tree(region_id_graph, location_id) if region_id_graph.out_degree(n) == 0]\n",
    "        print(leaves)\n",
    "        print(len(leaves))\n",
    "    else:\n",
    "        leaves = [location_id]\n",
    "\n",
    "    # Filter x_sdi_tob_df using the leaves\n",
    "    x_sdi_tob_df = x_sdi_tob_df[x_sdi_tob_df['location_id'].isin(leaves)]\n",
    "    \n",
    "    # use the leaves and the output_template to get the population (pop)\n",
    "    pop_df = output_template.loc[\n",
    "        (output_template['year'] == year) & (output_template['sex'] == sex),\n",
    "        ['location_id', 'pop']\n",
    "    ].reset_index(drop=True)\n",
    "    # sum all and normalize to get the population ratio (pop_ratio)\n",
    "    pop_df['pop_ratio'] = pop_df['pop'] / pop_df['pop'].sum()\n",
    "    \n",
    "\n",
    "    # multiply beta_sdi_trace to x_sdi (second column named x_sdi)\n",
    "    x_sdi_values = x_sdi_tob_df['x_sdi'].values\n",
    "    x_tob_values = x_sdi_tob_df['x_tob'].values\n",
    "    x_sex_values = x_sdi_tob_df['x_sex'].values\n",
    "    fixed_effect_sdi = beta_sdi_trace * x_sdi_values                      # shape = (8000, n_countries)\n",
    "    fixed_effect_tob = beta_tob_trace * x_tob_values                      # shape = (8000, n_countries)\n",
    "    fixed_effect_sex = beta_sex_trace * x_sex_values                      # shape = (8000, n_countries)\n",
    "    fixed_effect = fixed_effect_sdi + fixed_effect_tob + fixed_effect_sex # shape = (8000, n_countries)\n",
    "    \n",
    "\n",
    "    \n",
    "    # CASE 2.2: Calculate the random effects\n",
    "    # For each leaf (country), \n",
    "    print(alpha)\n",
    "    \n",
    "\n",
    "\n",
    "    return h_a_trace_clipped\n",
    "    "
   ]
  },
  {
   "cell_type": "code",
   "execution_count": 120,
   "metadata": {},
   "outputs": [
    {
     "name": "stdout",
     "output_type": "stream",
     "text": [
      "Percentage of clipped values: 0.00% (0 out of 744,000)\n"
     ]
    },
    {
     "ename": "AttributeError",
     "evalue": "'list' object has no attribute 'shape'",
     "output_type": "error",
     "traceback": [
      "\u001b[0;31m---------------------------------------------------------------------------\u001b[0m",
      "\u001b[0;31mAttributeError\u001b[0m                            Traceback (most recent call last)",
      "Cell \u001b[0;32mIn[120], line 10\u001b[0m\n\u001b[1;32m      1\u001b[0m \u001b[38;5;66;03m# Global: 1\u001b[39;00m\n\u001b[1;32m      2\u001b[0m \n\u001b[1;32m      3\u001b[0m \u001b[38;5;66;03m# High-income Asia Pacific: 65\u001b[39;00m\n\u001b[0;32m   (...)\u001b[0m\n\u001b[1;32m      8\u001b[0m \n\u001b[1;32m      9\u001b[0m \u001b[38;5;66;03m# USA: 102\u001b[39;00m\n\u001b[0;32m---> 10\u001b[0m pred \u001b[38;5;241m=\u001b[39m \u001b[43mpredict_for_v2\u001b[49m\u001b[43m(\u001b[49m\u001b[43m \u001b[49m\u001b[43mpm_model\u001b[49m\u001b[43m            \u001b[49m\u001b[38;5;241;43m=\u001b[39;49m\u001b[43m \u001b[49m\u001b[43mpm_model\u001b[49m\u001b[43m,\u001b[49m\n\u001b[1;32m     11\u001b[0m \u001b[43m                                \u001b[49m\u001b[43midata\u001b[49m\u001b[43m               \u001b[49m\u001b[38;5;241;43m=\u001b[39;49m\u001b[43m \u001b[49m\u001b[43midata\u001b[49m\u001b[43m,\u001b[49m\u001b[43m \u001b[49m\n\u001b[1;32m     12\u001b[0m \u001b[43m                                \u001b[49m\u001b[43minclude_covariates\u001b[49m\u001b[43m  \u001b[49m\u001b[38;5;241;43m=\u001b[39;49m\u001b[43m \u001b[49m\u001b[38;5;28;43;01mTrue\u001b[39;49;00m\u001b[43m,\u001b[49m\n\u001b[1;32m     13\u001b[0m \u001b[43m                                \u001b[49m\u001b[43mlower\u001b[49m\u001b[43m               \u001b[49m\u001b[38;5;241;43m=\u001b[39;49m\u001b[43m \u001b[49m\u001b[38;5;241;43m0.0\u001b[39;49m\u001b[43m,\u001b[49m\n\u001b[1;32m     14\u001b[0m \u001b[43m                                \u001b[49m\u001b[43mupper\u001b[49m\u001b[43m               \u001b[49m\u001b[38;5;241;43m=\u001b[39;49m\u001b[43m \u001b[49m\u001b[38;5;241;43m1.0\u001b[39;49m\u001b[43m,\u001b[49m\n\u001b[1;32m     15\u001b[0m \u001b[43m                                \u001b[49m\u001b[43myear\u001b[49m\u001b[43m                \u001b[49m\u001b[38;5;241;43m=\u001b[39;49m\u001b[43m \u001b[49m\u001b[38;5;241;43m2005\u001b[39;49m\u001b[43m,\u001b[49m\n\u001b[1;32m     16\u001b[0m \u001b[43m                                \u001b[49m\u001b[43mlocation_id\u001b[49m\u001b[43m         \u001b[49m\u001b[38;5;241;43m=\u001b[39;49m\u001b[43m \u001b[49m\u001b[38;5;241;43m66\u001b[39;49m\u001b[43m,\u001b[49m\n\u001b[1;32m     17\u001b[0m \u001b[43m                                \u001b[49m\u001b[43msex\u001b[49m\u001b[43m                 \u001b[49m\u001b[38;5;241;43m=\u001b[39;49m\u001b[43m \u001b[49m\u001b[38;5;124;43m'\u001b[39;49m\u001b[38;5;124;43mFemale\u001b[39;49m\u001b[38;5;124;43m'\u001b[39;49m\u001b[43m,\u001b[49m\n\u001b[1;32m     18\u001b[0m \u001b[43m                                \u001b[49m\u001b[43m)\u001b[49m\n",
      "Cell \u001b[0;32mIn[119], line 128\u001b[0m, in \u001b[0;36mpredict_for_v2\u001b[0;34m(pm_model, idata, include_covariates, lower, upper, year, location_id, sex)\u001b[0m\n\u001b[1;32m    122\u001b[0m fixed_effect \u001b[38;5;241m=\u001b[39m fixed_effect_sdi \u001b[38;5;241m+\u001b[39m fixed_effect_tob \u001b[38;5;241m+\u001b[39m fixed_effect_sex \u001b[38;5;66;03m# shape = (8000, n_countries)\u001b[39;00m\n\u001b[1;32m    126\u001b[0m \u001b[38;5;66;03m# CASE 2.2: Calculate the random effects\u001b[39;00m\n\u001b[1;32m    127\u001b[0m \u001b[38;5;66;03m# For each leaf (country), \u001b[39;00m\n\u001b[0;32m--> 128\u001b[0m \u001b[38;5;28mprint\u001b[39m(\u001b[43malpha\u001b[49m\u001b[38;5;241;43m.\u001b[39;49m\u001b[43mshape\u001b[49m)\n\u001b[1;32m    132\u001b[0m \u001b[38;5;28;01mreturn\u001b[39;00m h_a_trace_clipped\n",
      "\u001b[0;31mAttributeError\u001b[0m: 'list' object has no attribute 'shape'"
     ]
    }
   ],
   "source": [
    "# Global: 1\n",
    "\n",
    "# High-income Asia Pacific: 65\n",
    "    # Brunei Darussalam: 66\n",
    "    # Japan: 67\n",
    "    # Republic of Korea: 68\n",
    "    # Singapore: 69\n",
    "\n",
    "# USA: 102\n",
    "pred = predict_for_v2( pm_model            = pm_model,\n",
    "                                idata               = idata, \n",
    "                                include_covariates  = True,\n",
    "                                lower               = 0.0,\n",
    "                                upper               = 1.0,\n",
    "                                year                = 2005,\n",
    "                                location_id         = 66,\n",
    "                                sex                 = 'Female',\n",
    "                                )"
   ]
  },
  {
   "cell_type": "code",
   "execution_count": 56,
   "metadata": {},
   "outputs": [
    {
     "name": "stderr",
     "output_type": "stream",
     "text": [
      "/Users/Dev/AMD/dismod_mr_migrated/reforged_mr/pipeline.py:948: FutureWarning: hdi currently interprets 2d data as (draw, shape) but this will change in a future release to (chain, draw) for coherence with other functions\n",
      "  hpd = pm.stats.hdi(pred, hdi_prob=0.95)\n"
     ]
    },
    {
     "data": {
      "image/png": "[encoded data removed]",
      "text/plain": [
       "<Figure size 1000x400 with 1 Axes>"
      ]
     },
     "metadata": {},
     "output_type": "display_data"
    }
   ],
   "source": [
    "pipeline.visualize_pred(pred, pm_model.shared_data[\"data\"])"
   ]
  },
  {
   "cell_type": "code",
   "execution_count": null,
   "metadata": {},
   "outputs": [],
   "source": [
    "# Execute above cells"
   ]
  }
 ],
 "metadata": {
  "kernelspec": {
   "display_name": "amd",
   "language": "python",
   "name": "python3"
  },
  "language_info": {
   "codemirror_mode": {
    "name": "ipython",
    "version": 3
   },
   "file_extension": ".py",
   "mimetype": "text/x-python",
   "name": "python",
   "nbconvert_exporter": "python",
   "pygments_lexer": "ipython3",
   "version": "3.9.7"
  }
 },
 "nbformat": 4,
 "nbformat_minor": 2
}
