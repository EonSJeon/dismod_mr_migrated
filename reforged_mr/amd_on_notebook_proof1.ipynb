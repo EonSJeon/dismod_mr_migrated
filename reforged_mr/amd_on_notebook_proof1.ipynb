{
 "cells": [
  {
   "cell_type": "code",
   "execution_count": 1,
   "id": "a10dd0b1",
   "metadata": {},
   "outputs": [],
   "source": [
    "# Import\n",
    "\n",
    "import pandas as pd\n",
    "import numpy as np\n",
    "import pymc as pm\n",
    "import arviz as az\n",
    "import json\n",
    "import re\n",
    "import os\n",
    "import networkx as nx"
   ]
  },
  {
   "cell_type": "code",
   "execution_count": 2,
   "id": "0b42542d",
   "metadata": {},
   "outputs": [],
   "source": [
    "def load_jsonc(filepath):\n",
    "    \"\"\"Load JSONC file (JSON with comments)\"\"\"\n",
    "    with open(filepath, 'r', encoding='utf-8') as f:\n",
    "        content = f.read()\n",
    "    \n",
    "    # Remove single-line comments (// ...)\n",
    "    content = re.sub(r'//.*?$', '', content, flags=re.MULTILINE)\n",
    "    \n",
    "    # Remove multi-line comments (/* ... */)\n",
    "    content = re.sub(r'/\\*.*?\\*/', '', content, flags=re.DOTALL)\n",
    "    \n",
    "    # Remove trailing commas before closing brackets/braces\n",
    "    content = re.sub(r',\\s*([}\\]])', r'\\1', content)\n",
    "    \n",
    "    return json.loads(content)\n",
    "\n",
    "def load_json(filepath):\n",
    "    \"\"\"Load regular JSON file\"\"\"\n",
    "    with open(filepath, 'r', encoding='utf-8') as f:\n",
    "        return json.load(f)\n",
    "\n",
    "def load_any(filepath):\n",
    "    \"\"\"Load either JSON or JSONC file based on extension\"\"\"\n",
    "    if filepath.endswith('.jsonc'):\n",
    "        return load_jsonc(filepath)\n",
    "    else:\n",
    "        return load_json(filepath)"
   ]
  },
  {
   "cell_type": "code",
   "execution_count": 3,
   "id": "bdfc5e84",
   "metadata": {},
   "outputs": [
    {
     "name": "stdout",
     "output_type": "stream",
     "text": [
      "amd_sim_data                   parameters keys: dict_keys(['rr', 'f', 'i', 'age_weights', 'ages', 'p', 'r', 'pf', 'X'])\n",
      "amd_sim_data_Early             parameters keys: dict_keys(['rr', 'f', 'i', 'age_weights', 'ages', 'p', 'r', 'pf', 'X'])\n",
      "amd_sim_data_Intermediate      parameters keys: dict_keys(['rr', 'f', 'i', 'age_weights', 'ages', 'p', 'r', 'pf', 'X'])\n",
      "amd_sim_data_Late-dry          parameters keys: dict_keys(['rr', 'f', 'i', 'age_weights', 'ages', 'p', 'r', 'pf', 'X'])\n",
      "amd_sim_data_Late-wet          parameters keys: dict_keys(['rr', 'f', 'i', 'age_weights', 'ages', 'p', 'r', 'pf', 'X'])\n"
     ]
    }
   ],
   "source": [
    "# TASK 1: relocate age_weights to parameters.jsonc file\n",
    "input_dir = './input_data'\n",
    "stage_dirs = ['amd_sim_data', 'amd_sim_data_Early', 'amd_sim_data_Intermediate', 'amd_sim_data_Late-dry', 'amd_sim_data_Late-wet']\n",
    "\n",
    "for stage_dir in stage_dirs:\n",
    "    parameters = load_jsonc(f'{input_dir}/{stage_dir}/parameters.jsonc')\n",
    "    print(f'{stage_dir:<30} parameters keys: {parameters.keys()}')"
   ]
  },
  {
   "cell_type": "code",
   "execution_count": 4,
   "id": "97c4128b",
   "metadata": {},
   "outputs": [
    {
     "name": "stdout",
     "output_type": "stream",
     "text": [
      "number of rows: 207\n",
      "number of unique location_id: 18\n",
      "--------------------------------\n",
      "number of nodes: 233\n",
      "number of edges: 232\n"
     ]
    }
   ],
   "source": [
    "# TASK 2: update Load based on region_id_graph\n",
    "stage_dirs = ['amd_sim_data', 'amd_sim_data_Early', 'amd_sim_data_Intermediate', 'amd_sim_data_Late-dry', 'amd_sim_data_Late-wet']\n",
    "stage = stage_dirs[2] # Intermediate\n",
    "\n",
    "#------------------------------------------------------------------------------------------------------------#\n",
    "# Read input data\n",
    "\n",
    "input_data = pd.read_csv(f'{input_dir}/{stage}/input_data.csv')\n",
    "output_template = pd.read_csv(f'{input_dir}/{stage}/output_template.csv')\n",
    "parameters = load_any(f'{input_dir}/{stage}/parameters.jsonc')    # dict. {'p': {}, 'age_weights': [], 'ages: []}\n",
    "hierarchy = load_any(f'{input_dir}/{stage}/hierarchy.json')       # dict of lists. {'nodes': [], 'edges': []}\n",
    "nodes_to_fit = load_any(f'{input_dir}/{stage}/nodes_to_fit.json') # LIST of strings\n",
    "\n",
    "print(f'number of rows: {len(input_data)}')\n",
    "print(f'number of unique location_id: {input_data[\"location_id\"].nunique()}')\n",
    "print('--------------------------------')\n",
    "\n",
    "#------------------------------------------------------------------------------------------------------------#\n",
    "# Create region_graph\n",
    "nodes = hierarchy['nodes']\n",
    "name_to_id = {} # warning: this does not handle duplicate names\n",
    "id_to_name = {}\n",
    "\n",
    "region_id_graph = nx.DiGraph()\n",
    "\n",
    "for node in nodes:\n",
    "  name_to_id[node[0]] = node[1]['location_id']\n",
    "  id_to_name[node[1]['location_id']] = node[0]\n",
    "\n",
    "  # create region_id_graph\n",
    "  region_id_graph.add_node(node[1]['location_id'],\n",
    "                            level = node[1]['level'],\n",
    "                            parent_id = node[1]['parent_id'],\n",
    "                            name = node[0]\n",
    "                          )\n",
    "\n",
    "  my_id = node[1]['location_id']\n",
    "  parent_id = node[1]['parent_id']\n",
    "  if my_id != parent_id: # if my_id is not the root node\n",
    "    region_id_graph.add_edge(parent_id, my_id)\n",
    "\n",
    "print(f\"number of nodes: {region_id_graph.number_of_nodes()}\") \n",
    "print(f\"number of edges: {region_id_graph.number_of_edges()}\")"
   ]
  },
  {
   "cell_type": "code",
   "execution_count": 5,
   "id": "1cba1b0c",
   "metadata": {},
   "outputs": [
    {
     "name": "stdout",
     "output_type": "stream",
     "text": [
      "United States Virgin Islands\n",
      "3\n",
      "104\n",
      "United States Virgin Islands\n"
     ]
    }
   ],
   "source": [
    "print(id_to_name[422]) # IDs are not incremental\n",
    "\n",
    "print(region_id_graph.nodes[422]['level'])\n",
    "print(region_id_graph.nodes[422]['parent_id'])\n",
    "print(region_id_graph.nodes[422]['name'])"
   ]
  },
  {
   "cell_type": "code",
   "execution_count": 6,
   "id": "826289aa",
   "metadata": {},
   "outputs": [
    {
     "name": "stdout",
     "output_type": "stream",
     "text": [
      "204\n",
      "21\n",
      "7\n"
     ]
    }
   ],
   "source": [
    "# TASK 3: define \"coords\"\n",
    "\n",
    "country_list = []\n",
    "region_list = []\n",
    "super_region_list = []\n",
    "\n",
    "for node in hierarchy['nodes']:\n",
    "  if node[1]['level'] == 3:\n",
    "    country_list.append(node[1]['location_id'])\n",
    "  elif node[1]['level'] == 2:\n",
    "    region_list.append(node[1]['location_id'])\n",
    "  elif node[1]['level'] == 1:\n",
    "    super_region_list.append(node[1]['location_id'])\n",
    "    \n",
    "coords = {\n",
    "    \"country\":      country_list,\n",
    "    \"region\":       region_list,\n",
    "    \"super_region\": super_region_list,\n",
    "}\n",
    "\n",
    "print(len(country_list))\n",
    "print(len(region_list))\n",
    "print(len(super_region_list))"
   ]
  },
  {
   "cell_type": "code",
   "execution_count": 7,
   "id": "590211ac",
   "metadata": {},
   "outputs": [
    {
     "data": {
      "text/html": [
       "<div>\n",
       "<style scoped>\n",
       "    .dataframe tbody tr th:only-of-type {\n",
       "        vertical-align: middle;\n",
       "    }\n",
       "\n",
       "    .dataframe tbody tr th {\n",
       "        vertical-align: top;\n",
       "    }\n",
       "\n",
       "    .dataframe thead th {\n",
       "        text-align: right;\n",
       "    }\n",
       "</style>\n",
       "<table border=\"1\" class=\"dataframe\">\n",
       "  <thead>\n",
       "    <tr style=\"text-align: right;\">\n",
       "      <th></th>\n",
       "      <th>area</th>\n",
       "      <th>location_id</th>\n",
       "      <th>stage</th>\n",
       "      <th>stage_id</th>\n",
       "      <th>sex</th>\n",
       "      <th>sex_id</th>\n",
       "      <th>year_id</th>\n",
       "      <th>age_start</th>\n",
       "      <th>age_end</th>\n",
       "      <th>effective_sample_size</th>\n",
       "      <th>value</th>\n",
       "      <th>standard_error</th>\n",
       "      <th>x_sdi</th>\n",
       "      <th>x_tob</th>\n",
       "      <th>data_type</th>\n",
       "      <th>upper_ci</th>\n",
       "      <th>lower_ci</th>\n",
       "      <th>age_weights</th>\n",
       "    </tr>\n",
       "  </thead>\n",
       "  <tbody>\n",
       "    <tr>\n",
       "      <th>0</th>\n",
       "      <td>Netherlands</td>\n",
       "      <td>89</td>\n",
       "      <td>Intermediate</td>\n",
       "      <td>5</td>\n",
       "      <td>Male</td>\n",
       "      <td>1</td>\n",
       "      <td>1990</td>\n",
       "      <td>55</td>\n",
       "      <td>64</td>\n",
       "      <td>1418.0</td>\n",
       "      <td>0.040903</td>\n",
       "      <td>0.005260</td>\n",
       "      <td>0.794612</td>\n",
       "      <td>0.434156</td>\n",
       "      <td>p</td>\n",
       "      <td>NaN</td>\n",
       "      <td>NaN</td>\n",
       "      <td>NaN</td>\n",
       "    </tr>\n",
       "    <tr>\n",
       "      <th>1</th>\n",
       "      <td>Netherlands</td>\n",
       "      <td>89</td>\n",
       "      <td>Intermediate</td>\n",
       "      <td>5</td>\n",
       "      <td>Female</td>\n",
       "      <td>2</td>\n",
       "      <td>1990</td>\n",
       "      <td>55</td>\n",
       "      <td>64</td>\n",
       "      <td>1802.0</td>\n",
       "      <td>0.033851</td>\n",
       "      <td>0.004260</td>\n",
       "      <td>0.794612</td>\n",
       "      <td>0.383810</td>\n",
       "      <td>p</td>\n",
       "      <td>NaN</td>\n",
       "      <td>NaN</td>\n",
       "      <td>NaN</td>\n",
       "    </tr>\n",
       "    <tr>\n",
       "      <th>2</th>\n",
       "      <td>Netherlands</td>\n",
       "      <td>89</td>\n",
       "      <td>Intermediate</td>\n",
       "      <td>5</td>\n",
       "      <td>Male</td>\n",
       "      <td>1</td>\n",
       "      <td>1990</td>\n",
       "      <td>65</td>\n",
       "      <td>74</td>\n",
       "      <td>1382.0</td>\n",
       "      <td>0.072359</td>\n",
       "      <td>0.006969</td>\n",
       "      <td>0.794612</td>\n",
       "      <td>0.434156</td>\n",
       "      <td>p</td>\n",
       "      <td>NaN</td>\n",
       "      <td>NaN</td>\n",
       "      <td>NaN</td>\n",
       "    </tr>\n",
       "    <tr>\n",
       "      <th>3</th>\n",
       "      <td>Netherlands</td>\n",
       "      <td>89</td>\n",
       "      <td>Intermediate</td>\n",
       "      <td>5</td>\n",
       "      <td>Female</td>\n",
       "      <td>2</td>\n",
       "      <td>1990</td>\n",
       "      <td>65</td>\n",
       "      <td>74</td>\n",
       "      <td>1865.0</td>\n",
       "      <td>0.036997</td>\n",
       "      <td>0.004371</td>\n",
       "      <td>0.794612</td>\n",
       "      <td>0.383810</td>\n",
       "      <td>p</td>\n",
       "      <td>NaN</td>\n",
       "      <td>NaN</td>\n",
       "      <td>NaN</td>\n",
       "    </tr>\n",
       "    <tr>\n",
       "      <th>4</th>\n",
       "      <td>Netherlands</td>\n",
       "      <td>89</td>\n",
       "      <td>Intermediate</td>\n",
       "      <td>5</td>\n",
       "      <td>Male</td>\n",
       "      <td>1</td>\n",
       "      <td>1990</td>\n",
       "      <td>75</td>\n",
       "      <td>84</td>\n",
       "      <td>796.0</td>\n",
       "      <td>0.103015</td>\n",
       "      <td>0.010774</td>\n",
       "      <td>0.794612</td>\n",
       "      <td>0.434156</td>\n",
       "      <td>p</td>\n",
       "      <td>NaN</td>\n",
       "      <td>NaN</td>\n",
       "      <td>NaN</td>\n",
       "    </tr>\n",
       "  </tbody>\n",
       "</table>\n",
       "</div>"
      ],
      "text/plain": [
       "          area  location_id         stage  stage_id     sex  sex_id  year_id   \n",
       "0  Netherlands           89  Intermediate         5    Male       1     1990  \\\n",
       "1  Netherlands           89  Intermediate         5  Female       2     1990   \n",
       "2  Netherlands           89  Intermediate         5    Male       1     1990   \n",
       "3  Netherlands           89  Intermediate         5  Female       2     1990   \n",
       "4  Netherlands           89  Intermediate         5    Male       1     1990   \n",
       "\n",
       "   age_start  age_end  effective_sample_size     value  standard_error   \n",
       "0         55       64                 1418.0  0.040903        0.005260  \\\n",
       "1         55       64                 1802.0  0.033851        0.004260   \n",
       "2         65       74                 1382.0  0.072359        0.006969   \n",
       "3         65       74                 1865.0  0.036997        0.004371   \n",
       "4         75       84                  796.0  0.103015        0.010774   \n",
       "\n",
       "      x_sdi     x_tob data_type  upper_ci  lower_ci  age_weights  \n",
       "0  0.794612  0.434156         p       NaN       NaN          NaN  \n",
       "1  0.794612  0.383810         p       NaN       NaN          NaN  \n",
       "2  0.794612  0.434156         p       NaN       NaN          NaN  \n",
       "3  0.794612  0.383810         p       NaN       NaN          NaN  \n",
       "4  0.794612  0.434156         p       NaN       NaN          NaN  "
      ]
     },
     "execution_count": 7,
     "metadata": {},
     "output_type": "execute_result"
    }
   ],
   "source": [
    "# Utilizes id_to_name to print the name of the location\n",
    "def describe():\n",
    "        G = region_id_graph\n",
    "        df = input_data\n",
    "        for n in nx.dfs_postorder_nodes(G, 1):\n",
    "            cnt = df['location_id'].eq(n).sum() + sum(G.nodes[c].get('cnt', 0) for c in G.successors(n))\n",
    "            G.nodes[n]['cnt'] = int(cnt)\n",
    "            G.nodes[n]['depth'] = nx.shortest_path_length(G, 1, n)\n",
    "            \n",
    "        for n in nx.dfs_preorder_nodes(G, 1):\n",
    "            if G.nodes[n]['cnt'] > 0:\n",
    "                print('  '*G.nodes[n]['depth'] + id_to_name[n], G.nodes[n]['cnt'])\n",
    "\n",
    "# describe()\n",
    "\n",
    "def keep():\n",
    "    pass\n",
    "    # Suggestion: filter input_data during \"LOAD\"\n",
    "\n",
    "def filter_input_data_by_data_type(input_data: pd.DataFrame, data_type: str) -> pd.DataFrame:\n",
    "        if not input_data.empty:\n",
    "            return input_data[input_data['data_type'] == data_type]\n",
    "        return input_data\n",
    "\n",
    "# since our input_data only has 'p' data, this will return the same input_data\n",
    "filter_input_data_by_data_type(input_data, 'p').head() "
   ]
  },
  {
   "cell_type": "code",
   "execution_count": 8,
   "id": "8b5d9f27",
   "metadata": {},
   "outputs": [],
   "source": [
    "# process.asr() | parameters\n",
    "# ------------------------------------------------------------\n",
    "data_type                = 'p'\n",
    "reference_area           = 'Global'\n",
    "reference_sex            = 'Both'\n",
    "reference_year           = 'all'\n",
    "mu_age                   = None\n",
    "mu_age_parent            = None\n",
    "sigma_age_parent         = None\n",
    "rate_type                = 'neg_binom'\n",
    "lower_bound              = None\n",
    "interpolation_method     = 'linear'\n",
    "include_covariates       = True\n",
    "zero_re                  = False\n",
    "# ------------------------------------------------------------"
   ]
  },
  {
   "cell_type": "code",
   "execution_count": 9,
   "id": "7dc3ce0c",
   "metadata": {},
   "outputs": [
    {
     "name": "stdout",
     "output_type": "stream",
     "text": [
      "ages: [ 2.  3.  4.  5.  6.  7.  8.  9. 10. 11. 12. 13. 14. 15. 16. 17. 18. 19.\n",
      " 20. 21. 22. 23. 24. 25. 26. 27. 28. 29. 30. 31. 32. 33. 34. 35. 36. 37.\n",
      " 38. 39. 40. 41. 42. 43. 44. 45. 46. 47. 48. 49. 50. 51. 52. 53. 54. 55.\n",
      " 56. 57. 58. 59. 60. 61. 62. 63. 64. 65. 66. 67. 68. 69. 70. 71. 72. 73.\n",
      " 74. 75. 76. 77. 78. 79. 80. 81. 82. 83. 84. 85. 86. 87. 88. 89. 90. 91.\n",
      " 92. 93. 94.] | type: <class 'numpy.ndarray'> | ages.dtype: float64\n"
     ]
    }
   ],
   "source": [
    "# process.asr() | local variables\n",
    "# ------------------------------------------------------------\n",
    "ages = np.array(parameters['ages'], dtype=np.float64)\n",
    "age_weights = np.array(parameters['age_weights'], dtype=np.float64)\n",
    "data = filter_input_data_by_data_type(input_data, data_type)\n",
    "lb_data = filter_input_data_by_data_type(input_data, lower_bound) if lower_bound else None\n",
    "params_of_data_type = parameters.get(data_type, {})\n",
    "\n",
    "# check: mu_age_parent & sigma_age_parent\n",
    "#  if either mu_age_parent or sigma_age_parent is NaN, set them to None\n",
    "if (isinstance(mu_age_parent, np.ndarray) and np.isnan(mu_age_parent).any()) or \\\n",
    "    (isinstance(sigma_age_parent, np.ndarray) and np.isnan(sigma_age_parent).any()):\n",
    "\n",
    "    mu_age_parent = None\n",
    "    sigma_age_parent = None\n",
    "# ------------------------------------------------------------\n",
    "print(f'ages: {ages} | type: {type(ages)} | ages.dtype: {ages.dtype}')"
   ]
  },
  {
   "cell_type": "code",
   "execution_count": 10,
   "id": "449ad149",
   "metadata": {},
   "outputs": [
    {
     "name": "stdout",
     "output_type": "stream",
     "text": [
      "knots: [ 2. 30. 45. 60. 80. 94.] | type: <class 'numpy.ndarray'> | knots.dtype: float64\n",
      "smoothing: 0.5\n"
     ]
    }
   ],
   "source": [
    "# process.asr() | [1] Prepare spline.spline (knots, smoothing)\n",
    "# ------------------------------------------------------------\n",
    "knots = np.array(params_of_data_type.get('parameter_age_mesh', np.arange(ages[0], ages[-1] + 1, 5)), dtype=np.float64)\n",
    "# knots = np.ndarry: array([ 2, 30, 45, 60, 80, 94])\n",
    "\n",
    "smooth_map = {'No Prior': np.inf, 'Slightly': 0.5, 'Moderately': 0.05, 'Very': 0.005}  # type(np.inf) == float\n",
    "smoothness_param = params_of_data_type.get('smoothness')\n",
    "\n",
    "if isinstance(smoothness_param, dict): \n",
    "    amount = smoothness_param.get('amount')\n",
    "\n",
    "    if isinstance(amount, (int, float)): # smoothness_param is dict, and amount is int or float\n",
    "        smoothing = float(amount)\n",
    "    else:                                # smoothness_param is dict, and amount may be string\n",
    "        smoothing = smooth_map.get(amount, 0.0)\n",
    "\n",
    "else:                                    # smoothness_param may be string\n",
    "    smoothing = smooth_map.get(smoothness_param, 0.0)\n",
    "# after all, smoothing is float\n",
    "\n",
    "# ------------------------------------------------------------\n",
    "print(f'knots: {knots} | type: {type(knots)} | knots.dtype: {knots.dtype}')\n",
    "print(f'smoothing: {smoothing}')"
   ]
  },
  {
   "cell_type": "code",
   "execution_count": 11,
   "id": "b23f5f97",
   "metadata": {},
   "outputs": [],
   "source": [
    "def inspect_model(model, var_name=None, show_shared_data=True):\n",
    "    \"\"\"\n",
    "    Inspect a PyMC model. If var_name is None, print a summary,\n",
    "    plus any shared_data contents. Otherwise, show details about a specific variable.\n",
    "    \"\"\"\n",
    "    if var_name is None:\n",
    "        print(\"📊 Model Summary:\")\n",
    "        print(f\"  • Free RVs       : {len(model.free_RVs)} {[rv.name for rv in model.free_RVs]}\")\n",
    "        print(f\"  • Observed RVs   : {len(model.observed_RVs)} {[rv.name for rv in model.observed_RVs]}\")\n",
    "        print(f\"  • Deterministics : {len(model.deterministics)} {[rv.name for rv in model.deterministics]}\")\n",
    "        print(f\"  • Potentials     : {len(model.potentials)} {[pot.name for pot in model.potentials]}\")\n",
    "        print(f\"  • Total Named RVs: {len(model.named_vars)}\")\n",
    "\n",
    "        # --- Print shared_data contents if present ---\n",
    "        if show_shared_data:\n",
    "            if hasattr(model, \"shared_data\"):\n",
    "                sd = model.shared_data\n",
    "                if isinstance(sd, dict) and sd:\n",
    "                    print(\"\\n🔖 shared_data:\")\n",
    "                    for key, val in sd.items():\n",
    "                        if isinstance(val, np.ndarray):\n",
    "                            print(f\"  • {key:15s}: array, shape={val.shape}, dtype={val.dtype}\")\n",
    "                        else:\n",
    "                            print(f\"  • {key:15s}: {val!r}\")\n",
    "\n",
    "    else:\n",
    "        var_dict = model.named_vars\n",
    "        if var_name not in var_dict:\n",
    "            print(f\"❌ Variable '{var_name}' not found in model.named_vars.\")\n",
    "            return\n",
    "\n",
    "        var = var_dict[var_name]\n",
    "        print(f\"🔍 Variable: {var_name}\")\n",
    "        print(f\"  • Type     : {type(var)}\")\n",
    "        print(f\"  • Shape    : {getattr(var, 'shape', None)}\")\n",
    "        print(f\"  • DType    : {getattr(var, 'dtype', None)}\")\n",
    "        print(f\"  • Owner OP : {var.owner.op if getattr(var, 'owner', None) else 'None'}\")\n",
    "\n",
    "        if hasattr(var, 'distribution'):\n",
    "            dist = var.distribution\n",
    "            print(f\"  • Distribution: {dist.__class__.__name__}\")\n",
    "            if hasattr(dist, 'dist'):\n",
    "                print(f\"    - PyMC Dist : {dist.dist.__class__.__name__}\")\n",
    "            if hasattr(dist, 'kwargs'):\n",
    "                print(\"    - Parameters:\")\n",
    "                for k, v in dist.kwargs.items():\n",
    "                    print(f\"      {k}: {v}\")\n",
    "\n",
    "        if hasattr(var, 'eval'):\n",
    "            try:\n",
    "                val = var.eval()\n",
    "                print(f\"  • Current value (eval): {val}\")\n",
    "            except Exception as e:\n",
    "                print(f\"  • Could not evaluate variable: {e}\")\n"
   ]
  },
  {
   "cell_type": "code",
   "execution_count": 12,
   "id": "6bd8a4f9",
   "metadata": {},
   "outputs": [
    {
     "name": "stdout",
     "output_type": "stream",
     "text": [
      "📊 Model Summary:\n",
      "  • Free RVs       : 0 []\n",
      "  • Observed RVs   : 0 []\n",
      "  • Deterministics : 0 []\n",
      "  • Potentials     : 0 []\n",
      "  • Total Named RVs: 0\n",
      "\n",
      "🔖 shared_data:\n",
      "  • data_type      : 'p'\n",
      "  • ages           : array, shape=(93,), dtype=float64\n",
      "  • age_weights    : array, shape=(101,), dtype=float64\n",
      "  • data           :                          area  location_id         stage  stage_id     sex   \n",
      "0                 Netherlands           89  Intermediate         5    Male  \\\n",
      "1                 Netherlands           89  Intermediate         5  Female   \n",
      "2                 Netherlands           89  Intermediate         5    Male   \n",
      "3                 Netherlands           89  Intermediate         5  Female   \n",
      "4                 Netherlands           89  Intermediate         5    Male   \n",
      "..                        ...          ...           ...       ...     ...   \n",
      "202                   Ireland           84  Intermediate         5    Both   \n",
      "203                   Germany           81  Intermediate         5    Both   \n",
      "204        Russian Federation           62  Intermediate         5    Both   \n",
      "205  United States of America          102  Intermediate         5    Both   \n",
      "206  United States of America          102  Intermediate         5    Both   \n",
      "\n",
      "     sex_id  year_id  age_start  age_end  effective_sample_size     value   \n",
      "0         1     1990         55       64                 1418.0  0.040903  \\\n",
      "1         2     1990         55       64                 1802.0  0.033851   \n",
      "2         1     1990         65       74                 1382.0  0.072359   \n",
      "3         2     1990         65       74                 1865.0  0.036997   \n",
      "4         1     1990         75       84                  796.0  0.103015   \n",
      "..      ...      ...        ...      ...                    ...       ...   \n",
      "202       3     2013         85       99                   47.0  0.170213   \n",
      "203       3     2016         50       95                 4016.0  0.086155   \n",
      "204       3     2017         85       98                  932.0  0.198498   \n",
      "205       3     2018         65       95              2175803.0  0.016000   \n",
      "206       3     2019         65       95              2445163.0  0.016000   \n",
      "\n",
      "     standard_error     x_sdi     x_tob data_type  upper_ci  lower_ci   \n",
      "0          0.005260  0.794612  0.434156         p       NaN       NaN  \\\n",
      "1          0.004260  0.794612  0.383810         p       NaN       NaN   \n",
      "2          0.006969  0.794612  0.434156         p       NaN       NaN   \n",
      "3          0.004371  0.794612  0.383810         p       NaN       NaN   \n",
      "4          0.010774  0.794612  0.434156         p       NaN       NaN   \n",
      "..              ...       ...       ...       ...       ...       ...   \n",
      "202        0.054819  0.838644  0.251643         p       NaN       NaN   \n",
      "203        0.004428  0.890896  0.268396         p       NaN       NaN   \n",
      "204        0.013065  0.795669  0.301889         p       NaN       NaN   \n",
      "205        0.000085  0.855049  0.177130         p       NaN       NaN   \n",
      "206        0.000080  0.858578  0.175695         p       NaN       NaN   \n",
      "\n",
      "     age_weights  \n",
      "0            NaN  \n",
      "1            NaN  \n",
      "2            NaN  \n",
      "3            NaN  \n",
      "4            NaN  \n",
      "..           ...  \n",
      "202          NaN  \n",
      "203          NaN  \n",
      "204          NaN  \n",
      "205          NaN  \n",
      "206          NaN  \n",
      "\n",
      "[207 rows x 18 columns]\n",
      "  • lb_data        : None\n",
      "  • knots          : array, shape=(6,), dtype=float64\n",
      "  • smoothing      : 0.5\n",
      "  • interpolation_method: 'linear'\n",
      "  • params_of_data_type: {'increasing': {'age_start': 2, 'age_end': 94}, 'decreasing': {'age_start': 0, 'age_end': 0}, 'fixed_effects': {}, 'random_effects': {}, 'level_bounds': {'lower': 0.0, 'upper': 1.0}, 'y_maximum': 1.0, 'level_value': {'age_before': 30, 'age_after': 100, 'value': 0.0}, 'parameter_age_mesh': [2, 30, 45, 60, 80, 94], 'heterogeneity': 'Very', 'smoothness': {'age_start': 2, 'amount': 'Slightly', 'age_end': 94}}\n",
      "  • reference_area_id: 1\n",
      "  • reference_sex  : 'Both'\n",
      "  • reference_year : 'all'\n",
      "  • zero_re        : False\n",
      "  • region_id_graph: <networkx.classes.digraph.DiGraph object at 0x107bc2bb0>\n",
      "  • output_template:        location_id   area  year  sex_id     sex           pop     x_tob   \n",
      "0                6  China  1990       1    Male  4.028249e+09  0.608153  \\\n",
      "1                6  China  1991       1    Male  4.077079e+09  0.606039   \n",
      "2                6  China  1992       1    Male  4.124761e+09  0.602314   \n",
      "3                6  China  1993       1    Male  4.170702e+09  0.596882   \n",
      "4                6  China  1994       1    Male  4.215222e+09  0.589594   \n",
      "...            ...    ...   ...     ...     ...           ...       ...   \n",
      "12235          522  Sudan  2015       2  Female  1.220968e+08  0.020120   \n",
      "12236          522  Sudan  2016       2  Female  1.253744e+08  0.019630   \n",
      "12237          522  Sudan  2017       2  Female  1.283511e+08  0.019547   \n",
      "12238          522  Sudan  2018       2  Female  1.308981e+08  0.019498   \n",
      "12239          522  Sudan  2019       2  Female  1.333941e+08  0.019456   \n",
      "\n",
      "          x_sdi  \n",
      "0      0.458669  \n",
      "1      0.467302  \n",
      "2      0.475784  \n",
      "3      0.484354  \n",
      "4      0.492579  \n",
      "...         ...  \n",
      "12235  0.486549  \n",
      "12236  0.496848  \n",
      "12237  0.506884  \n",
      "12238  0.516214  \n",
      "12239  0.525009  \n",
      "\n",
      "[12240 rows x 8 columns]\n"
     ]
    }
   ],
   "source": [
    "pm_model = pm.Model()\n",
    "\n",
    "with pm_model: \n",
    "    pm_model.shared_data = {    # NOTE: this is what used to be \"vars\" from class ModelVars\n",
    "        \"data_type\": data_type,\n",
    "        \"ages\":      ages,\n",
    "        \"age_weights\": age_weights,\n",
    "        \"data\":      data,\n",
    "        \"lb_data\":   lb_data,\n",
    "        \"knots\":     knots,\n",
    "        \"smoothing\": smoothing,\n",
    "        \"interpolation_method\": interpolation_method,\n",
    "        \"params_of_data_type\": params_of_data_type,\n",
    "        \"reference_area_id\": name_to_id[reference_area],\n",
    "        \"reference_sex\": reference_sex,\n",
    "        \"reference_year\": reference_year,\n",
    "        \"zero_re\": zero_re,\n",
    "        \"region_id_graph\": region_id_graph,\n",
    "        \"output_template\": output_template,\n",
    "    }\n",
    "\n",
    "inspect_model(pm_model)"
   ]
  },
  {
   "cell_type": "code",
   "execution_count": 13,
   "id": "6c277825",
   "metadata": {},
   "outputs": [
    {
     "name": "stdout",
     "output_type": "stream",
     "text": [
      "/Users/Dev/AMD/dismod_mr_migrated/reforged_mr/model/spline.py\n"
     ]
    }
   ],
   "source": [
    "# process.asr() | (1) spline.py\n",
    "import model.spline as spline\n",
    "print(spline.__file__)\n",
    "\n",
    "with pm_model:\n",
    "    if mu_age is not None:\n",
    "        unconstrained_mu_age = mu_age\n",
    "        \n",
    "    else:\n",
    "        unconstrained_mu_age = spline.spline()\n",
    "        \n",
    "# unconstrained_mu_age is a PyTensor variable deterministic by gamma_p"
   ]
  },
  {
   "cell_type": "code",
   "execution_count": 14,
   "id": "66869f6a",
   "metadata": {},
   "outputs": [
    {
     "name": "stdout",
     "output_type": "stream",
     "text": [
      "📊 Model Summary:\n",
      "  • Free RVs       : 1 ['gamma_p']\n",
      "  • Observed RVs   : 0 []\n",
      "  • Deterministics : 1 ['mu_age_p']\n",
      "  • Potentials     : 1 ['smooth_p']\n",
      "  • Total Named RVs: 3\n"
     ]
    }
   ],
   "source": [
    "inspect_model(pm_model, show_shared_data=False)"
   ]
  },
  {
   "cell_type": "code",
   "execution_count": 15,
   "id": "5e3e6de2",
   "metadata": {},
   "outputs": [
    {
     "name": "stdout",
     "output_type": "stream",
     "text": [
      "🔍 Variable: gamma_p\n",
      "  • Type     : <class 'pytensor.tensor.var.TensorVariable'>\n",
      "  • Shape    : TensorConstant{(1,) of 6}\n",
      "  • DType    : float64\n",
      "  • Owner OP : normal_rv{0, (0, 0), floatX, False}\n",
      "  • Current value (eval): [ 14.80667945 -13.44607918   8.98352759  -8.89003884  -2.38664258\n",
      "  -2.15818276]\n"
     ]
    }
   ],
   "source": [
    "inspect_model(pm_model, var_name='gamma_p', show_shared_data=False)"
   ]
  },
  {
   "cell_type": "code",
   "execution_count": 16,
   "id": "ec89cb78",
   "metadata": {},
   "outputs": [
    {
     "name": "stdout",
     "output_type": "stream",
     "text": [
      "🔍 Variable: mu_age_p\n",
      "  • Type     : <class 'pytensor.tensor.var.TensorVariable'>\n",
      "  • Shape    : TensorConstant{(1,) of 93}\n",
      "  • DType    : float64\n",
      "  • Owner OP : Elemwise{identity}\n",
      "  • Current value (eval): [2.69438207e+06 2.59815414e+06 2.50192621e+06 2.40569828e+06\n",
      " 2.30947035e+06 2.21324242e+06 2.11701449e+06 2.02078656e+06\n",
      " 1.92455862e+06 1.82833069e+06 1.73210276e+06 1.63587483e+06\n",
      " 1.53964690e+06 1.44341897e+06 1.34719104e+06 1.25096311e+06\n",
      " 1.15473517e+06 1.05850724e+06 9.62279312e+05 8.66051381e+05\n",
      " 7.69823450e+05 6.73595519e+05 5.77367587e+05 4.81139656e+05\n",
      " 3.84911725e+05 2.88683794e+05 1.92455862e+05 9.62279312e+04\n",
      " 1.44691164e-06 5.31379999e+02 1.06276000e+03 1.59413999e+03\n",
      " 2.12551999e+03 2.65689999e+03 3.18827999e+03 3.71965998e+03\n",
      " 4.25103998e+03 4.78241998e+03 5.31379998e+03 5.84517997e+03\n",
      " 6.37655997e+03 6.90793997e+03 7.43931997e+03 7.97069996e+03\n",
      " 7.43931998e+03 6.90793999e+03 6.37656000e+03 5.84518001e+03\n",
      " 5.31380002e+03 4.78242003e+03 4.25104005e+03 3.71966006e+03\n",
      " 3.18828007e+03 2.65690008e+03 2.12552009e+03 1.59414010e+03\n",
      " 1.06276011e+03 5.31380126e+02 1.37754308e-04 4.72775860e-03\n",
      " 9.31776289e-03 1.39077672e-02 1.84977715e-02 2.30877758e-02\n",
      " 2.76777801e-02 3.22677844e-02 3.68577886e-02 4.14477929e-02\n",
      " 4.60377972e-02 5.06278015e-02 5.52178058e-02 5.98078101e-02\n",
      " 6.43978144e-02 6.89878187e-02 7.35778230e-02 7.81678273e-02\n",
      " 8.27578316e-02 8.73478359e-02 9.19378401e-02 9.36233433e-02\n",
      " 9.53088465e-02 9.69943497e-02 9.86798529e-02 1.00365356e-01\n",
      " 1.02050859e-01 1.03736362e-01 1.05421866e-01 1.07107369e-01\n",
      " 1.08792872e-01 1.10478375e-01 1.12163878e-01 1.13849382e-01\n",
      " 1.15534885e-01]\n"
     ]
    }
   ],
   "source": [
    "inspect_model(pm_model, var_name='mu_age_p', show_shared_data=False)"
   ]
  },
  {
   "cell_type": "code",
   "execution_count": 17,
   "id": "118b1161",
   "metadata": {},
   "outputs": [
    {
     "name": "stdout",
     "output_type": "stream",
     "text": [
      "/Users/Dev/AMD/dismod_mr_migrated/reforged_mr/model/priors.py\n"
     ]
    }
   ],
   "source": [
    "# process.asr() | (2) priors.py - level_constraints()\n",
    "import model.priors as priors\n",
    "print(priors.__file__)\n",
    "\n",
    "with pm_model:\n",
    "    constrained_mu_age =priors.level_constraints(unconstrained_mu_age)"
   ]
  },
  {
   "cell_type": "code",
   "execution_count": 18,
   "id": "f45ea5db",
   "metadata": {},
   "outputs": [
    {
     "name": "stdout",
     "output_type": "stream",
     "text": [
      "📊 Model Summary:\n",
      "  • Free RVs       : 1 ['gamma_p']\n",
      "  • Observed RVs   : 0 []\n",
      "  • Deterministics : 2 ['mu_age_p', 'constrained_mu_age_p']\n",
      "  • Potentials     : 2 ['smooth_p', 'parent_similarity_p_level_constraints']\n",
      "  • Total Named RVs: 5\n"
     ]
    }
   ],
   "source": [
    "inspect_model(pm_model, show_shared_data=False)"
   ]
  },
  {
   "cell_type": "code",
   "execution_count": 19,
   "id": "ce9b72f5",
   "metadata": {},
   "outputs": [],
   "source": [
    "# process.asr() | (3) priors.py - derivative_constraints()\n",
    "with pm_model:    \n",
    "    priors.derivative_constraints(mu_age=constrained_mu_age)"
   ]
  },
  {
   "cell_type": "code",
   "execution_count": 20,
   "id": "c4c239ed",
   "metadata": {},
   "outputs": [
    {
     "name": "stdout",
     "output_type": "stream",
     "text": [
      "📊 Model Summary:\n",
      "  • Free RVs       : 1 ['gamma_p']\n",
      "  • Observed RVs   : 0 []\n",
      "  • Deterministics : 2 ['mu_age_p', 'constrained_mu_age_p']\n",
      "  • Potentials     : 3 ['smooth_p', 'parent_similarity_p_level_constraints', 'mu_age_derivative_potential_p']\n",
      "  • Total Named RVs: 6\n"
     ]
    }
   ],
   "source": [
    "inspect_model(pm_model, show_shared_data=False)"
   ]
  },
  {
   "cell_type": "code",
   "execution_count": 21,
   "id": "71be6de5",
   "metadata": {},
   "outputs": [
    {
     "name": "stdout",
     "output_type": "stream",
     "text": [
      "📊 Model Summary:\n",
      "  • Free RVs       : 1 ['gamma_p']\n",
      "  • Observed RVs   : 0 []\n",
      "  • Deterministics : 2 ['mu_age_p', 'constrained_mu_age_p']\n",
      "  • Potentials     : 3 ['smooth_p', 'parent_similarity_p_level_constraints', 'mu_age_derivative_potential_p']\n",
      "  • Total Named RVs: 6\n"
     ]
    }
   ],
   "source": [
    "# process.asr() | (4) priors.py - similar()\n",
    "with pm_model:    \n",
    "    if mu_age_parent is not None:\n",
    "        parent_similarity_tv = priors.similar( # TODO: similar() is also used in level_constraints(). \n",
    "            mu_child=constrained_mu_age,     #      Thus, it is hard to reduce parameters.\n",
    "            mu_parent=mu_age_parent,           #      Moreover, concerns on pm.Potential(parent_similarity_tv)\n",
    "            sigma_parent=sigma_age_parent,     #      What happens if it is called twice with same name?\n",
    "            sigma_difference=0.0,\n",
    "            offset=1e-9\n",
    "        )\n",
    "\n",
    "inspect_model(pm_model, show_shared_data=False)"
   ]
  },
  {
   "cell_type": "code",
   "execution_count": 22,
   "id": "d0e8c6cd",
   "metadata": {},
   "outputs": [
    {
     "name": "stdout",
     "output_type": "stream",
     "text": [
      "/Users/Dev/AMD/dismod_mr_migrated/reforged_mr/model/age_groups.py\n",
      "/Users/Dev/AMD/dismod_mr_migrated/reforged_mr/model/covariates.py\n",
      "📊 Model Summary:\n",
      "  • Free RVs       : 41 ['gamma_p', 'sigma_alpha_p_0_z', 'sigma_alpha_p_1_z', 'sigma_alpha_p_2_z', 'sigma_alpha_p_3_z', 'sigma_alpha_p_4_z', 'alpha_p_31', 'alpha_p_56', 'alpha_p_62', 'alpha_p_64', 'alpha_p_70', 'alpha_p_71', 'alpha_p_65', 'alpha_p_67', 'alpha_p_68', 'alpha_p_69', 'alpha_p_100', 'alpha_p_102', 'alpha_p_73', 'alpha_p_81', 'alpha_p_83', 'alpha_p_84', 'alpha_p_86', 'alpha_p_89', 'alpha_p_92', 'alpha_p_137', 'alpha_p_138', 'alpha_p_142', 'alpha_p_158', 'alpha_p_159', 'alpha_p_163', 'alpha_p_164', 'alpha_p_4', 'alpha_p_5', 'alpha_p_6', 'alpha_p_8', 'alpha_p_9', 'alpha_p_18', 'beta_p_x_sdi', 'beta_p_x_tob', 'beta_p_x_sex']\n",
      "  • Observed RVs   : 0 []\n",
      "  • Deterministics : 10 ['mu_age_p', 'constrained_mu_age_p', 'cum_sum_mu_p', 'mu_interval_p', 'sigma_alpha_p_0', 'sigma_alpha_p_1', 'sigma_alpha_p_2', 'sigma_alpha_p_3', 'sigma_alpha_p_4', 'pi_p']\n",
      "  • Potentials     : 8 ['smooth_p', 'parent_similarity_p_level_constraints', 'mu_age_derivative_potential_p', 'sigma_alpha_p_0_trunc', 'sigma_alpha_p_1_trunc', 'sigma_alpha_p_2_trunc', 'sigma_alpha_p_3_trunc', 'sigma_alpha_p_4_trunc']\n",
      "  • Total Named RVs: 59\n"
     ]
    }
   ],
   "source": [
    "# process.asr() | (5) age_groups.py - age_standardize_approx()\n",
    "#               | (6) covariate.py - mean_covariate_model()\n",
    "import model.age_groups as age_groups\n",
    "import model.covariates as covariates\n",
    "print(age_groups.__file__)\n",
    "print(covariates.__file__)\n",
    "\n",
    "with pm_model:    \n",
    "    if len(data) > 0:\n",
    "        data = data.copy()\n",
    "        # 2-1) standard_error, effective_sample_size 채우기\n",
    "        se = data['standard_error'].mask(\n",
    "            data['standard_error'] < 0,\n",
    "            (data['upper_ci'] - data['lower_ci']) / (2 * 1.96)\n",
    "        )\n",
    "        ess = data['effective_sample_size'].fillna(\n",
    "            data['value'] * (1 - data['value']) / se**2\n",
    "        )\n",
    "        data['standard_error'] = se\n",
    "        data['effective_sample_size'] = ess\n",
    "\n",
    "        mu_interval_tv = age_groups.age_standardize_approx(mu_age=constrained_mu_age)\n",
    "\n",
    "        # 2-2) covariate & pi\n",
    "        if include_covariates:\n",
    "            pi_tv, X_shift_tv, beta_tv, U_tv, alpha_tv = covariates.mean_covariate_model(mu=mu_interval_tv)\n",
    "\n",
    "        else:\n",
    "            pi_tv = mu_interval_tv\n",
    "\n",
    "\n",
    "inspect_model(pm_model, show_shared_data=False)"
   ]
  },
  {
   "cell_type": "code",
   "execution_count": 23,
   "id": "f379c85a",
   "metadata": {},
   "outputs": [
    {
     "name": "stdout",
     "output_type": "stream",
     "text": [
      "📊 Model Summary:\n",
      "  • Free RVs       : 41 ['gamma_p', 'sigma_alpha_p_0_z', 'sigma_alpha_p_1_z', 'sigma_alpha_p_2_z', 'sigma_alpha_p_3_z', 'sigma_alpha_p_4_z', 'alpha_p_31', 'alpha_p_56', 'alpha_p_62', 'alpha_p_64', 'alpha_p_70', 'alpha_p_71', 'alpha_p_65', 'alpha_p_67', 'alpha_p_68', 'alpha_p_69', 'alpha_p_100', 'alpha_p_102', 'alpha_p_73', 'alpha_p_81', 'alpha_p_83', 'alpha_p_84', 'alpha_p_86', 'alpha_p_89', 'alpha_p_92', 'alpha_p_137', 'alpha_p_138', 'alpha_p_142', 'alpha_p_158', 'alpha_p_159', 'alpha_p_163', 'alpha_p_164', 'alpha_p_4', 'alpha_p_5', 'alpha_p_6', 'alpha_p_8', 'alpha_p_9', 'alpha_p_18', 'beta_p_x_sdi', 'beta_p_x_tob', 'beta_p_x_sex']\n",
      "  • Observed RVs   : 0 []\n",
      "  • Deterministics : 10 ['mu_age_p', 'constrained_mu_age_p', 'cum_sum_mu_p', 'mu_interval_p', 'sigma_alpha_p_0', 'sigma_alpha_p_1', 'sigma_alpha_p_2', 'sigma_alpha_p_3', 'sigma_alpha_p_4', 'pi_p']\n",
      "  • Potentials     : 8 ['smooth_p', 'parent_similarity_p_level_constraints', 'mu_age_derivative_potential_p', 'sigma_alpha_p_0_trunc', 'sigma_alpha_p_1_trunc', 'sigma_alpha_p_2_trunc', 'sigma_alpha_p_3_trunc', 'sigma_alpha_p_4_trunc']\n",
      "  • Total Named RVs: 59\n"
     ]
    }
   ],
   "source": [
    "# process.asr() | (7) covariate.py - mean_covariate_model()\n",
    "\n",
    "with pm_model:    \n",
    "    if len(data) <= 0:\n",
    "        if include_covariates:\n",
    "            pi_tv, X_shift_tv, beta_tv, U_tv, alpha_tv = covariates.mean_covariate_model(mu=None)\n",
    "\n",
    "\n",
    "inspect_model(pm_model, show_shared_data=False)"
   ]
  },
  {
   "cell_type": "code",
   "execution_count": 24,
   "id": "0f8513b2",
   "metadata": {},
   "outputs": [],
   "source": [
    "rate_types = ['beta_binom', 'binom', 'neg_binom', 'poisson', 'log_normal', 'normal', 'offset_log_normal']\n",
    "rate_type = rate_types[2]"
   ]
  },
  {
   "cell_type": "code",
   "execution_count": 25,
   "id": "7c1aa46f",
   "metadata": {},
   "outputs": [
    {
     "name": "stdout",
     "output_type": "stream",
     "text": [
      "/Users/Dev/AMD/dismod_mr_migrated/reforged_mr/model/likelihood.py\n",
      "📊 Model Summary:\n",
      "  • Free RVs       : 42 ['gamma_p', 'sigma_alpha_p_0_z', 'sigma_alpha_p_1_z', 'sigma_alpha_p_2_z', 'sigma_alpha_p_3_z', 'sigma_alpha_p_4_z', 'alpha_p_31', 'alpha_p_56', 'alpha_p_62', 'alpha_p_64', 'alpha_p_70', 'alpha_p_71', 'alpha_p_65', 'alpha_p_67', 'alpha_p_68', 'alpha_p_69', 'alpha_p_100', 'alpha_p_102', 'alpha_p_73', 'alpha_p_81', 'alpha_p_83', 'alpha_p_84', 'alpha_p_86', 'alpha_p_89', 'alpha_p_92', 'alpha_p_137', 'alpha_p_138', 'alpha_p_142', 'alpha_p_158', 'alpha_p_159', 'alpha_p_163', 'alpha_p_164', 'alpha_p_4', 'alpha_p_5', 'alpha_p_6', 'alpha_p_8', 'alpha_p_9', 'alpha_p_18', 'beta_p_x_sdi', 'beta_p_x_tob', 'beta_p_x_sex', 'eta_p']\n",
      "  • Observed RVs   : 0 []\n",
      "  • Deterministics : 12 ['mu_age_p', 'constrained_mu_age_p', 'cum_sum_mu_p', 'mu_interval_p', 'sigma_alpha_p_0', 'sigma_alpha_p_1', 'sigma_alpha_p_2', 'sigma_alpha_p_3', 'sigma_alpha_p_4', 'pi_p', 'delta_p', 'p_pred_p']\n",
      "  • Potentials     : 9 ['smooth_p', 'parent_similarity_p_level_constraints', 'mu_age_derivative_potential_p', 'sigma_alpha_p_0_trunc', 'sigma_alpha_p_1_trunc', 'sigma_alpha_p_2_trunc', 'sigma_alpha_p_3_trunc', 'sigma_alpha_p_4_trunc', 'p_obs_p']\n",
      "  • Total Named RVs: 63\n"
     ]
    }
   ],
   "source": [
    "# process.asr() | (8) covariate.py - dispersion_covariate_model()\n",
    "# process.asr() | (9) likelihood.py - neg_binom()\n",
    "import model.likelihood as likelihood\n",
    "print(likelihood.__file__)\n",
    "\n",
    "with pm_model:\n",
    "    if len(data) > 0:\n",
    "        if rate_type == 'neg_binom':\n",
    "            bad_ess = (data['effective_sample_size'] <= 0) | data['effective_sample_size'].isna()\n",
    "            if bad_ess.any():\n",
    "                data.loc[bad_ess, 'effective_sample_size'] = 0.0\n",
    "\n",
    "            big_ess = data['effective_sample_size'] >= 1e10\n",
    "            if big_ess.any():\n",
    "                data.loc[big_ess, 'effective_sample_size'] = 1e10\n",
    "\n",
    "            hetero = parameters.get('heterogeneity', None)\n",
    "            lower = {'Slightly': 9.0, 'Moderately': 3.0, 'Very': 1.0}.get(hetero, 1.0)\n",
    "            if data_type == 'pf':\n",
    "                lower = 1e12\n",
    "\n",
    "            delta_tv = covariates.dispersion_covariate_model(delta_lb=lower, delta_ub=lower * 9.0)\n",
    "\n",
    "            likelihood.neg_binom(pi=pi_tv, delta=delta_tv)            \n",
    "\n",
    "\n",
    "inspect_model(pm_model, show_shared_data=False)"
   ]
  },
  {
   "cell_type": "code",
   "execution_count": 26,
   "id": "17635268",
   "metadata": {},
   "outputs": [
    {
     "name": "stdout",
     "output_type": "stream",
     "text": [
      "📊 Model Summary:\n",
      "  • Free RVs       : 42 ['gamma_p', 'sigma_alpha_p_0_z', 'sigma_alpha_p_1_z', 'sigma_alpha_p_2_z', 'sigma_alpha_p_3_z', 'sigma_alpha_p_4_z', 'alpha_p_31', 'alpha_p_56', 'alpha_p_62', 'alpha_p_64', 'alpha_p_70', 'alpha_p_71', 'alpha_p_65', 'alpha_p_67', 'alpha_p_68', 'alpha_p_69', 'alpha_p_100', 'alpha_p_102', 'alpha_p_73', 'alpha_p_81', 'alpha_p_83', 'alpha_p_84', 'alpha_p_86', 'alpha_p_89', 'alpha_p_92', 'alpha_p_137', 'alpha_p_138', 'alpha_p_142', 'alpha_p_158', 'alpha_p_159', 'alpha_p_163', 'alpha_p_164', 'alpha_p_4', 'alpha_p_5', 'alpha_p_6', 'alpha_p_8', 'alpha_p_9', 'alpha_p_18', 'beta_p_x_sdi', 'beta_p_x_tob', 'beta_p_x_sex', 'eta_p']\n",
      "  • Observed RVs   : 0 []\n",
      "  • Deterministics : 12 ['mu_age_p', 'constrained_mu_age_p', 'cum_sum_mu_p', 'mu_interval_p', 'sigma_alpha_p_0', 'sigma_alpha_p_1', 'sigma_alpha_p_2', 'sigma_alpha_p_3', 'sigma_alpha_p_4', 'pi_p', 'delta_p', 'p_pred_p']\n",
      "  • Potentials     : 9 ['smooth_p', 'parent_similarity_p_level_constraints', 'mu_age_derivative_potential_p', 'sigma_alpha_p_0_trunc', 'sigma_alpha_p_1_trunc', 'sigma_alpha_p_2_trunc', 'sigma_alpha_p_3_trunc', 'sigma_alpha_p_4_trunc', 'p_obs_p']\n",
      "  • Total Named RVs: 63\n"
     ]
    }
   ],
   "source": [
    "# process.asr() | (10) likelihood.py - log_normal()\n",
    "\n",
    "with pm_model:\n",
    "    if len(data) > 0:\n",
    "        if rate_type == 'log_normal':\n",
    "            missing = data['standard_error'] < 0\n",
    "            if missing.any():\n",
    "                data.loc[missing, 'standard_error'] = 1e6\n",
    "\n",
    "            sigma_tv = pm.Uniform(\n",
    "                name=f'sigma_{data_type}',\n",
    "                lower=1e-4,\n",
    "                upper=1.0,\n",
    "            )\n",
    "\n",
    "            likelihood.log_normal(pi=pi_tv, sigma=sigma_tv)\n",
    "\n",
    "\n",
    "inspect_model(pm_model, show_shared_data=False)"
   ]
  },
  {
   "cell_type": "markdown",
   "id": "3e2b4598",
   "metadata": {},
   "source": [
    "[DEBUG] data_type=p: p 배열에서 0 이하인 값 (총 3개):\n",
    "    index=0, p[0]=[4.09026798e-02 3.38512764e-02 7.23589001e-02 3.69973190e-02\n",
    " 1.03015075e-01 8.70431894e-02 2.04188482e-01 1.37423313e-01\n",
    " 2.46435845e-01 2.40051348e-01 3.14121037e-01 3.22265625e-01\n",
    " 2.66355140e-01 3.56666667e-01 3.88888889e-01 2.16494845e-01\n",
    " 1.41388175e-02 1.23456790e-02 2.70270270e-02 2.33333333e-02\n",
    " 4.30622010e-02 4.27251732e-02 1.04395604e-01 1.13065327e-01\n",
    " 1.68918919e-02 1.83486239e-02 3.16455696e-02 2.49307479e-02\n",
    " 6.45161290e-02 4.60122699e-02 1.28834356e-01 1.36094675e-01\n",
    " 5.05050505e-03 3.96825397e-03 1.89573460e-02 2.76679842e-02\n",
    " 1.30434783e-02 2.77777778e-02 2.38095238e-02 8.73786408e-02\n",
    " 2.70270270e-02 1.42857143e-02 2.61780105e-02 2.18579235e-02\n",
    " 3.63636364e-02 5.34759358e-02 1.14285714e-01 1.20481928e-01\n",
    " 0.00000000e+00 9.80392157e-03 3.12500000e-02 9.70873786e-03\n",
    " 5.00000000e-02 4.95049505e-02 1.48936170e-01 6.97674419e-02\n",
    " 1.67803547e-01 1.61971831e-01 1.36134454e-01 1.31944444e-01\n",
    " 1.66666667e-01 1.26353791e-01 6.95364238e-02 3.88888889e-02\n",
    " 5.69105691e-02 3.79746835e-02 7.69230769e-02 7.81250000e-02\n",
    " 1.18811881e-01 1.83908046e-01 2.33333333e-01 2.85714286e-01\n",
    " 2.85714286e-01 0.00000000e+00 3.42465753e-04 7.11297071e-02\n",
    " 3.11973019e-02 2.87816490e-02 1.56402737e-01 1.60818713e-01\n",
    " 1.69481982e-01 1.28455285e-01 6.93641618e-02 8.09716599e-02\n",
    " 3.79746835e-02 3.30578512e-02 6.97674419e-02 1.34831461e-01\n",
    " 1.55555556e-01 7.90697674e-02 1.52380952e-01 4.54545455e-02\n",
    " 5.69105691e-02 1.37254902e-01 1.47540984e-01 2.19178082e-01\n",
    "...\n",
    " 2.29729730e-01 6.79839577e-03 2.98547390e-02 7.06447188e-02\n",
    " 1.10350982e-01 2.30137091e-02 2.93895112e-02 4.69371519e-02\n",
    " 8.76531574e-02 1.32307692e-01 1.70212766e-01 8.61553785e-02\n",
    " 1.98497854e-01 1.60000699e-02 1.60001603e-02]\n",
    "Output is truncated. View as a scrollable element or open in a text editor. Adjust cell output settings...\n",
    "---------------------------------------------------------------------------\n",
    "AssertionError                            Traceback (most recent call last)\n",
    "Cell In[47], line 16\n",
    "      8                 data.loc[missing, 'standard_error'] = 1e6\n",
    "     10             sigma_tv = pm.Uniform(\n",
    "     11                 name=f'sigma_{data_type}',\n",
    "     12                 lower=1e-4,\n",
    "     13                 upper=1.0,\n",
    "     14             )\n",
    "---> 16             likelihood.log_normal(pi=pi_tv, sigma=sigma_tv)\n",
    "     19 inspect_model(pm_model, show_shared_data=False)\n",
    "\n",
    "File /Users/Dev/AMD/dismod_mr_migrated/reforged_mr/model/likelihood.py:378, in log_normal(pi, sigma)\n",
    "    375         print(f\"    index={i}, s[{i}]={s[i]}\")\n",
    "    377 # 2) 관측값 유효성 검사\n",
    "--> 378 assert np.all(p > 0), 'observed values must be positive'\n",
    "    379 assert np.all(s >= 0), 'standard error must be non-negative'\n",
    "    381 # 3) 관측 로그값은 NumPy로 미리 계산\n",
    "\n",
    "AssertionError: observed values must be positive"
   ]
  },
  {
   "cell_type": "code",
   "execution_count": 27,
   "id": "a2580212",
   "metadata": {},
   "outputs": [
    {
     "name": "stdout",
     "output_type": "stream",
     "text": [
      "📊 Model Summary:\n",
      "  • Free RVs       : 42 ['gamma_p', 'sigma_alpha_p_0_z', 'sigma_alpha_p_1_z', 'sigma_alpha_p_2_z', 'sigma_alpha_p_3_z', 'sigma_alpha_p_4_z', 'alpha_p_31', 'alpha_p_56', 'alpha_p_62', 'alpha_p_64', 'alpha_p_70', 'alpha_p_71', 'alpha_p_65', 'alpha_p_67', 'alpha_p_68', 'alpha_p_69', 'alpha_p_100', 'alpha_p_102', 'alpha_p_73', 'alpha_p_81', 'alpha_p_83', 'alpha_p_84', 'alpha_p_86', 'alpha_p_89', 'alpha_p_92', 'alpha_p_137', 'alpha_p_138', 'alpha_p_142', 'alpha_p_158', 'alpha_p_159', 'alpha_p_163', 'alpha_p_164', 'alpha_p_4', 'alpha_p_5', 'alpha_p_6', 'alpha_p_8', 'alpha_p_9', 'alpha_p_18', 'beta_p_x_sdi', 'beta_p_x_tob', 'beta_p_x_sex', 'eta_p']\n",
      "  • Observed RVs   : 0 []\n",
      "  • Deterministics : 12 ['mu_age_p', 'constrained_mu_age_p', 'cum_sum_mu_p', 'mu_interval_p', 'sigma_alpha_p_0', 'sigma_alpha_p_1', 'sigma_alpha_p_2', 'sigma_alpha_p_3', 'sigma_alpha_p_4', 'pi_p', 'delta_p', 'p_pred_p']\n",
      "  • Potentials     : 9 ['smooth_p', 'parent_similarity_p_level_constraints', 'mu_age_derivative_potential_p', 'sigma_alpha_p_0_trunc', 'sigma_alpha_p_1_trunc', 'sigma_alpha_p_2_trunc', 'sigma_alpha_p_3_trunc', 'sigma_alpha_p_4_trunc', 'p_obs_p']\n",
      "  • Total Named RVs: 63\n"
     ]
    }
   ],
   "source": [
    "# process.asr() | (11) likelihood.py - log_normal()\n",
    "\n",
    "with pm_model:\n",
    "    if len(data) > 0:\n",
    "        if rate_type == 'normal':\n",
    "            missing = data['standard_error'] < 0\n",
    "            if missing.any():\n",
    "                data.loc[missing, 'standard_error'] = 1e6\n",
    "\n",
    "            sigma_tv = pm.Uniform(\n",
    "                name=f'sigma_{data_type}',\n",
    "                lower=1e-4,\n",
    "                upper=1e-1,\n",
    "                initval=1e-2\n",
    "            )\n",
    "\n",
    "            likelihood.normal(pi=pi_tv, sigma=sigma_tv)\n",
    "\n",
    "\n",
    "inspect_model(pm_model, show_shared_data=False)"
   ]
  },
  {
   "cell_type": "code",
   "execution_count": 28,
   "id": "8fa551a8",
   "metadata": {},
   "outputs": [
    {
     "name": "stdout",
     "output_type": "stream",
     "text": [
      "📊 Model Summary:\n",
      "  • Free RVs       : 42 ['gamma_p', 'sigma_alpha_p_0_z', 'sigma_alpha_p_1_z', 'sigma_alpha_p_2_z', 'sigma_alpha_p_3_z', 'sigma_alpha_p_4_z', 'alpha_p_31', 'alpha_p_56', 'alpha_p_62', 'alpha_p_64', 'alpha_p_70', 'alpha_p_71', 'alpha_p_65', 'alpha_p_67', 'alpha_p_68', 'alpha_p_69', 'alpha_p_100', 'alpha_p_102', 'alpha_p_73', 'alpha_p_81', 'alpha_p_83', 'alpha_p_84', 'alpha_p_86', 'alpha_p_89', 'alpha_p_92', 'alpha_p_137', 'alpha_p_138', 'alpha_p_142', 'alpha_p_158', 'alpha_p_159', 'alpha_p_163', 'alpha_p_164', 'alpha_p_4', 'alpha_p_5', 'alpha_p_6', 'alpha_p_8', 'alpha_p_9', 'alpha_p_18', 'beta_p_x_sdi', 'beta_p_x_tob', 'beta_p_x_sex', 'eta_p']\n",
      "  • Observed RVs   : 0 []\n",
      "  • Deterministics : 12 ['mu_age_p', 'constrained_mu_age_p', 'cum_sum_mu_p', 'mu_interval_p', 'sigma_alpha_p_0', 'sigma_alpha_p_1', 'sigma_alpha_p_2', 'sigma_alpha_p_3', 'sigma_alpha_p_4', 'pi_p', 'delta_p', 'p_pred_p']\n",
      "  • Potentials     : 9 ['smooth_p', 'parent_similarity_p_level_constraints', 'mu_age_derivative_potential_p', 'sigma_alpha_p_0_trunc', 'sigma_alpha_p_1_trunc', 'sigma_alpha_p_2_trunc', 'sigma_alpha_p_3_trunc', 'sigma_alpha_p_4_trunc', 'p_obs_p']\n",
      "  • Total Named RVs: 63\n"
     ]
    }
   ],
   "source": [
    "# process.asr() | (12) likelihood.py - binom()\n",
    "\n",
    "with pm_model:\n",
    "    if len(data) > 0:\n",
    "        if rate_type == 'binom':\n",
    "            bad_ess = data['effective_sample_size'] < 0\n",
    "            if bad_ess.any():\n",
    "                data.loc[bad_ess, 'effective_sample_size'] = 0.0\n",
    "\n",
    "            likelihood.binom(pi=pi_tv)\n",
    "\n",
    "\n",
    "inspect_model(pm_model, show_shared_data=False)"
   ]
  },
  {
   "cell_type": "code",
   "execution_count": 29,
   "id": "32a50478",
   "metadata": {},
   "outputs": [
    {
     "name": "stdout",
     "output_type": "stream",
     "text": [
      "📊 Model Summary:\n",
      "  • Free RVs       : 42 ['gamma_p', 'sigma_alpha_p_0_z', 'sigma_alpha_p_1_z', 'sigma_alpha_p_2_z', 'sigma_alpha_p_3_z', 'sigma_alpha_p_4_z', 'alpha_p_31', 'alpha_p_56', 'alpha_p_62', 'alpha_p_64', 'alpha_p_70', 'alpha_p_71', 'alpha_p_65', 'alpha_p_67', 'alpha_p_68', 'alpha_p_69', 'alpha_p_100', 'alpha_p_102', 'alpha_p_73', 'alpha_p_81', 'alpha_p_83', 'alpha_p_84', 'alpha_p_86', 'alpha_p_89', 'alpha_p_92', 'alpha_p_137', 'alpha_p_138', 'alpha_p_142', 'alpha_p_158', 'alpha_p_159', 'alpha_p_163', 'alpha_p_164', 'alpha_p_4', 'alpha_p_5', 'alpha_p_6', 'alpha_p_8', 'alpha_p_9', 'alpha_p_18', 'beta_p_x_sdi', 'beta_p_x_tob', 'beta_p_x_sex', 'eta_p']\n",
      "  • Observed RVs   : 0 []\n",
      "  • Deterministics : 12 ['mu_age_p', 'constrained_mu_age_p', 'cum_sum_mu_p', 'mu_interval_p', 'sigma_alpha_p_0', 'sigma_alpha_p_1', 'sigma_alpha_p_2', 'sigma_alpha_p_3', 'sigma_alpha_p_4', 'pi_p', 'delta_p', 'p_pred_p']\n",
      "  • Potentials     : 9 ['smooth_p', 'parent_similarity_p_level_constraints', 'mu_age_derivative_potential_p', 'sigma_alpha_p_0_trunc', 'sigma_alpha_p_1_trunc', 'sigma_alpha_p_2_trunc', 'sigma_alpha_p_3_trunc', 'sigma_alpha_p_4_trunc', 'p_obs_p']\n",
      "  • Total Named RVs: 63\n"
     ]
    }
   ],
   "source": [
    "# process.asr() | (13) likelihood.py - beta_binom()\n",
    "\n",
    "with pm_model:\n",
    "    if len(data) > 0:\n",
    "        if rate_type == 'beta_binom':\n",
    "\n",
    "            ### NEWLY ADDED: Origianl code doesn't have delta_tv calculation\n",
    "            bad_ess = (data['effective_sample_size'] <= 0) | data['effective_sample_size'].isna()\n",
    "            if bad_ess.any():\n",
    "                data.loc[bad_ess, 'effective_sample_size'] = 0.0\n",
    "\n",
    "            big_ess = data['effective_sample_size'] >= 1e10\n",
    "            if big_ess.any():\n",
    "                data.loc[big_ess, 'effective_sample_size'] = 1e10\n",
    "\n",
    "            hetero = parameters.get('heterogeneity', None)\n",
    "            lower = {'Slightly': 9.0, 'Moderately': 3.0, 'Very': 1.0}.get(hetero, 1.0)\n",
    "            if data_type == 'pf':\n",
    "                lower = 1e12\n",
    "\n",
    "            delta_tv = covariates.dispersion_covariate_model(delta_lb=lower, delta_ub=lower * 9.0)\n",
    "\n",
    "            likelihood.beta_binom(pi=pi_tv, delta=delta_tv)\n",
    "\n",
    "\n",
    "inspect_model(pm_model, show_shared_data=False)"
   ]
  },
  {
   "cell_type": "markdown",
   "id": "545ff40e",
   "metadata": {},
   "source": [
    "---------------------------------------------------------------------------\n",
    "IndexError                                Traceback (most recent call last)\n",
    "Cell In[25], line 23\n",
    "     19                 lower = 1e12\n",
    "     21             delta_tv = covariates.dispersion_covariate_model(delta_lb=lower, delta_ub=lower * 9.0)\n",
    "---> 23             likelihood.beta_binom(pi=pi_tv, delta=delta_tv)\n",
    "     26 inspect_model(pm_model, show_shared_data=False)\n",
    "\n",
    "File /Users/Dev/AMD/dismod_mr_migrated/reforged_mr/model/likelihood.py:275, in beta_binom(pi, delta)\n",
    "    267 alpha_param = pi * delta * 50\n",
    "    268 beta_param = (1 - pi) * delta * 50\n",
    "    270 p_obs = pm.BetaBinomial(\n",
    "    271     name=f'p_obs_{data_type}',\n",
    "    272     n=n_int[mask],\n",
    "    273     alpha=alpha_param[mask] if hasattr(alpha_param, 'shape') else alpha_param,\n",
    "    274     beta=beta_param[mask] if hasattr(beta_param, 'shape') else beta_param,\n",
    "--> 275     observed=obs_counts[mask]\n",
    "    276 )\n",
    "    278 # Posterior predictive counts: replace zero-sample cases\n",
    "    279 n_pred = n_int.copy()\n",
    "\n",
    "IndexError: boolean index did not match indexed array along dimension 0; dimension is 1 but corresponding boolean dimension is 207"
   ]
  },
  {
   "cell_type": "code",
   "execution_count": 30,
   "id": "2926328c",
   "metadata": {},
   "outputs": [
    {
     "name": "stdout",
     "output_type": "stream",
     "text": [
      "📊 Model Summary:\n",
      "  • Free RVs       : 42 ['gamma_p', 'sigma_alpha_p_0_z', 'sigma_alpha_p_1_z', 'sigma_alpha_p_2_z', 'sigma_alpha_p_3_z', 'sigma_alpha_p_4_z', 'alpha_p_31', 'alpha_p_56', 'alpha_p_62', 'alpha_p_64', 'alpha_p_70', 'alpha_p_71', 'alpha_p_65', 'alpha_p_67', 'alpha_p_68', 'alpha_p_69', 'alpha_p_100', 'alpha_p_102', 'alpha_p_73', 'alpha_p_81', 'alpha_p_83', 'alpha_p_84', 'alpha_p_86', 'alpha_p_89', 'alpha_p_92', 'alpha_p_137', 'alpha_p_138', 'alpha_p_142', 'alpha_p_158', 'alpha_p_159', 'alpha_p_163', 'alpha_p_164', 'alpha_p_4', 'alpha_p_5', 'alpha_p_6', 'alpha_p_8', 'alpha_p_9', 'alpha_p_18', 'beta_p_x_sdi', 'beta_p_x_tob', 'beta_p_x_sex', 'eta_p']\n",
      "  • Observed RVs   : 0 []\n",
      "  • Deterministics : 12 ['mu_age_p', 'constrained_mu_age_p', 'cum_sum_mu_p', 'mu_interval_p', 'sigma_alpha_p_0', 'sigma_alpha_p_1', 'sigma_alpha_p_2', 'sigma_alpha_p_3', 'sigma_alpha_p_4', 'pi_p', 'delta_p', 'p_pred_p']\n",
      "  • Potentials     : 9 ['smooth_p', 'parent_similarity_p_level_constraints', 'mu_age_derivative_potential_p', 'sigma_alpha_p_0_trunc', 'sigma_alpha_p_1_trunc', 'sigma_alpha_p_2_trunc', 'sigma_alpha_p_3_trunc', 'sigma_alpha_p_4_trunc', 'p_obs_p']\n",
      "  • Total Named RVs: 63\n"
     ]
    }
   ],
   "source": [
    "# process.asr() | (14) likelihood.py - poisson()\n",
    "\n",
    "with pm_model:\n",
    "    if len(data) > 0:\n",
    "        if rate_type == 'poisson':\n",
    "            bad_ess = data['effective_sample_size'] < 0\n",
    "            if bad_ess.any():\n",
    "                data.loc[bad_ess, 'effective_sample_size'] = 0.0\n",
    "\n",
    "            likelihood.poisson(pi=pi_tv)\n",
    "\n",
    "\n",
    "inspect_model(pm_model, show_shared_data=False)"
   ]
  },
  {
   "cell_type": "code",
   "execution_count": 31,
   "id": "8b033021",
   "metadata": {},
   "outputs": [
    {
     "name": "stdout",
     "output_type": "stream",
     "text": [
      "📊 Model Summary:\n",
      "  • Free RVs       : 42 ['gamma_p', 'sigma_alpha_p_0_z', 'sigma_alpha_p_1_z', 'sigma_alpha_p_2_z', 'sigma_alpha_p_3_z', 'sigma_alpha_p_4_z', 'alpha_p_31', 'alpha_p_56', 'alpha_p_62', 'alpha_p_64', 'alpha_p_70', 'alpha_p_71', 'alpha_p_65', 'alpha_p_67', 'alpha_p_68', 'alpha_p_69', 'alpha_p_100', 'alpha_p_102', 'alpha_p_73', 'alpha_p_81', 'alpha_p_83', 'alpha_p_84', 'alpha_p_86', 'alpha_p_89', 'alpha_p_92', 'alpha_p_137', 'alpha_p_138', 'alpha_p_142', 'alpha_p_158', 'alpha_p_159', 'alpha_p_163', 'alpha_p_164', 'alpha_p_4', 'alpha_p_5', 'alpha_p_6', 'alpha_p_8', 'alpha_p_9', 'alpha_p_18', 'beta_p_x_sdi', 'beta_p_x_tob', 'beta_p_x_sex', 'eta_p']\n",
      "  • Observed RVs   : 0 []\n",
      "  • Deterministics : 12 ['mu_age_p', 'constrained_mu_age_p', 'cum_sum_mu_p', 'mu_interval_p', 'sigma_alpha_p_0', 'sigma_alpha_p_1', 'sigma_alpha_p_2', 'sigma_alpha_p_3', 'sigma_alpha_p_4', 'pi_p', 'delta_p', 'p_pred_p']\n",
      "  • Potentials     : 9 ['smooth_p', 'parent_similarity_p_level_constraints', 'mu_age_derivative_potential_p', 'sigma_alpha_p_0_trunc', 'sigma_alpha_p_1_trunc', 'sigma_alpha_p_2_trunc', 'sigma_alpha_p_3_trunc', 'sigma_alpha_p_4_trunc', 'p_obs_p']\n",
      "  • Total Named RVs: 63\n"
     ]
    }
   ],
   "source": [
    "# process.asr() | (15) likelihood.py - offset_log_normal()\n",
    "#               | (16) else\n",
    "\n",
    "with pm_model:\n",
    "    if len(data) > 0:\n",
    "        if rate_type == 'offset_log_normal':\n",
    "            \n",
    "            sigma_tv = pm.Uniform(\n",
    "                name=f'sigma_{data_type}',\n",
    "                lower=1e-4,\n",
    "                upper=10.0,\n",
    "                initval=1e-2\n",
    "            )\n",
    "\n",
    "            likelihood.offset_log_normal(pi=pi_tv, sigma=sigma_tv)\n",
    "\n",
    "        # else:\n",
    "        #     raise ValueError(f'Unsupported rate_type \"{rate_type}\"')\n",
    "\n",
    "\n",
    "inspect_model(pm_model, show_shared_data=False)"
   ]
  },
  {
   "cell_type": "code",
   "execution_count": 32,
   "id": "d253fd4c",
   "metadata": {},
   "outputs": [
    {
     "name": "stdout",
     "output_type": "stream",
     "text": [
      "📊 Model Summary:\n",
      "  • Free RVs       : 42 ['gamma_p', 'sigma_alpha_p_0_z', 'sigma_alpha_p_1_z', 'sigma_alpha_p_2_z', 'sigma_alpha_p_3_z', 'sigma_alpha_p_4_z', 'alpha_p_31', 'alpha_p_56', 'alpha_p_62', 'alpha_p_64', 'alpha_p_70', 'alpha_p_71', 'alpha_p_65', 'alpha_p_67', 'alpha_p_68', 'alpha_p_69', 'alpha_p_100', 'alpha_p_102', 'alpha_p_73', 'alpha_p_81', 'alpha_p_83', 'alpha_p_84', 'alpha_p_86', 'alpha_p_89', 'alpha_p_92', 'alpha_p_137', 'alpha_p_138', 'alpha_p_142', 'alpha_p_158', 'alpha_p_159', 'alpha_p_163', 'alpha_p_164', 'alpha_p_4', 'alpha_p_5', 'alpha_p_6', 'alpha_p_8', 'alpha_p_9', 'alpha_p_18', 'beta_p_x_sdi', 'beta_p_x_tob', 'beta_p_x_sex', 'eta_p']\n",
      "  • Observed RVs   : 0 []\n",
      "  • Deterministics : 12 ['mu_age_p', 'constrained_mu_age_p', 'cum_sum_mu_p', 'mu_interval_p', 'sigma_alpha_p_0', 'sigma_alpha_p_1', 'sigma_alpha_p_2', 'sigma_alpha_p_3', 'sigma_alpha_p_4', 'pi_p', 'delta_p', 'p_pred_p']\n",
      "  • Potentials     : 10 ['smooth_p', 'parent_similarity_p_level_constraints', 'mu_age_derivative_potential_p', 'sigma_alpha_p_0_trunc', 'sigma_alpha_p_1_trunc', 'sigma_alpha_p_2_trunc', 'sigma_alpha_p_3_trunc', 'sigma_alpha_p_4_trunc', 'p_obs_p', 'covariate_constraint_p']\n",
      "  • Total Named RVs: 64\n"
     ]
    }
   ],
   "source": [
    "# process.asr() | (17) priors.py - covariate_level_constraints()\n",
    "\n",
    "with pm_model:\n",
    "    if include_covariates:\n",
    "        covariate_constraint_tv = priors.covariate_level_constraints(X_shift_tv, beta_tv, U_tv, alpha_tv, constrained_mu_age)\n",
    "\n",
    "\n",
    "inspect_model(pm_model, show_shared_data=False)"
   ]
  },
  {
   "cell_type": "code",
   "execution_count": 33,
   "id": "6c09fdf5",
   "metadata": {},
   "outputs": [
    {
     "name": "stdout",
     "output_type": "stream",
     "text": [
      "📊 Model Summary:\n",
      "  • Free RVs       : 42 ['gamma_p', 'sigma_alpha_p_0_z', 'sigma_alpha_p_1_z', 'sigma_alpha_p_2_z', 'sigma_alpha_p_3_z', 'sigma_alpha_p_4_z', 'alpha_p_31', 'alpha_p_56', 'alpha_p_62', 'alpha_p_64', 'alpha_p_70', 'alpha_p_71', 'alpha_p_65', 'alpha_p_67', 'alpha_p_68', 'alpha_p_69', 'alpha_p_100', 'alpha_p_102', 'alpha_p_73', 'alpha_p_81', 'alpha_p_83', 'alpha_p_84', 'alpha_p_86', 'alpha_p_89', 'alpha_p_92', 'alpha_p_137', 'alpha_p_138', 'alpha_p_142', 'alpha_p_158', 'alpha_p_159', 'alpha_p_163', 'alpha_p_164', 'alpha_p_4', 'alpha_p_5', 'alpha_p_6', 'alpha_p_8', 'alpha_p_9', 'alpha_p_18', 'beta_p_x_sdi', 'beta_p_x_tob', 'beta_p_x_sex', 'eta_p']\n",
      "  • Observed RVs   : 0 []\n",
      "  • Deterministics : 12 ['mu_age_p', 'constrained_mu_age_p', 'cum_sum_mu_p', 'mu_interval_p', 'sigma_alpha_p_0', 'sigma_alpha_p_1', 'sigma_alpha_p_2', 'sigma_alpha_p_3', 'sigma_alpha_p_4', 'pi_p', 'delta_p', 'p_pred_p']\n",
      "  • Potentials     : 10 ['smooth_p', 'parent_similarity_p_level_constraints', 'mu_age_derivative_potential_p', 'sigma_alpha_p_0_trunc', 'sigma_alpha_p_1_trunc', 'sigma_alpha_p_2_trunc', 'sigma_alpha_p_3_trunc', 'sigma_alpha_p_4_trunc', 'p_obs_p', 'covariate_constraint_p']\n",
      "  • Total Named RVs: 64\n"
     ]
    }
   ],
   "source": [
    "# process.asr() | (18) lower bound handling\n",
    "\n",
    "with pm_model:\n",
    "    if lb_data is not None and len(lb_data) > 0:\n",
    "        lb = {}\n",
    "        mu_interval_lb_tv = age_groups.age_standardize_approx(mu_age=constrained_mu_age, use_lb_data=True)\n",
    "\n",
    "        if include_covariates:\n",
    "            pi_lb_tv, X_shift_lb_tv, beta_lb_tv, U_lb_tv, alpha_lb_tv = covariates.mean_covariate_model(mu=mu_interval_lb_tv, use_lb_data=True)\n",
    "        else:\n",
    "            pi_lb_tv = mu_interval_lb_tv\n",
    "\n",
    "        delta_lb_tv = covariates.dispersion_covariate_model(lower=1e12, upper=1e13, use_lb_data=True)\n",
    "\n",
    "        se_lb = lb_data['standard_error'].mask(\n",
    "            lb_data['standard_error'].le(0) | lb_data['standard_error'].isna(),\n",
    "            (lb_data['upper_ci'] - lb_data['lower_ci']) / (2 * 1.96)\n",
    "        )\n",
    "        ess_lb = lb_data['effective_sample_size'].fillna(\n",
    "            lb_data['value'] * (1 - lb_data['value']) / se_lb**2\n",
    "        )\n",
    "        lb_data['standard_error'] = se_lb\n",
    "        lb_data['effective_sample_size'] = ess_lb\n",
    "\n",
    "        lb_like = likelihood.neg_binom_lower_bound(pi=pi_lb_tv, delta=delta_lb_tv)\n",
    "\n",
    "\n",
    "inspect_model(pm_model, show_shared_data=False)"
   ]
  },
  {
   "cell_type": "code",
   "execution_count": 34,
   "id": "57a81d58",
   "metadata": {},
   "outputs": [
    {
     "name": "stderr",
     "output_type": "stream",
     "text": [
      "INFO:__main__:  ▶ pm.find_MAP() 수행 중...\n"
     ]
    },
    {
     "data": {
      "text/html": [
       "\n",
       "<style>\n",
       "    /* Turns off some styling */\n",
       "    progress {\n",
       "        /* gets rid of default border in Firefox and Opera. */\n",
       "        border: none;\n",
       "        /* Needs to be in here for Safari polyfill so background images work as expected. */\n",
       "        background-size: auto;\n",
       "    }\n",
       "    progress:not([value]), progress:not([value])::-webkit-progress-bar {\n",
       "        background: repeating-linear-gradient(45deg, #7e7e7e, #7e7e7e 10px, #5c5c5c 10px, #5c5c5c 20px);\n",
       "    }\n",
       "    .progress-bar-interrupted, .progress-bar-interrupted::-webkit-progress-bar {\n",
       "        background: #F44336;\n",
       "    }\n",
       "</style>\n"
      ],
      "text/plain": [
       "<IPython.core.display.HTML object>"
      ]
     },
     "metadata": {},
     "output_type": "display_data"
    },
    {
     "data": {
      "text/html": [
       "\n",
       "    <div>\n",
       "      <progress value='130' class='' max='130' style='width:300px; height:20px; vertical-align: middle;'></progress>\n",
       "      100.00% [130/130 00:00&lt;00:00 logp = -908.75, ||grad|| = 190.73]\n",
       "    </div>\n",
       "    "
      ],
      "text/plain": [
       "<IPython.core.display.HTML object>"
      ]
     },
     "metadata": {},
     "output_type": "display_data"
    },
    {
     "name": "stdout",
     "output_type": "stream",
     "text": [
      "\n"
     ]
    }
   ],
   "source": [
    "# fit.asr() | (1) \n",
    "import pymc as pm\n",
    "import logging\n",
    "\n",
    "logging.basicConfig(level=logging.INFO)\n",
    "logger = logging.getLogger(__name__)\n",
    "verbose = True\n",
    "\n",
    "with pm_model:\n",
    "    if verbose:\n",
    "        logger.info(\"  ▶ pm.find_MAP() 수행 중...\")\n",
    "    map_estimate = pm.find_MAP()"
   ]
  },
  {
   "cell_type": "code",
   "execution_count": 35,
   "id": "2d5fb7f1",
   "metadata": {},
   "outputs": [],
   "source": [
    "# 0 divergences with these settings\n",
    "draws  = 1000\n",
    "tune   = 500\n",
    "chains = 2 \n",
    "cores  = 4\n",
    "target_accept = 0.95\n",
    "max_treedepth = 10\n",
    "use_advi = False\n",
    "use_metropolis = False\n",
    "vi_iters = 20000\n",
    "vi_lr = 1e-3\n",
    "verbose = True"
   ]
  },
  {
   "cell_type": "code",
   "execution_count": 36,
   "id": "46e075d0",
   "metadata": {},
   "outputs": [
    {
     "name": "stderr",
     "output_type": "stream",
     "text": [
      "INFO:__main__:  ▶ NUTS 샘플링 수행 중...\n",
      "/var/folders/67/dbhlxds92p10kn5lvnqq1mf00000gn/T/ipykernel_8104/839265011.py:47: FutureWarning: The `start` kwarg was renamed to `initvals` and can now do more. Please check the docstring.\n",
      "  idata = pm.sample(\n",
      "Auto-assigning NUTS sampler...\n",
      "INFO:pymc:Auto-assigning NUTS sampler...\n",
      "Initializing NUTS using jitter+adapt_diag...\n",
      "INFO:pymc:Initializing NUTS using jitter+adapt_diag...\n",
      "Multiprocess sampling (4 chains in 4 jobs)\n",
      "INFO:pymc:Multiprocess sampling (4 chains in 4 jobs)\n",
      "NUTS: [gamma_p, sigma_alpha_p_0_z, sigma_alpha_p_1_z, sigma_alpha_p_2_z, sigma_alpha_p_3_z, sigma_alpha_p_4_z, alpha_p_31, alpha_p_56, alpha_p_62, alpha_p_64, alpha_p_70, alpha_p_71, alpha_p_65, alpha_p_67, alpha_p_68, alpha_p_69, alpha_p_100, alpha_p_102, alpha_p_73, alpha_p_81, alpha_p_83, alpha_p_84, alpha_p_86, alpha_p_89, alpha_p_92, alpha_p_137, alpha_p_138, alpha_p_142, alpha_p_158, alpha_p_159, alpha_p_163, alpha_p_164, alpha_p_4, alpha_p_5, alpha_p_6, alpha_p_8, alpha_p_9, alpha_p_18, beta_p_x_sdi, beta_p_x_tob, beta_p_x_sex, eta_p]\n",
      "INFO:pymc:NUTS: [gamma_p, sigma_alpha_p_0_z, sigma_alpha_p_1_z, sigma_alpha_p_2_z, sigma_alpha_p_3_z, sigma_alpha_p_4_z, alpha_p_31, alpha_p_56, alpha_p_62, alpha_p_64, alpha_p_70, alpha_p_71, alpha_p_65, alpha_p_67, alpha_p_68, alpha_p_69, alpha_p_100, alpha_p_102, alpha_p_73, alpha_p_81, alpha_p_83, alpha_p_84, alpha_p_86, alpha_p_89, alpha_p_92, alpha_p_137, alpha_p_138, alpha_p_142, alpha_p_158, alpha_p_159, alpha_p_163, alpha_p_164, alpha_p_4, alpha_p_5, alpha_p_6, alpha_p_8, alpha_p_9, alpha_p_18, beta_p_x_sdi, beta_p_x_tob, beta_p_x_sex, eta_p]\n"
     ]
    },
    {
     "data": {
      "text/html": [
       "\n",
       "<style>\n",
       "    /* Turns off some styling */\n",
       "    progress {\n",
       "        /* gets rid of default border in Firefox and Opera. */\n",
       "        border: none;\n",
       "        /* Needs to be in here for Safari polyfill so background images work as expected. */\n",
       "        background-size: auto;\n",
       "    }\n",
       "    progress:not([value]), progress:not([value])::-webkit-progress-bar {\n",
       "        background: repeating-linear-gradient(45deg, #7e7e7e, #7e7e7e 10px, #5c5c5c 10px, #5c5c5c 20px);\n",
       "    }\n",
       "    .progress-bar-interrupted, .progress-bar-interrupted::-webkit-progress-bar {\n",
       "        background: #F44336;\n",
       "    }\n",
       "</style>\n"
      ],
      "text/plain": [
       "<IPython.core.display.HTML object>"
      ]
     },
     "metadata": {},
     "output_type": "display_data"
    },
    {
     "data": {
      "text/html": [
       "\n",
       "    <div>\n",
       "      <progress value='12000' class='' max='12000' style='width:300px; height:20px; vertical-align: middle;'></progress>\n",
       "      100.00% [12000/12000 05:32&lt;00:00 Sampling 4 chains, 0 divergences]\n",
       "    </div>\n",
       "    "
      ],
      "text/plain": [
       "<IPython.core.display.HTML object>"
      ]
     },
     "metadata": {},
     "output_type": "display_data"
    },
    {
     "name": "stderr",
     "output_type": "stream",
     "text": [
      "Sampling 4 chains for 1_000 tune and 2_000 draw iterations (4_000 + 8_000 draws total) took 333 seconds.\n",
      "INFO:pymc:Sampling 4 chains for 1_000 tune and 2_000 draw iterations (4_000 + 8_000 draws total) took 333 seconds.\n",
      "The rhat statistic is larger than 1.01 for some parameters. This indicates problems during sampling. See https://arxiv.org/abs/1903.08008 for details\n",
      "INFO:pymc:The rhat statistic is larger than 1.01 for some parameters. This indicates problems during sampling. See https://arxiv.org/abs/1903.08008 for details\n",
      "The effective sample size per chain is smaller than 100 for some parameters.  A higher number is needed for reliable rhat and ess computation. See https://arxiv.org/abs/1903.08008 for details\n",
      "ERROR:pymc:The effective sample size per chain is smaller than 100 for some parameters.  A higher number is needed for reliable rhat and ess computation. See https://arxiv.org/abs/1903.08008 for details\n",
      "INFO:__main__:[asr] 전체 소요 시간: 356.9초\n"
     ]
    }
   ],
   "source": [
    "# fit.asr() | (2) \n",
    "import time\n",
    "\n",
    "draws  = 2000\n",
    "tune   = 1000\n",
    "chains = 4\n",
    "cores  = 4\n",
    "target_accept = 0.95\n",
    "max_treedepth = 10\n",
    "use_advi = False\n",
    "use_metropolis = False\n",
    "vi_iters = 20000\n",
    "vi_lr = 1e-3\n",
    "verbose = True\n",
    "\n",
    "t_start = time.time()\n",
    "with pm_model:\n",
    "    if use_advi:\n",
    "        if verbose:\n",
    "            logger.info(\"  ▶ ADVI 수행 중...\")\n",
    "        approx = pm.fit(\n",
    "            n=vi_iters,\n",
    "            method=\"advi\",\n",
    "            obj_optimizer=pm.adam(learning_rate=vi_lr),\n",
    "            callbacks=[pm.callbacks.CheckParametersConvergence(tolerance=1e-4)],\n",
    "        )\n",
    "        idata = approx.sample(draws=draws)\n",
    "\n",
    "    elif use_metropolis:\n",
    "        if verbose:\n",
    "            logger.info(\"  ▶ Metropolis 샘플링 수행 중...\")\n",
    "        step = pm.Metropolis()\n",
    "        idata = pm.sample(\n",
    "            draws=draws,\n",
    "            tune=tune,\n",
    "            chains=chains,\n",
    "            cores=cores,\n",
    "            step=step,\n",
    "            start=map_estimate,\n",
    "            return_inferencedata=True,\n",
    "            progressbar=verbose,\n",
    "        )\n",
    "\n",
    "    else:\n",
    "        if verbose:\n",
    "            logger.info(\"  ▶ NUTS 샘플링 수행 중...\")\n",
    "        idata = pm.sample(\n",
    "            draws=draws,\n",
    "            tune=tune,\n",
    "            chains=chains,\n",
    "            cores=cores,\n",
    "            start=map_estimate,\n",
    "            target_accept=target_accept,\n",
    "            nuts={\"max_treedepth\": max_treedepth},\n",
    "            return_inferencedata=True,\n",
    "            progressbar=verbose,\n",
    "        )\n",
    "    \n",
    "t_end = time.time()\n",
    "wall_time = t_end - t_start\n",
    "if verbose:\n",
    "    logger.info(f\"[asr] 전체 소요 시간: {wall_time:.1f}초\")"
   ]
  },
  {
   "cell_type": "code",
   "execution_count": null,
   "id": "6edcf921",
   "metadata": {},
   "outputs": [],
   "source": []
  }
 ],
 "metadata": {
  "kernelspec": {
   "display_name": "amd",
   "language": "python",
   "name": "python3"
  },
  "language_info": {
   "codemirror_mode": {
    "name": "ipython",
    "version": 3
   },
   "file_extension": ".py",
   "mimetype": "text/x-python",
   "name": "python",
   "nbconvert_exporter": "python",
   "pygments_lexer": "ipython3",
   "version": "3.9.7"
  }
 },
 "nbformat": 4,
 "nbformat_minor": 5
}
