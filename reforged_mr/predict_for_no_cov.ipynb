{
 "cells": [
  {
   "cell_type": "code",
   "execution_count": 1,
   "metadata": {},
   "outputs": [
    {
     "name": "stdout",
     "output_type": "stream",
     "text": [
      "/Users/Dev/AMD/dismod_mr_migrated/reforged_mr/model/spline.py\n",
      "/Users/Dev/AMD/dismod_mr_migrated/reforged_mr/model/priors.py\n",
      "/Users/Dev/AMD/dismod_mr_migrated/reforged_mr/model/age_groups.py\n",
      "/Users/Dev/AMD/dismod_mr_migrated/reforged_mr/model/covariates.py\n",
      "/Users/Dev/AMD/dismod_mr_migrated/reforged_mr/model/likelihood.py\n",
      "/Users/Dev/AMD/dismod_mr_migrated/reforged_mr/pipeline.py\n"
     ]
    }
   ],
   "source": [
    "import pipeline as pipeline\n",
    "print(pipeline.__file__)"
   ]
  },
  {
   "cell_type": "code",
   "execution_count": null,
   "metadata": {},
   "outputs": [],
   "source": [
    "include_covariates = False"
   ]
  },
  {
   "cell_type": "code",
   "execution_count": null,
   "metadata": {},
   "outputs": [
    {
     "name": "stdout",
     "output_type": "stream",
     "text": [
      "number of rows: 207\n",
      "number of unique location_id: 18\n",
      "number of nodes: 233\n",
      "number of edges: 232\n"
     ]
    }
   ],
   "source": [
    "input_dir  = './input_data'\n",
    "stage_dirs = ['amd_sim_data', 'amd_sim_data_Early', 'amd_sim_data_Intermediate', 'amd_sim_data_Late-dry', 'amd_sim_data_Late-wet']\n",
    "stage      = stage_dirs[2] # Intermediate\n",
    "\n",
    "pm_model = pipeline.initiliaze_pipeline(f'{input_dir}/{stage}', verbose=True)"
   ]
  },
  {
   "cell_type": "code",
   "execution_count": null,
   "metadata": {},
   "outputs": [
    {
     "name": "stdout",
     "output_type": "stream",
     "text": [
      "Standard errors replaced: 0\n",
      "Effective sample sizes filled: 0\n"
     ]
    }
   ],
   "source": [
    "rate_types = ['beta_binom', 'binom', 'neg_binom', 'poisson', 'log_normal', 'normal', 'offset_log_normal']\n",
    "rate_type = rate_types[2]\n",
    "\n",
    "pipeline.generate_pymc_objects(pm_model, rate_type=rate_type, include_covariates=include_covariates)"
   ]
  },
  {
   "cell_type": "markdown",
   "metadata": {},
   "source": []
  },
  {
   "cell_type": "code",
   "execution_count": 4,
   "metadata": {},
   "outputs": [
    {
     "name": "stderr",
     "output_type": "stream",
     "text": [
      "INFO:pipeline:  ▶ pm.find_MAP() 수행 중...\n"
     ]
    },
    {
     "data": {
      "text/html": [
       "\n",
       "<style>\n",
       "    /* Turns off some styling */\n",
       "    progress {\n",
       "        /* gets rid of default border in Firefox and Opera. */\n",
       "        border: none;\n",
       "        /* Needs to be in here for Safari polyfill so background images work as expected. */\n",
       "        background-size: auto;\n",
       "    }\n",
       "    progress:not([value]), progress:not([value])::-webkit-progress-bar {\n",
       "        background: repeating-linear-gradient(45deg, #7e7e7e, #7e7e7e 10px, #5c5c5c 10px, #5c5c5c 20px);\n",
       "    }\n",
       "    .progress-bar-interrupted, .progress-bar-interrupted::-webkit-progress-bar {\n",
       "        background: #F44336;\n",
       "    }\n",
       "</style>\n"
      ],
      "text/plain": [
       "<IPython.core.display.HTML object>"
      ]
     },
     "metadata": {},
     "output_type": "display_data"
    },
    {
     "data": {
      "text/html": [
       "\n",
       "    <div>\n",
       "      <progress value='147' class='' max='147' style='width:300px; height:20px; vertical-align: middle;'></progress>\n",
       "      100.00% [147/147 00:00&lt;00:00 logp = -6.0053e+09, ||grad|| = 1.9657e+11]\n",
       "    </div>\n",
       "    "
      ],
      "text/plain": [
       "<IPython.core.display.HTML object>"
      ]
     },
     "metadata": {},
     "output_type": "display_data"
    },
    {
     "name": "stdout",
     "output_type": "stream",
     "text": [
      "\n"
     ]
    }
   ],
   "source": [
    "map_estimate = pipeline.return_map_estimate(pm_model=pm_model, verbose=True)"
   ]
  },
  {
   "cell_type": "code",
   "execution_count": 5,
   "metadata": {},
   "outputs": [
    {
     "name": "stderr",
     "output_type": "stream",
     "text": [
      "INFO:pipeline:  ▶ Metropolis 샘플링 수행 중...\n",
      "Multiprocess sampling (4 chains in 4 jobs)\n",
      "INFO:pymc:Multiprocess sampling (4 chains in 4 jobs)\n",
      "CompoundStep\n",
      "INFO:pymc:CompoundStep\n",
      ">Metropolis: [gamma_p]\n",
      "INFO:pymc:>Metropolis: [gamma_p]\n",
      ">Metropolis: [eta_p]\n",
      "INFO:pymc:>Metropolis: [eta_p]\n"
     ]
    },
    {
     "data": {
      "text/html": [
       "\n",
       "<style>\n",
       "    /* Turns off some styling */\n",
       "    progress {\n",
       "        /* gets rid of default border in Firefox and Opera. */\n",
       "        border: none;\n",
       "        /* Needs to be in here for Safari polyfill so background images work as expected. */\n",
       "        background-size: auto;\n",
       "    }\n",
       "    progress:not([value]), progress:not([value])::-webkit-progress-bar {\n",
       "        background: repeating-linear-gradient(45deg, #7e7e7e, #7e7e7e 10px, #5c5c5c 10px, #5c5c5c 20px);\n",
       "    }\n",
       "    .progress-bar-interrupted, .progress-bar-interrupted::-webkit-progress-bar {\n",
       "        background: #F44336;\n",
       "    }\n",
       "</style>\n"
      ],
      "text/plain": [
       "<IPython.core.display.HTML object>"
      ]
     },
     "metadata": {},
     "output_type": "display_data"
    },
    {
     "data": {
      "text/html": [
       "\n",
       "    <div>\n",
       "      <progress value='12000' class='' max='12000' style='width:300px; height:20px; vertical-align: middle;'></progress>\n",
       "      100.00% [12000/12000 00:06&lt;00:00 Sampling 4 chains, 0 divergences]\n",
       "    </div>\n",
       "    "
      ],
      "text/plain": [
       "<IPython.core.display.HTML object>"
      ]
     },
     "metadata": {},
     "output_type": "display_data"
    },
    {
     "name": "stderr",
     "output_type": "stream",
     "text": [
      "Sampling 4 chains for 1_000 tune and 2_000 draw iterations (4_000 + 8_000 draws total) took 7 seconds.\n",
      "INFO:pymc:Sampling 4 chains for 1_000 tune and 2_000 draw iterations (4_000 + 8_000 draws total) took 7 seconds.\n",
      "The rhat statistic is larger than 1.01 for some parameters. This indicates problems during sampling. See https://arxiv.org/abs/1903.08008 for details\n",
      "INFO:pymc:The rhat statistic is larger than 1.01 for some parameters. This indicates problems during sampling. See https://arxiv.org/abs/1903.08008 for details\n",
      "The effective sample size per chain is smaller than 100 for some parameters.  A higher number is needed for reliable rhat and ess computation. See https://arxiv.org/abs/1903.08008 for details\n",
      "ERROR:pymc:The effective sample size per chain is smaller than 100 for some parameters.  A higher number is needed for reliable rhat and ess computation. See https://arxiv.org/abs/1903.08008 for details\n",
      "INFO:pipeline:[asr] 전체 소요 시간: 21.0초\n"
     ]
    }
   ],
   "source": [
    "idata = pipeline.return_idata(pm_model         = pm_model, \n",
    "                                map_estimate   = map_estimate, \n",
    "                                draws          = 2000,\n",
    "                                tune           = 1000,\n",
    "                                chains         = 4,\n",
    "                                cores          = 4,\n",
    "                                target_accept  = 0.9,\n",
    "                                max_treedepth  = 10,\n",
    "                                use_advi       = False,\n",
    "                                use_metropolis = True,\n",
    "                                verbose=True\n",
    "                                ) "
   ]
  },
  {
   "cell_type": "code",
   "execution_count": 6,
   "metadata": {},
   "outputs": [
    {
     "name": "stdout",
     "output_type": "stream",
     "text": [
      "Total vars:    907\n",
      "R-hat > 1.01:  0\n",
      "R-hat <= 1.01:  851\n",
      "R-hat missing: 56\n",
      "<xarray.Dataset> Size: 14kB\n",
      "Dimensions:               (knot: 6, age: 93, cum_sum_mu_p_dim_0: 93,\n",
      "                           mu_interval_p_dim_0: 207, obs_dim: 207,\n",
      "                           p_pred_p_dim_0: 207)\n",
      "Coordinates:\n",
      "  * knot                  (knot) float64 48B 2.0 30.0 45.0 60.0 80.0 94.0\n",
      "  * age                   (age) float64 744B 2.0 3.0 4.0 5.0 ... 92.0 93.0 94.0\n",
      "  * cum_sum_mu_p_dim_0    (cum_sum_mu_p_dim_0) int64 744B 0 1 2 3 ... 90 91 92\n",
      "  * mu_interval_p_dim_0   (mu_interval_p_dim_0) int64 2kB 0 1 2 ... 204 205 206\n",
      "  * obs_dim               (obs_dim) int64 2kB 0 1 2 3 4 ... 202 203 204 205 206\n",
      "  * p_pred_p_dim_0        (p_pred_p_dim_0) int64 2kB 0 1 2 3 ... 203 204 205 206\n",
      "Data variables:\n",
      "    gamma_p               (knot) float64 48B 1.008 1.011 1.006 1.009 1.007 1.005\n",
      "    eta_p                 float64 8B 1.004\n",
      "    mu_age_p              (age) float64 744B 1.008 1.008 1.008 ... 1.005 1.005\n",
      "    constrained_mu_age_p  (age) float64 744B nan nan nan ... 1.004 1.005 1.005\n",
      "    cum_sum_mu_p          (cum_sum_mu_p_dim_0) float64 744B nan nan ... 1.002\n",
      "    mu_interval_p         (mu_interval_p_dim_0) float64 2kB 1.009 ... 1.004\n",
      "    delta_p               (obs_dim) float64 2kB 1.004 1.004 ... 1.004 1.004\n",
      "    p_pred_p              (p_pred_p_dim_0) float64 2kB 1.009 1.009 ... 1.004\n"
     ]
    }
   ],
   "source": [
    "summary_df = pipeline.return_rhat(idata)"
   ]
  },
  {
   "cell_type": "code",
   "execution_count": null,
   "metadata": {},
   "outputs": [
    {
     "ename": "TypeError",
     "evalue": "visualize_pred() missing 1 required positional argument: 'include_covariates'",
     "output_type": "error",
     "traceback": [
      "\u001b[0;31m---------------------------------------------------------------------------\u001b[0m",
      "\u001b[0;31mTypeError\u001b[0m                                 Traceback (most recent call last)",
      "Cell \u001b[0;32mIn[7], line 27\u001b[0m\n\u001b[1;32m     15\u001b[0m location_id \u001b[38;5;241m=\u001b[39m \u001b[38;5;241m1\u001b[39m\n\u001b[1;32m     17\u001b[0m pred \u001b[38;5;241m=\u001b[39m pipeline\u001b[38;5;241m.\u001b[39mpredict_for(pm_model            \u001b[38;5;241m=\u001b[39m pm_model,\n\u001b[1;32m     18\u001b[0m                             idata               \u001b[38;5;241m=\u001b[39m idata, \n\u001b[1;32m     19\u001b[0m                             include_covariates  \u001b[38;5;241m=\u001b[39m \u001b[38;5;28;01mFalse\u001b[39;00m,\n\u001b[0;32m   (...)\u001b[0m\n\u001b[1;32m     24\u001b[0m                             sex                 \u001b[38;5;241m=\u001b[39m sex\n\u001b[1;32m     25\u001b[0m                             )\n\u001b[0;32m---> 27\u001b[0m \u001b[43mpipeline\u001b[49m\u001b[38;5;241;43m.\u001b[39;49m\u001b[43mvisualize_pred\u001b[49m\u001b[43m(\u001b[49m\u001b[43mpred\u001b[49m\u001b[43m,\u001b[49m\u001b[43m \u001b[49m\u001b[43mpm_model\u001b[49m\u001b[38;5;241;43m.\u001b[39;49m\u001b[43mshared_data\u001b[49m\u001b[43m[\u001b[49m\u001b[38;5;124;43m'\u001b[39;49m\u001b[38;5;124;43mdata\u001b[39;49m\u001b[38;5;124;43m'\u001b[39;49m\u001b[43m]\u001b[49m\u001b[43m,\u001b[49m\u001b[43m \u001b[49m\u001b[43myear\u001b[49m\u001b[43m,\u001b[49m\u001b[43m \u001b[49m\u001b[43mpm_model\u001b[49m\u001b[38;5;241;43m.\u001b[39;49m\u001b[43mshared_data\u001b[49m\u001b[43m[\u001b[49m\u001b[38;5;124;43m'\u001b[39;49m\u001b[38;5;124;43mid_to_name\u001b[39;49m\u001b[38;5;124;43m'\u001b[39;49m\u001b[43m]\u001b[49m\u001b[43m[\u001b[49m\u001b[43mlocation_id\u001b[49m\u001b[43m]\u001b[49m\u001b[43m,\u001b[49m\u001b[43m \u001b[49m\u001b[43msex\u001b[49m\u001b[43m)\u001b[49m\n",
      "\u001b[0;31mTypeError\u001b[0m: visualize_pred() missing 1 required positional argument: 'include_covariates'"
     ]
    }
   ],
   "source": [
    "# Global: 1\n",
    "\n",
    "# High-income Asia Pacific: 65\n",
    "    # Brunei Darussalam: 66\n",
    "    # Japan: 67\n",
    "    # Republic of Korea: 68\n",
    "    # Singapore: 69\n",
    "\n",
    "# USA: 102\n",
    "\n",
    "# Cambodia: 10\n",
    "year = 1990\n",
    "sex = 'Female'\n",
    "location_id = 1\n",
    "\n",
    "pred = pipeline.predict_for(pm_model            = pm_model,\n",
    "                            idata               = idata, \n",
    "                            include_covariates  = include_covariates,\n",
    "                            lower               = 0.0,\n",
    "                            upper               = 1.0,\n",
    "                            year                = year,\n",
    "                            location_id         = location_id,\n",
    "                            sex                 = sex\n",
    "                            )\n",
    "\n",
    "pipeline.visualize_pred(pred, pm_model.shared_data['data'], year, pm_model.shared_data['id_to_name'][location_id], sex, include_covariates)"
   ]
  },
  {
   "cell_type": "code",
   "execution_count": 9,
   "metadata": {},
   "outputs": [],
   "source": [
    "# Execute above cells"
   ]
  }
 ],
 "metadata": {
  "kernelspec": {
   "display_name": "amd",
   "language": "python",
   "name": "python3"
  },
  "language_info": {
   "codemirror_mode": {
    "name": "ipython",
    "version": 3
   },
   "file_extension": ".py",
   "mimetype": "text/x-python",
   "name": "python",
   "nbconvert_exporter": "python",
   "pygments_lexer": "ipython3",
   "version": "3.9.7"
  }
 },
 "nbformat": 4,
 "nbformat_minor": 2
}
