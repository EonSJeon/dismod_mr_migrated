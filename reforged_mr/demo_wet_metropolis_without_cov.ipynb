{
 "cells": [
  {
   "cell_type": "code",
   "execution_count": 1,
   "metadata": {},
   "outputs": [
    {
     "name": "stdout",
     "output_type": "stream",
     "text": [
      "/Users/Dev/AMD/dismod_mr_migrated/reforged_mr/model/spline.py\n",
      "/Users/Dev/AMD/dismod_mr_migrated/reforged_mr/model/priors.py\n",
      "/Users/Dev/AMD/dismod_mr_migrated/reforged_mr/model/age_groups.py\n",
      "/Users/Dev/AMD/dismod_mr_migrated/reforged_mr/model/covariates.py\n",
      "/Users/Dev/AMD/dismod_mr_migrated/reforged_mr/model/likelihood.py\n",
      "/Users/Dev/AMD/dismod_mr_migrated/reforged_mr/pipeline.py\n"
     ]
    }
   ],
   "source": [
    "import pipeline as pipeline\n",
    "print(pipeline.__file__)"
   ]
  },
  {
   "cell_type": "code",
   "execution_count": 2,
   "metadata": {},
   "outputs": [
    {
     "name": "stdout",
     "output_type": "stream",
     "text": [
      "number of rows: 331\n",
      "number of unique location_id: 28\n",
      "number of nodes: 233\n",
      "number of edges: 232\n"
     ]
    }
   ],
   "source": [
    "input_dir  = './input_data'\n",
    "stage_dirs = ['amd_sim_data', 'amd_sim_data_Early', 'amd_sim_data_Intermediate', 'amd_sim_data_Late-dry', 'amd_sim_data_Late-wet']\n",
    "stage      = stage_dirs[4] # Wet\n",
    "\n",
    "pm_model = pipeline.initiliaze_pipeline(f'{input_dir}/{stage}', verbose=True)"
   ]
  },
  {
   "cell_type": "code",
   "execution_count": 3,
   "metadata": {},
   "outputs": [
    {
     "name": "stdout",
     "output_type": "stream",
     "text": [
      "Standard errors replaced: 0\n",
      "Effective sample sizes filled: 0\n"
     ]
    }
   ],
   "source": [
    "rate_types = ['beta_binom', 'binom', 'neg_binom', 'poisson', 'log_normal', 'normal', 'offset_log_normal']\n",
    "rate_type = rate_types[2]\n",
    "\n",
    "pipeline.generate_pymc_objects(pm_model, rate_type=rate_type, include_covariates=False)"
   ]
  },
  {
   "cell_type": "markdown",
   "metadata": {},
   "source": []
  },
  {
   "cell_type": "code",
   "execution_count": 4,
   "metadata": {},
   "outputs": [
    {
     "name": "stderr",
     "output_type": "stream",
     "text": [
      "INFO:pipeline:  ▶ pm.find_MAP() 수행 중...\n"
     ]
    },
    {
     "data": {
      "text/html": [
       "\n",
       "<style>\n",
       "    /* Turns off some styling */\n",
       "    progress {\n",
       "        /* gets rid of default border in Firefox and Opera. */\n",
       "        border: none;\n",
       "        /* Needs to be in here for Safari polyfill so background images work as expected. */\n",
       "        background-size: auto;\n",
       "    }\n",
       "    progress:not([value]), progress:not([value])::-webkit-progress-bar {\n",
       "        background: repeating-linear-gradient(45deg, #7e7e7e, #7e7e7e 10px, #5c5c5c 10px, #5c5c5c 20px);\n",
       "    }\n",
       "    .progress-bar-interrupted, .progress-bar-interrupted::-webkit-progress-bar {\n",
       "        background: #F44336;\n",
       "    }\n",
       "</style>\n"
      ],
      "text/plain": [
       "<IPython.core.display.HTML object>"
      ]
     },
     "metadata": {},
     "output_type": "display_data"
    },
    {
     "data": {
      "text/html": [
       "\n",
       "    <div>\n",
       "      <progress value='78' class='' max='78' style='width:300px; height:20px; vertical-align: middle;'></progress>\n",
       "      100.00% [78/78 00:00&lt;00:00 logp = -4,127.9, ||grad|| = 1,664.3]\n",
       "    </div>\n",
       "    "
      ],
      "text/plain": [
       "<IPython.core.display.HTML object>"
      ]
     },
     "metadata": {},
     "output_type": "display_data"
    },
    {
     "name": "stdout",
     "output_type": "stream",
     "text": [
      "\n"
     ]
    }
   ],
   "source": [
    "map_estimate = pipeline.return_map_estimate(pm_model=pm_model, verbose=True)"
   ]
  },
  {
   "cell_type": "code",
   "execution_count": 5,
   "metadata": {},
   "outputs": [
    {
     "name": "stderr",
     "output_type": "stream",
     "text": [
      "INFO:pipeline:  ▶ Metropolis 샘플링 수행 중...\n",
      "Multiprocess sampling (4 chains in 4 jobs)\n",
      "INFO:pymc:Multiprocess sampling (4 chains in 4 jobs)\n",
      "CompoundStep\n",
      "INFO:pymc:CompoundStep\n",
      ">Metropolis: [gamma_p]\n",
      "INFO:pymc:>Metropolis: [gamma_p]\n",
      ">Metropolis: [eta_p]\n",
      "INFO:pymc:>Metropolis: [eta_p]\n"
     ]
    },
    {
     "data": {
      "text/html": [
       "\n",
       "<style>\n",
       "    /* Turns off some styling */\n",
       "    progress {\n",
       "        /* gets rid of default border in Firefox and Opera. */\n",
       "        border: none;\n",
       "        /* Needs to be in here for Safari polyfill so background images work as expected. */\n",
       "        background-size: auto;\n",
       "    }\n",
       "    progress:not([value]), progress:not([value])::-webkit-progress-bar {\n",
       "        background: repeating-linear-gradient(45deg, #7e7e7e, #7e7e7e 10px, #5c5c5c 10px, #5c5c5c 20px);\n",
       "    }\n",
       "    .progress-bar-interrupted, .progress-bar-interrupted::-webkit-progress-bar {\n",
       "        background: #F44336;\n",
       "    }\n",
       "</style>\n"
      ],
      "text/plain": [
       "<IPython.core.display.HTML object>"
      ]
     },
     "metadata": {},
     "output_type": "display_data"
    },
    {
     "data": {
      "text/html": [
       "\n",
       "    <div>\n",
       "      <progress value='12000' class='' max='12000' style='width:300px; height:20px; vertical-align: middle;'></progress>\n",
       "      100.00% [12000/12000 00:04&lt;00:00 Sampling 4 chains, 0 divergences]\n",
       "    </div>\n",
       "    "
      ],
      "text/plain": [
       "<IPython.core.display.HTML object>"
      ]
     },
     "metadata": {},
     "output_type": "display_data"
    },
    {
     "name": "stderr",
     "output_type": "stream",
     "text": [
      "/Users/thp01/miniforge3/envs/amd/lib/python3.9/site-packages/pymc/step_methods/metropolis.py:284: RuntimeWarning: overflow encountered in exp\n",
      "  \"accept\": np.mean(np.exp(self.accept_rate_iter)),\n",
      "/Users/thp01/miniforge3/envs/amd/lib/python3.9/site-packages/pymc/step_methods/metropolis.py:284: RuntimeWarning: overflow encountered in exp\n",
      "  \"accept\": np.mean(np.exp(self.accept_rate_iter)),\n",
      "/Users/thp01/miniforge3/envs/amd/lib/python3.9/site-packages/pymc/step_methods/metropolis.py:284: RuntimeWarning: overflow encountered in exp\n",
      "  \"accept\": np.mean(np.exp(self.accept_rate_iter)),\n",
      "/Users/thp01/miniforge3/envs/amd/lib/python3.9/site-packages/pymc/step_methods/metropolis.py:284: RuntimeWarning: overflow encountered in exp\n",
      "  \"accept\": np.mean(np.exp(self.accept_rate_iter)),\n",
      "Sampling 4 chains for 1_000 tune and 2_000 draw iterations (4_000 + 8_000 draws total) took 5 seconds.\n",
      "INFO:pymc:Sampling 4 chains for 1_000 tune and 2_000 draw iterations (4_000 + 8_000 draws total) took 5 seconds.\n",
      "INFO:pipeline:[asr] 전체 소요 시간: 10.8초\n"
     ]
    }
   ],
   "source": [
    "idata = pipeline.return_idata(pm_model     = pm_model, \n",
    "                            map_estimate   = map_estimate, \n",
    "                            draws          = 2000,\n",
    "                            tune           = 1000,\n",
    "                            chains         = 4,\n",
    "                            cores          = 4,\n",
    "                            target_accept  = 0.9,\n",
    "                            max_treedepth  = 10,\n",
    "                            use_advi       = False,\n",
    "                            use_metropolis = True,\n",
    "                            verbose=True\n",
    "                            ) "
   ]
  },
  {
   "cell_type": "code",
   "execution_count": 6,
   "metadata": {},
   "outputs": [
    {
     "name": "stdout",
     "output_type": "stream",
     "text": [
      "Total vars:    1279\n",
      "R-hat > 1.01:  0\n",
      "R-hat <= 1.01:  1223\n",
      "R-hat missing: 56\n",
      "<xarray.Dataset> Size: 20kB\n",
      "Dimensions:               (knot: 6, age: 93, cum_sum_mu_p_dim_0: 93,\n",
      "                           mu_interval_p_dim_0: 331, obs_dim: 331,\n",
      "                           p_pred_p_dim_0: 331)\n",
      "Coordinates:\n",
      "  * knot                  (knot) float64 48B 2.0 30.0 45.0 60.0 80.0 94.0\n",
      "  * age                   (age) float64 744B 2.0 3.0 4.0 5.0 ... 92.0 93.0 94.0\n",
      "  * cum_sum_mu_p_dim_0    (cum_sum_mu_p_dim_0) int64 744B 0 1 2 3 ... 90 91 92\n",
      "  * mu_interval_p_dim_0   (mu_interval_p_dim_0) int64 3kB 0 1 2 ... 328 329 330\n",
      "  * obs_dim               (obs_dim) int64 3kB 0 1 2 3 4 ... 326 327 328 329 330\n",
      "  * p_pred_p_dim_0        (p_pred_p_dim_0) int64 3kB 0 1 2 3 ... 327 328 329 330\n",
      "Data variables:\n",
      "    gamma_p               (knot) float64 48B 1.003 1.005 1.003 1.003 1.003 1.003\n",
      "    eta_p                 float64 8B 1.002\n",
      "    mu_age_p              (age) float64 744B 1.003 1.003 1.003 ... 1.003 1.003\n",
      "    constrained_mu_age_p  (age) float64 744B nan nan nan ... 1.003 1.003 1.003\n",
      "    cum_sum_mu_p          (cum_sum_mu_p_dim_0) float64 744B nan nan ... 1.001\n",
      "    mu_interval_p         (mu_interval_p_dim_0) float64 3kB 1.002 ... 1.002\n",
      "    delta_p               (obs_dim) float64 3kB 1.002 1.002 ... 1.002 1.002\n",
      "    p_pred_p              (p_pred_p_dim_0) float64 3kB 1.002 1.002 ... 1.002\n"
     ]
    }
   ],
   "source": [
    "summary_df = pipeline.return_rhat(idata)"
   ]
  },
  {
   "cell_type": "code",
   "execution_count": 7,
   "metadata": {},
   "outputs": [],
   "source": [
    "pred = pipeline.predict_for(pm_model            = pm_model,\n",
    "                            idata               = idata, \n",
    "                            root_area           = 'Global',\n",
    "                            root_sex            = 'Both',\n",
    "                            root_year           = 2009,\n",
    "                            area                = 'Global',\n",
    "                            sex                 = 'Female',\n",
    "                            year                = 2005,\n",
    "                            population_weighted = 1.0,\n",
    "                            lower               = 0.0,\n",
    "                            upper               = 1.0,\n",
    "                            include_covariates  = False\n",
    "                            )"
   ]
  },
  {
   "cell_type": "code",
   "execution_count": 8,
   "metadata": {},
   "outputs": [
    {
     "name": "stderr",
     "output_type": "stream",
     "text": [
      "/Users/Dev/AMD/dismod_mr_migrated/reforged_mr/pipeline.py:729: FutureWarning: hdi currently interprets 2d data as (draw, shape) but this will change in a future release to (chain, draw) for coherence with other functions\n",
      "  hpd = pm.stats.hdi(pred, hdi_prob=0.95)\n"
     ]
    },
    {
     "data": {
      "image/png": "[encoded data removed]",
      "text/plain": [
       "<Figure size 1000x400 with 1 Axes>"
      ]
     },
     "metadata": {},
     "output_type": "display_data"
    }
   ],
   "source": [
    "pipeline.visualize_pred(pred, pm_model.shared_data[\"data\"])"
   ]
  },
  {
   "cell_type": "code",
   "execution_count": 4,
   "metadata": {},
   "outputs": [],
   "source": [
    "# Execute above cells"
   ]
  }
 ],
 "metadata": {
  "kernelspec": {
   "display_name": "amd",
   "language": "python",
   "name": "python3"
  },
  "language_info": {
   "codemirror_mode": {
    "name": "ipython",
    "version": 3
   },
   "file_extension": ".py",
   "mimetype": "text/x-python",
   "name": "python",
   "nbconvert_exporter": "python",
   "pygments_lexer": "ipython3",
   "version": "3.9.7"
  }
 },
 "nbformat": 4,
 "nbformat_minor": 2
}
