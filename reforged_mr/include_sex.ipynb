{
 "cells": [
  {
   "cell_type": "code",
   "execution_count": 1,
   "metadata": {},
   "outputs": [
    {
     "name": "stdout",
     "output_type": "stream",
     "text": [
      "/Users/Dev/AMD/dismod_mr_migrated/reforged_mr/model/spline.py\n",
      "/Users/Dev/AMD/dismod_mr_migrated/reforged_mr/model/priors.py\n",
      "/Users/Dev/AMD/dismod_mr_migrated/reforged_mr/model/age_groups.py\n",
      "/Users/Dev/AMD/dismod_mr_migrated/reforged_mr/model/covariates.py\n",
      "/Users/Dev/AMD/dismod_mr_migrated/reforged_mr/model/likelihood.py\n",
      "/Users/Dev/AMD/dismod_mr_migrated/reforged_mr/pipeline.py\n"
     ]
    }
   ],
   "source": [
    "import pipeline as pipeline\n",
    "print(pipeline.__file__)"
   ]
  },
  {
   "cell_type": "code",
   "execution_count": null,
   "metadata": {},
   "outputs": [],
   "source": [
    "include_covariates = True"
   ]
  },
  {
   "cell_type": "code",
   "execution_count": 2,
   "metadata": {},
   "outputs": [
    {
     "name": "stdout",
     "output_type": "stream",
     "text": [
      "number of rows: 207\n",
      "number of unique location_id: 18\n",
      "number of nodes: 233\n",
      "number of edges: 232\n"
     ]
    }
   ],
   "source": [
    "input_dir  = './input_data'\n",
    "stage_dirs = ['amd_sim_data', 'amd_sim_data_Early', 'amd_sim_data_Intermediate', 'amd_sim_data_Late-dry', 'amd_sim_data_Late-wet']\n",
    "stage      = stage_dirs[2] # Intermediate\n",
    "\n",
    "pm_model = pipeline.initiliaze_pipeline(f'{input_dir}/{stage}', verbose=True)"
   ]
  },
  {
   "cell_type": "code",
   "execution_count": null,
   "metadata": {},
   "outputs": [
    {
     "name": "stdout",
     "output_type": "stream",
     "text": [
      "Standard errors replaced: 0\n",
      "Effective sample sizes filled: 0\n"
     ]
    }
   ],
   "source": [
    "rate_types = ['beta_binom', 'binom', 'neg_binom', 'poisson', 'log_normal', 'normal', 'offset_log_normal']\n",
    "rate_type = rate_types[2]\n",
    "\n",
    "pipeline.generate_pymc_objects(pm_model, rate_type=rate_type, include_covariates=include_covariates)"
   ]
  },
  {
   "cell_type": "markdown",
   "metadata": {},
   "source": []
  },
  {
   "cell_type": "code",
   "execution_count": 4,
   "metadata": {},
   "outputs": [
    {
     "name": "stderr",
     "output_type": "stream",
     "text": [
      "INFO:pipeline:  ▶ pm.find_MAP() 수행 중...\n"
     ]
    },
    {
     "data": {
      "text/html": [
       "\n",
       "<style>\n",
       "    /* Turns off some styling */\n",
       "    progress {\n",
       "        /* gets rid of default border in Firefox and Opera. */\n",
       "        border: none;\n",
       "        /* Needs to be in here for Safari polyfill so background images work as expected. */\n",
       "        background-size: auto;\n",
       "    }\n",
       "    progress:not([value]), progress:not([value])::-webkit-progress-bar {\n",
       "        background: repeating-linear-gradient(45deg, #7e7e7e, #7e7e7e 10px, #5c5c5c 10px, #5c5c5c 20px);\n",
       "    }\n",
       "    .progress-bar-interrupted, .progress-bar-interrupted::-webkit-progress-bar {\n",
       "        background: #F44336;\n",
       "    }\n",
       "</style>\n"
      ],
      "text/plain": [
       "<IPython.core.display.HTML object>"
      ]
     },
     "metadata": {},
     "output_type": "display_data"
    },
    {
     "data": {
      "text/html": [
       "\n",
       "    <div>\n",
       "      <progress value='130' class='' max='130' style='width:300px; height:20px; vertical-align: middle;'></progress>\n",
       "      100.00% [130/130 00:00&lt;00:00 logp = -908.75, ||grad|| = 190.73]\n",
       "    </div>\n",
       "    "
      ],
      "text/plain": [
       "<IPython.core.display.HTML object>"
      ]
     },
     "metadata": {},
     "output_type": "display_data"
    },
    {
     "name": "stdout",
     "output_type": "stream",
     "text": [
      "\n"
     ]
    }
   ],
   "source": [
    "map_estimate = pipeline.return_map_estimate(pm_model=pm_model, verbose=True)"
   ]
  },
  {
   "cell_type": "code",
   "execution_count": 5,
   "metadata": {},
   "outputs": [
    {
     "name": "stderr",
     "output_type": "stream",
     "text": [
      "INFO:pipeline:  ▶ Metropolis 샘플링 수행 중...\n",
      "Multiprocess sampling (4 chains in 4 jobs)\n",
      "INFO:pymc:Multiprocess sampling (4 chains in 4 jobs)\n",
      "CompoundStep\n",
      "INFO:pymc:CompoundStep\n",
      ">Metropolis: [gamma_p]\n",
      "INFO:pymc:>Metropolis: [gamma_p]\n",
      ">Metropolis: [sigma_alpha_p_0_z]\n",
      "INFO:pymc:>Metropolis: [sigma_alpha_p_0_z]\n",
      ">Metropolis: [sigma_alpha_p_1_z]\n",
      "INFO:pymc:>Metropolis: [sigma_alpha_p_1_z]\n",
      ">Metropolis: [sigma_alpha_p_2_z]\n",
      "INFO:pymc:>Metropolis: [sigma_alpha_p_2_z]\n",
      ">Metropolis: [sigma_alpha_p_3_z]\n",
      "INFO:pymc:>Metropolis: [sigma_alpha_p_3_z]\n",
      ">Metropolis: [sigma_alpha_p_4_z]\n",
      "INFO:pymc:>Metropolis: [sigma_alpha_p_4_z]\n",
      ">Metropolis: [alpha_p_31]\n",
      "INFO:pymc:>Metropolis: [alpha_p_31]\n",
      ">Metropolis: [alpha_p_56]\n",
      "INFO:pymc:>Metropolis: [alpha_p_56]\n",
      ">Metropolis: [alpha_p_62]\n",
      "INFO:pymc:>Metropolis: [alpha_p_62]\n",
      ">Metropolis: [alpha_p_64]\n",
      "INFO:pymc:>Metropolis: [alpha_p_64]\n",
      ">Metropolis: [alpha_p_70]\n",
      "INFO:pymc:>Metropolis: [alpha_p_70]\n",
      ">Metropolis: [alpha_p_71]\n",
      "INFO:pymc:>Metropolis: [alpha_p_71]\n",
      ">Metropolis: [alpha_p_65]\n",
      "INFO:pymc:>Metropolis: [alpha_p_65]\n",
      ">Metropolis: [alpha_p_67]\n",
      "INFO:pymc:>Metropolis: [alpha_p_67]\n",
      ">Metropolis: [alpha_p_68]\n",
      "INFO:pymc:>Metropolis: [alpha_p_68]\n",
      ">Metropolis: [alpha_p_69]\n",
      "INFO:pymc:>Metropolis: [alpha_p_69]\n",
      ">Metropolis: [alpha_p_100]\n",
      "INFO:pymc:>Metropolis: [alpha_p_100]\n",
      ">Metropolis: [alpha_p_102]\n",
      "INFO:pymc:>Metropolis: [alpha_p_102]\n",
      ">Metropolis: [alpha_p_73]\n",
      "INFO:pymc:>Metropolis: [alpha_p_73]\n",
      ">Metropolis: [alpha_p_81]\n",
      "INFO:pymc:>Metropolis: [alpha_p_81]\n",
      ">Metropolis: [alpha_p_83]\n",
      "INFO:pymc:>Metropolis: [alpha_p_83]\n",
      ">Metropolis: [alpha_p_84]\n",
      "INFO:pymc:>Metropolis: [alpha_p_84]\n",
      ">Metropolis: [alpha_p_86]\n",
      "INFO:pymc:>Metropolis: [alpha_p_86]\n",
      ">Metropolis: [alpha_p_89]\n",
      "INFO:pymc:>Metropolis: [alpha_p_89]\n",
      ">Metropolis: [alpha_p_92]\n",
      "INFO:pymc:>Metropolis: [alpha_p_92]\n",
      ">Metropolis: [alpha_p_137]\n",
      "INFO:pymc:>Metropolis: [alpha_p_137]\n",
      ">Metropolis: [alpha_p_138]\n",
      "INFO:pymc:>Metropolis: [alpha_p_138]\n",
      ">Metropolis: [alpha_p_142]\n",
      "INFO:pymc:>Metropolis: [alpha_p_142]\n",
      ">Metropolis: [alpha_p_158]\n",
      "INFO:pymc:>Metropolis: [alpha_p_158]\n",
      ">Metropolis: [alpha_p_159]\n",
      "INFO:pymc:>Metropolis: [alpha_p_159]\n",
      ">Metropolis: [alpha_p_163]\n",
      "INFO:pymc:>Metropolis: [alpha_p_163]\n",
      ">Metropolis: [alpha_p_164]\n",
      "INFO:pymc:>Metropolis: [alpha_p_164]\n",
      ">Metropolis: [alpha_p_4]\n",
      "INFO:pymc:>Metropolis: [alpha_p_4]\n",
      ">Metropolis: [alpha_p_5]\n",
      "INFO:pymc:>Metropolis: [alpha_p_5]\n",
      ">Metropolis: [alpha_p_6]\n",
      "INFO:pymc:>Metropolis: [alpha_p_6]\n",
      ">Metropolis: [alpha_p_8]\n",
      "INFO:pymc:>Metropolis: [alpha_p_8]\n",
      ">Metropolis: [alpha_p_9]\n",
      "INFO:pymc:>Metropolis: [alpha_p_9]\n",
      ">Metropolis: [alpha_p_18]\n",
      "INFO:pymc:>Metropolis: [alpha_p_18]\n",
      ">Metropolis: [beta_p_x_sdi]\n",
      "INFO:pymc:>Metropolis: [beta_p_x_sdi]\n",
      ">Metropolis: [beta_p_x_tob]\n",
      "INFO:pymc:>Metropolis: [beta_p_x_tob]\n",
      ">Metropolis: [beta_p_x_sex]\n",
      "INFO:pymc:>Metropolis: [beta_p_x_sex]\n",
      ">Metropolis: [eta_p]\n",
      "INFO:pymc:>Metropolis: [eta_p]\n"
     ]
    },
    {
     "data": {
      "text/html": [
       "\n",
       "<style>\n",
       "    /* Turns off some styling */\n",
       "    progress {\n",
       "        /* gets rid of default border in Firefox and Opera. */\n",
       "        border: none;\n",
       "        /* Needs to be in here for Safari polyfill so background images work as expected. */\n",
       "        background-size: auto;\n",
       "    }\n",
       "    progress:not([value]), progress:not([value])::-webkit-progress-bar {\n",
       "        background: repeating-linear-gradient(45deg, #7e7e7e, #7e7e7e 10px, #5c5c5c 10px, #5c5c5c 20px);\n",
       "    }\n",
       "    .progress-bar-interrupted, .progress-bar-interrupted::-webkit-progress-bar {\n",
       "        background: #F44336;\n",
       "    }\n",
       "</style>\n"
      ],
      "text/plain": [
       "<IPython.core.display.HTML object>"
      ]
     },
     "metadata": {},
     "output_type": "display_data"
    },
    {
     "data": {
      "text/html": [
       "\n",
       "    <div>\n",
       "      <progress value='12000' class='' max='12000' style='width:300px; height:20px; vertical-align: middle;'></progress>\n",
       "      100.00% [12000/12000 01:40&lt;00:00 Sampling 4 chains, 0 divergences]\n",
       "    </div>\n",
       "    "
      ],
      "text/plain": [
       "<IPython.core.display.HTML object>"
      ]
     },
     "metadata": {},
     "output_type": "display_data"
    },
    {
     "name": "stderr",
     "output_type": "stream",
     "text": [
      "Sampling 4 chains for 1_000 tune and 2_000 draw iterations (4_000 + 8_000 draws total) took 100 seconds.\n",
      "INFO:pymc:Sampling 4 chains for 1_000 tune and 2_000 draw iterations (4_000 + 8_000 draws total) took 100 seconds.\n",
      "The rhat statistic is larger than 1.01 for some parameters. This indicates problems during sampling. See https://arxiv.org/abs/1903.08008 for details\n",
      "INFO:pymc:The rhat statistic is larger than 1.01 for some parameters. This indicates problems during sampling. See https://arxiv.org/abs/1903.08008 for details\n",
      "The effective sample size per chain is smaller than 100 for some parameters.  A higher number is needed for reliable rhat and ess computation. See https://arxiv.org/abs/1903.08008 for details\n",
      "ERROR:pymc:The effective sample size per chain is smaller than 100 for some parameters.  A higher number is needed for reliable rhat and ess computation. See https://arxiv.org/abs/1903.08008 for details\n",
      "INFO:pipeline:[asr] 전체 소요 시간: 221.9초\n"
     ]
    }
   ],
   "source": [
    "idata = pipeline.return_idata(pm_model     = pm_model, \n",
    "                            map_estimate   = map_estimate, \n",
    "                            draws          = 2000,\n",
    "                            tune           = 1000,\n",
    "                            chains         = 4,\n",
    "                            cores          = 4,\n",
    "                            target_accept  = 0.9,\n",
    "                            max_treedepth  = 10,\n",
    "                            use_advi       = False,\n",
    "                            use_metropolis = True,\n",
    "                            verbose=True\n",
    "                            ) \n",
    "# 198.3초 소요"
   ]
  },
  {
   "cell_type": "code",
   "execution_count": 6,
   "metadata": {},
   "outputs": [
    {
     "name": "stdout",
     "output_type": "stream",
     "text": [
      "Total vars:    1159\n",
      "R-hat > 1.01:  423\n",
      "R-hat <= 1.01:  680\n",
      "R-hat missing: 56\n",
      "<xarray.Dataset> Size: 17kB\n",
      "Dimensions:               (knot: 6, age: 93, cum_sum_mu_p_dim_0: 93,\n",
      "                           mu_interval_p_dim_0: 207, pi_p_dim_0: 207,\n",
      "                           obs_dim: 207, p_pred_p_dim_0: 207)\n",
      "Coordinates:\n",
      "  * knot                  (knot) float64 48B 2.0 30.0 45.0 60.0 80.0 94.0\n",
      "  * age                   (age) float64 744B 2.0 3.0 4.0 5.0 ... 92.0 93.0 94.0\n",
      "  * cum_sum_mu_p_dim_0    (cum_sum_mu_p_dim_0) int64 744B 0 1 2 3 ... 90 91 92\n",
      "  * mu_interval_p_dim_0   (mu_interval_p_dim_0) int64 2kB 0 1 2 ... 204 205 206\n",
      "  * pi_p_dim_0            (pi_p_dim_0) int64 2kB 0 1 2 3 4 ... 203 204 205 206\n",
      "  * obs_dim               (obs_dim) int64 2kB 0 1 2 3 4 ... 202 203 204 205 206\n",
      "  * p_pred_p_dim_0        (p_pred_p_dim_0) int64 2kB 0 1 2 3 ... 203 204 205 206\n",
      "Data variables: (12/54)\n",
      "    gamma_p               (knot) float64 48B 1.014 1.005 1.045 1.087 1.092 1.041\n",
      "    sigma_alpha_p_0_z     float64 8B 1.001\n",
      "    sigma_alpha_p_1_z     float64 8B 1.008\n",
      "    sigma_alpha_p_2_z     float64 8B 1.022\n",
      "    sigma_alpha_p_3_z     float64 8B 1.005\n",
      "    sigma_alpha_p_4_z     float64 8B 1.004\n",
      "    ...                    ...\n",
      "    sigma_alpha_p_2       float64 8B 1.022\n",
      "    sigma_alpha_p_3       float64 8B 1.004\n",
      "    sigma_alpha_p_4       float64 8B 1.004\n",
      "    pi_p                  (pi_p_dim_0) float64 2kB 1.007 1.002 ... 1.011 1.012\n",
      "    delta_p               (obs_dim) float64 2kB 1.005 1.005 ... 1.005 1.005\n",
      "    p_pred_p              (p_pred_p_dim_0) float64 2kB 1.007 1.002 ... 1.012\n"
     ]
    }
   ],
   "source": [
    "summary_df = pipeline.return_rhat(idata)"
   ]
  },
  {
   "cell_type": "code",
   "execution_count": null,
   "metadata": {},
   "outputs": [
    {
     "name": "stdout",
     "output_type": "stream",
     "text": [
      "mean: beta_sdi_trace: -1.1626285698740104\n",
      "mean: beta_tob_trace: 0.5799781961187069\n",
      "mean: beta_sex_trace: -0.02818771598650784\n"
     ]
    },
    {
     "name": "stderr",
     "output_type": "stream",
     "text": [
      "/Users/Dev/AMD/dismod_mr_migrated/reforged_mr/pipeline.py:712: FutureWarning: hdi currently interprets 2d data as (draw, shape) but this will change in a future release to (chain, draw) for coherence with other functions\n",
      "  hpd = pm.stats.hdi(pred, hdi_prob=0.95)\n"
     ]
    },
    {
     "data": {
      "image/png": "[encoded data removed]",
      "text/plain": [
       "<Figure size 1000x600 with 1 Axes>"
      ]
     },
     "metadata": {},
     "output_type": "display_data"
    }
   ],
   "source": [
    "# Global: 1\n",
    "\n",
    "# High-income Asia Pacific: 65\n",
    "    # Brunei Darussalam: 66\n",
    "    # Japan: 67\n",
    "    # Republic of Korea: 68\n",
    "    # Singapore: 69\n",
    "\n",
    "# USA: 102\n",
    "\n",
    "# Cambodia: 10\n",
    "\n",
    "year = 1990\n",
    "sex = 'Female'\n",
    "location_id = 1\n",
    "\n",
    "pred = pipeline.predict_for(pm_model            = pm_model,\n",
    "                            idata               = idata, \n",
    "                            include_covariates  = include_covariates,\n",
    "                            lower               = 0.0,\n",
    "                            upper               = 1.0,\n",
    "                            year                = year,\n",
    "                            location_id         = location_id,\n",
    "                            sex                 = sex\n",
    "                            )\n",
    "\n",
    "pipeline.visualize_pred(pred, pm_model.shared_data['data'], year, pm_model.shared_data['id_to_name'][location_id], sex, include_covariates)"
   ]
  },
  {
   "cell_type": "code",
   "execution_count": null,
   "metadata": {},
   "outputs": [],
   "source": [
    "# Execute above cells"
   ]
  }
 ],
 "metadata": {
  "kernelspec": {
   "display_name": "amd",
   "language": "python",
   "name": "python3"
  },
  "language_info": {
   "codemirror_mode": {
    "name": "ipython",
    "version": 3
   },
   "file_extension": ".py",
   "mimetype": "text/x-python",
   "name": "python",
   "nbconvert_exporter": "python",
   "pygments_lexer": "ipython3",
   "version": "3.9.7"
  }
 },
 "nbformat": 4,
 "nbformat_minor": 2
}
