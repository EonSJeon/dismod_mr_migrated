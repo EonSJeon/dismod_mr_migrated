{
 "cells": [
  {
   "cell_type": "markdown",
   "metadata": {},
   "source": [
    "A motivating example: descriptive epidemiological meta-regression of Parkinson's Disease\n",
    "========================================================================================\n",
    "\n",
    "The goal of this document it give a concise demonstration of the \n",
    "strengths and limitations of DisMod-MR, the descriptive\n",
    "epidemiological meta-regression tool developed for the Global Burden of Disease,\n",
    "Injuries, and Risk Factors 2010 (GBD2010) Study."
   ]
  },
  {
   "cell_type": "markdown",
   "metadata": {},
   "source": [
    "A systematic review of PD was conducted as part of the GBD 2010\n",
    "Study. The results of this\n",
    "review---data on the prevalence, incidence, and standardized mortality ratio of\n",
    "PD---needed to be combined to produce estimates of disease prevalence by\n",
    "region, age, sex, and year.  These prevalence estimates were combined\n",
    "with disability weights to measure years lived with disability (YLDs),\n",
    "which were then combined with estimates of years of life lost (YLLs)\n",
    "to produce estimates of the burden of PD quantified in disability-adjusted life-years (DALYs).\n",
    "\n",
    "PD is a neurodegenerative disorder that includes symptoms of motor\n",
    "dysfunction, such as tremors, rigidity, and akinesia, in the early\n",
    "stages of the disease.  As the disease develops, most patients also\n",
    "develop nonmotor symptoms, such as cognitive decline, dementia,\n",
    "autonomic failure, and disordered sleep-wake regulation.  The standard\n",
    "definition for PD diagnosis includes at least two of four cardinal\n",
    "signs---resting tremor, bradykinesia, rigidity, and postural abnormalities.\n",
    "There is no cure or treatments to slow the progression of the disease;\n",
    "however, motor symptoms and disability may be improved with\n",
    "symptomatic therapy."
   ]
  },
  {
   "cell_type": "markdown",
   "metadata": {},
   "source": [
    "This document works with simulated data, so that the dataset is fully distributable.  This data is included for understanding how to use DisMod-MR, and is not intended for the study of the descriptive epidemiology of PD."
   ]
  },
  {
   "cell_type": "code",
   "execution_count": 21,
   "metadata": {},
   "outputs": [
    {
     "name": "stdout",
     "output_type": "stream",
     "text": [
      "The autoreload extension is already loaded. To reload it, use:\n",
      "  %reload_ext autoreload\n"
     ]
    }
   ],
   "source": [
    "%load_ext autoreload\n",
    "%autoreload 2\n"
   ]
  },
  {
   "cell_type": "code",
   "execution_count": 22,
   "metadata": {},
   "outputs": [],
   "source": [
    "import sys\n",
    "import os\n",
    "\n",
    "# 현재 작업 디렉토리의 상위 디렉토리를 Python 경로에 추가\n",
    "sys.path.append(os.path.abspath('.'))\n",
    "# 또는\n",
    "sys.path.append(os.path.dirname(os.getcwd()))\n",
    "\n",
    "# 이제 dismod_mr를 import 해보세요\n",
    "import numpy as np, matplotlib.pyplot as plt, pandas as pd, pymc as pm\n",
    "import dismod_mr"
   ]
  },
  {
   "cell_type": "markdown",
   "metadata": {},
   "source": [
    "\n",
    "DisMod-MR uses the integrative systems modeling (ISM) approach to produce simultaneous\n",
    "estimates of disease incidence, prevalence, remission, and mortality. The hallmark of\n",
    "ISM is incorporating all available data.  In the case of Parkinson's Disease this\n",
    "consists of population level measurements of incidence, prevalence, standardized mortality rate (SMR),\n",
    "and cause-specific mortality rate (CSMR).\n",
    "\n",
    "I will begin with a look at a subset of this data, however.  Only that from females in the Europe, Western GBD region."
   ]
  },
  {
   "cell_type": "code",
   "execution_count": 23,
   "metadata": {},
   "outputs": [
    {
     "name": "stdout",
     "output_type": "stream",
     "text": [
      "kept 371 rows of data\n"
     ]
    }
   ],
   "source": [
    "mr_model = dismod_mr.data.load('pd_sim_data')\n",
    "mr_model.keep(areas=['all'], sexes=['female', 'total'])"
   ]
  },
  {
   "cell_type": "markdown",
   "metadata": {},
   "source": [
    "Of the 348 rows of data, here is how the values breakdown by data type:"
   ]
  },
  {
   "cell_type": "code",
   "execution_count": 24,
   "metadata": {},
   "outputs": [
    {
     "data": {
      "text/html": [
       "<div>\n",
       "<style scoped>\n",
       "    .dataframe tbody tr th:only-of-type {\n",
       "        vertical-align: middle;\n",
       "    }\n",
       "\n",
       "    .dataframe tbody tr th {\n",
       "        vertical-align: top;\n",
       "    }\n",
       "\n",
       "    .dataframe thead th {\n",
       "        text-align: right;\n",
       "    }\n",
       "</style>\n",
       "<table border=\"1\" class=\"dataframe\">\n",
       "  <thead>\n",
       "    <tr style=\"text-align: right;\">\n",
       "      <th></th>\n",
       "      <th>count</th>\n",
       "      <th>mean</th>\n",
       "      <th>std</th>\n",
       "      <th>min</th>\n",
       "      <th>25%</th>\n",
       "      <th>50%</th>\n",
       "      <th>75%</th>\n",
       "      <th>max</th>\n",
       "    </tr>\n",
       "    <tr>\n",
       "      <th>data_type</th>\n",
       "      <th></th>\n",
       "      <th></th>\n",
       "      <th></th>\n",
       "      <th></th>\n",
       "      <th></th>\n",
       "      <th></th>\n",
       "      <th></th>\n",
       "      <th></th>\n",
       "    </tr>\n",
       "  </thead>\n",
       "  <tbody>\n",
       "    <tr>\n",
       "      <th>p</th>\n",
       "      <td>371.0</td>\n",
       "      <td>0.005</td>\n",
       "      <td>0.007</td>\n",
       "      <td>0.0</td>\n",
       "      <td>0.001</td>\n",
       "      <td>0.003</td>\n",
       "      <td>0.007</td>\n",
       "      <td>0.052</td>\n",
       "    </tr>\n",
       "  </tbody>\n",
       "</table>\n",
       "</div>"
      ],
      "text/plain": [
       "           count   mean    std  min    25%    50%    75%    max\n",
       "data_type                                                      \n",
       "p          371.0  0.005  0.007  0.0  0.001  0.003  0.007  0.052"
      ]
     },
     "execution_count": 24,
     "metadata": {},
     "output_type": "execute_result"
    }
   ],
   "source": [
    "summary = mr_model.input_data.groupby('data_type')['value'].describe()\n",
    "np.round(summary,3).sort_values('count', ascending=False)"
   ]
  },
  {
   "cell_type": "markdown",
   "metadata": {},
   "source": [
    "More than half of the available data for this region is prevalence data.  I'll take a closer look\n",
    "at that now."
   ]
  },
  {
   "cell_type": "code",
   "execution_count": 25,
   "metadata": {},
   "outputs": [
    {
     "data": {
      "text/plain": [
       "nan"
      ]
     },
     "execution_count": 25,
     "metadata": {},
     "output_type": "execute_result"
    }
   ],
   "source": [
    "mr_model.get_data('smr').value.mean()"
   ]
  },
  {
   "cell_type": "code",
   "execution_count": 26,
   "metadata": {},
   "outputs": [
    {
     "name": "stdout",
     "output_type": "stream",
     "text": [
      "                count   mean    std    min    25%    50%    75%    max\n",
      "area                                                                  \n",
      "CUB               1.0  0.013    NaN  0.013  0.013  0.013  0.013  0.013\n",
      "URY               2.0  0.011  0.006  0.007  0.009  0.011  0.014  0.016\n",
      "SGP               4.0  0.011  0.012  0.000  0.004  0.009  0.017  0.028\n",
      "oceania           1.0  0.008    NaN  0.008  0.008  0.008  0.008  0.008\n",
      "TUN               1.0  0.007    NaN  0.007  0.007  0.007  0.007  0.007\n",
      "ESP              40.0  0.008  0.007  0.000  0.003  0.007  0.010  0.037\n",
      "NGA               2.0  0.007  0.006  0.003  0.005  0.007  0.009  0.011\n",
      "AUT               1.0  0.006    NaN  0.006  0.006  0.006  0.006  0.006\n",
      "europe_western   13.0  0.008  0.006  0.000  0.001  0.006  0.013  0.017\n",
      "NZL               5.0  0.004  0.003  0.001  0.002  0.006  0.006  0.006\n",
      "TUR               7.0  0.007  0.004  0.004  0.004  0.005  0.009  0.013\n",
      "NLD              19.0  0.011  0.016  0.000  0.002  0.005  0.013  0.052\n",
      "FRA              13.0  0.006  0.005  0.001  0.002  0.004  0.009  0.018\n",
      "SWE               6.0  0.004  0.002  0.001  0.002  0.004  0.004  0.008\n",
      "AUS               4.0  0.005  0.005  0.000  0.003  0.004  0.006  0.013\n",
      "ARG              12.0  0.007  0.007  0.001  0.003  0.004  0.009  0.020\n",
      "FIN               1.0  0.004    NaN  0.004  0.004  0.004  0.004  0.004\n",
      "CAN               1.0  0.004    NaN  0.004  0.004  0.004  0.004  0.004\n",
      "CHL               1.0  0.004    NaN  0.004  0.004  0.004  0.004  0.004\n",
      "CHN              19.0  0.006  0.007  0.000  0.002  0.004  0.007  0.026\n",
      "SAU               1.0  0.003    NaN  0.003  0.003  0.003  0.003  0.003\n",
      "BGR              20.0  0.004  0.004  0.000  0.002  0.003  0.005  0.019\n",
      "ETH               1.0  0.003    NaN  0.003  0.003  0.003  0.003  0.003\n",
      "USA              14.0  0.004  0.004  0.000  0.001  0.003  0.008  0.012\n",
      "EST              11.0  0.003  0.003  0.000  0.001  0.003  0.006  0.007\n",
      "NOR               4.0  0.005  0.004  0.002  0.003  0.003  0.005  0.011\n",
      "DEU               9.0  0.006  0.008  0.000  0.002  0.003  0.006  0.026\n",
      "COL               1.0  0.002    NaN  0.002  0.002  0.002  0.002  0.002\n",
      "POL               4.0  0.002  0.001  0.001  0.001  0.002  0.003  0.003\n",
      "DNK               4.0  0.002  0.002  0.001  0.001  0.002  0.003  0.005\n",
      "ITA              45.0  0.004  0.006  0.000  0.000  0.002  0.005  0.033\n",
      "IND               7.0  0.004  0.005  0.000  0.001  0.002  0.006  0.013\n",
      "GBR              35.0  0.004  0.006  0.000  0.000  0.001  0.005  0.022\n",
      "JPN              39.0  0.003  0.004  0.000  0.000  0.001  0.003  0.021\n",
      "BOL               3.0  0.003  0.004  0.001  0.001  0.001  0.005  0.008\n",
      "ISR               4.0  0.003  0.004  0.000  0.000  0.001  0.004  0.009\n",
      "PRT              11.0  0.002  0.003  0.000  0.000  0.000  0.003  0.010\n",
      "LBY               5.0  0.005  0.010  0.000  0.000  0.000  0.001  0.022\n"
     ]
    }
   ],
   "source": [
    "groups = mr_model.get_data('p').groupby('area')\n",
    "print(np.round_(groups['value'].describe(),3).sort_values('50%', ascending=False))"
   ]
  },
  {
   "cell_type": "markdown",
   "metadata": {},
   "source": [
    "In the original dataset, there was a wide range in median values, which reflects a combination of country-to-country variation and compositional bias.  Simulating data has reduced this substantially, but there is still six-fold variation between ESP and GBR."
   ]
  },
  {
   "cell_type": "code",
   "execution_count": 27,
   "metadata": {},
   "outputs": [],
   "source": [
    "countries = ['ESP', 'GBR']\n",
    "c = {}\n",
    "for i, c_i in enumerate(countries):\n",
    "    c[i] = groups.get_group(c_i)"
   ]
  },
  {
   "cell_type": "code",
   "execution_count": 28,
   "metadata": {},
   "outputs": [
    {
     "data": {
      "image/png": "[encoded data removed]",
      "text/plain": [
       "<Figure size 1000x400 with 2 Axes>"
      ]
     },
     "metadata": {},
     "output_type": "display_data"
    }
   ],
   "source": [
    "ax = None\n",
    "plt.figure(figsize=(10,4))\n",
    "for i, c_i in enumerate(countries):\n",
    "    ax = plt.subplot(1,2,1+i, sharey=ax, sharex=ax)\n",
    "    dismod_mr.plot.data_bars(c[i])\n",
    "    plt.xlabel('Age (years)')\n",
    "    plt.ylabel('Prevalence (per 1)')\n",
    "    plt.title(c_i)\n",
    "plt.axis(ymin=-.001, xmin=-5, xmax=105)\n",
    "plt.subplots_adjust(wspace=.3)"
   ]
  },
  {
   "cell_type": "markdown",
   "metadata": {},
   "source": [
    "A model for age-specific parameters when measurements have heterogeneous age groups\n",
    "-----------------------------------------------------------------------------------"
   ]
  },
  {
   "cell_type": "markdown",
   "metadata": {},
   "source": [
    "DisMod-MR has four features that make it particularly suited for estimating age-specific prevalence of PD from this data:\n",
    "\n",
    "* Piecewise linear spline model for change in prevalence as a function of age\n",
    "* Age-standardizing model of age-group heterogeneity represents the heterogeneous age groups collected in systematic review\n",
    "* Country-level random effects for true variation in prevalence between countries\n",
    "* Negative binomial model of data, which provides data-driven estimation of non-sampling error in measurements\n",
    "  and elegantly handles measurements of 0"
   ]
  },
  {
   "cell_type": "markdown",
   "metadata": {},
   "source": [
    "I will now fit the prevalence data with DisMod-MR's age-standardizing negative binomial random effect spline model and\n",
    "compare the estimates to the observed data.  Then I will use the results of the fit model to explore the four features listed above."
   ]
  },
  {
   "cell_type": "code",
   "execution_count": 29,
   "metadata": {},
   "outputs": [],
   "source": [
    "# remove fixed effects for this example, I will return to them below\n",
    "mr_model.input_data = mr_model.input_data.filter(regex='(?!x_)')"
   ]
  },
  {
   "cell_type": "code",
   "execution_count": 37,
   "metadata": {},
   "outputs": [
    {
     "name": "stderr",
     "output_type": "stream",
     "text": [
      "INFO: [asr] data_type='p' 에 대해 MAP + NUTS 샘플링 시작\n",
      "INFO:   ▶ pm.find_MAP() 수행 중...\n"
     ]
    },
    {
     "name": "stdout",
     "output_type": "stream",
     "text": [
      "[sigma_alpha_p_3, sigma_alpha_p_3, sigma_alpha_p_3, sigma_alpha_p_3, sigma_alpha_p_3, sigma_alpha_p_3, sigma_alpha_p_3, sigma_alpha_p_3, sigma_alpha_p_3, sigma_alpha_p_3, sigma_alpha_p_3, sigma_alpha_p_3, sigma_alpha_p_3, sigma_alpha_p_3, sigma_alpha_p_3, sigma_alpha_p_3, sigma_alpha_p_3, sigma_alpha_p_3, sigma_alpha_p_3, sigma_alpha_p_3, sigma_alpha_p_3, sigma_alpha_p_3, sigma_alpha_p_3, sigma_alpha_p_3, sigma_alpha_p_3, sigma_alpha_p_3, sigma_alpha_p_3, sigma_alpha_p_3, sigma_alpha_p_3, sigma_alpha_p_3, sigma_alpha_p_3, sigma_alpha_p_3, sigma_alpha_p_3, sigma_alpha_p_3, sigma_alpha_p_3, sigma_alpha_p_3, sigma_alpha_p_2, sigma_alpha_p_2, sigma_alpha_p_2, sigma_alpha_p_2, sigma_alpha_p_2, sigma_alpha_p_2, sigma_alpha_p_2, sigma_alpha_p_2, sigma_alpha_p_2, sigma_alpha_p_2, sigma_alpha_p_2, sigma_alpha_p_2, sigma_alpha_p_2, sigma_alpha_p_2, sigma_alpha_p_2, sigma_alpha_p_2, sigma_alpha_p_1, sigma_alpha_p_1, sigma_alpha_p_1, sigma_alpha_p_1, sigma_alpha_p_1, sigma_alpha_p_1, sigma_alpha_p_1]\n"
     ]
    },
    {
     "data": {
      "text/html": [
       "\n",
       "<style>\n",
       "    /* Turns off some styling */\n",
       "    progress {\n",
       "        /* gets rid of default border in Firefox and Opera. */\n",
       "        border: none;\n",
       "        /* Needs to be in here for Safari polyfill so background images work as expected. */\n",
       "        background-size: auto;\n",
       "    }\n",
       "    progress:not([value]), progress:not([value])::-webkit-progress-bar {\n",
       "        background: repeating-linear-gradient(45deg, #7e7e7e, #7e7e7e 10px, #5c5c5c 10px, #5c5c5c 20px);\n",
       "    }\n",
       "    .progress-bar-interrupted, .progress-bar-interrupted::-webkit-progress-bar {\n",
       "        background: #F44336;\n",
       "    }\n",
       "</style>\n"
      ],
      "text/plain": [
       "<IPython.core.display.HTML object>"
      ]
     },
     "metadata": {},
     "output_type": "display_data"
    },
    {
     "data": {
      "text/html": [
       "\n",
       "    <div>\n",
       "      <progress value='287' class='' max='287' style='width:300px; height:20px; vertical-align: middle;'></progress>\n",
       "      100.00% [287/287 00:00&lt;00:00 logp = -708.22, ||grad|| = 0.026721]\n",
       "    </div>\n",
       "    "
      ],
      "text/plain": [
       "<IPython.core.display.HTML object>"
      ]
     },
     "metadata": {},
     "output_type": "display_data"
    },
    {
     "name": "stderr",
     "output_type": "stream",
     "text": [
      "INFO:     MAP 결과:\n",
      "INFO:       gamma_p_0: -13.709646753847466\n",
      "INFO:       gamma_p_1: -13.688159544697692\n",
      "INFO:       gamma_p_2: -7.776859616804528\n",
      "INFO:       gamma_p_3: -6.4164445161520725\n",
      "INFO:       gamma_p_4: -4.951150328487134\n",
      "INFO:       gamma_p_5: -4.19418450666471\n",
      "INFO:       sigma_alpha_p_0_z: -0.2607008270159258\n",
      "INFO:       sigma_alpha_p_1_z: -2.286021518037498\n",
      "INFO:       sigma_alpha_p_2_z: -3.1892578147734434\n",
      "INFO:       sigma_alpha_p_3_z: -4.004649470734788\n",
      "INFO:       sigma_alpha_p_4_z: -0.2607008270159258\n",
      "INFO:       alpha_p_ARG: 0.018347830058572375\n",
      "INFO:       alpha_p_AUS: -0.0013086341185991927\n",
      "INFO:       alpha_p_AUT: 0.001673893597824275\n",
      "INFO:       alpha_p_BGR: -0.003623619246137051\n",
      "INFO:       alpha_p_BOL: 0.00021115214867142615\n",
      "INFO:       alpha_p_CAN: -0.0011204725081461655\n",
      "INFO:       alpha_p_CHL: 0.0003800585206717441\n",
      "INFO:       alpha_p_CHN: 0.009795820349052698\n",
      "INFO:       alpha_p_COL: -0.0002703470127167677\n",
      "INFO:       alpha_p_CUB: 0.003502970375027549\n",
      "INFO:       alpha_p_DEU: -0.005546429490228261\n",
      "INFO:       alpha_p_DNK: -0.010302048087915964\n",
      "INFO:       alpha_p_ESP: 0.021886758032699304\n",
      "INFO:       alpha_p_EST: -0.007404284380871517\n",
      "INFO:       alpha_p_ETH: -0.0012539046796271674\n",
      "INFO:       alpha_p_FIN: 0.00029188856200475374\n",
      "INFO:       alpha_p_FRA: -0.0072969262782027\n",
      "INFO:       alpha_p_GBR: -0.014756967434809335\n",
      "INFO:       alpha_p_IND: 0.0008392352443081694\n",
      "INFO:       alpha_p_ISR: -0.006154928542468459\n",
      "INFO:       alpha_p_ITA: -0.01774717457621703\n",
      "INFO:       alpha_p_JPN: -0.011614766516384425\n",
      "INFO:       alpha_p_LBY: -0.003375289922838335\n",
      "INFO:       alpha_p_NGA: 0.0006393540200051173\n",
      "INFO:       alpha_p_NLD: 0.0010208878600160474\n",
      "INFO:       alpha_p_NOR: 0.001248362659746055\n",
      "INFO:       alpha_p_NZL: 0.003312330562170512\n",
      "INFO:       alpha_p_POL: -0.0063179528935969394\n",
      "INFO:       alpha_p_PRT: 0.006617790864734739\n",
      "INFO:       alpha_p_SAU: 0.00020751449354636738\n",
      "INFO:       alpha_p_SGP: 0.006060324553064521\n",
      "INFO:       alpha_p_SWE: -0.004778194083806139\n",
      "INFO:       alpha_p_TUN: 0.0027651260260494123\n",
      "INFO:       alpha_p_TUR: 0.007000066858478455\n",
      "INFO:       alpha_p_URY: 0.006234076273914191\n",
      "INFO:       alpha_p_USA: -0.006634660718075549\n",
      "INFO:       alpha_p_asia_east: 0.013359875296303099\n",
      "INFO:       alpha_p_asia_pacific_high_income: -0.007577855766375357\n",
      "INFO:       alpha_p_asia_south: 0.0011444834889216408\n",
      "INFO:       alpha_p_australasia: 0.0027321760507609144\n",
      "INFO:       alpha_p_caribbean: 0.00477838896423296\n",
      "INFO:       alpha_p_europe_central: -0.013560547586029535\n",
      "INFO:       alpha_p_europe_eastern: -0.010102248948431742\n",
      "INFO:       alpha_p_europe_western: -0.04736970144064927\n",
      "INFO:       alpha_p_latin_america_andean: 0.00028806413062242974\n",
      "INFO:       alpha_p_latin_america_central: -0.0003688081989693912\n",
      "INFO:       alpha_p_latin_america_southern: 0.034045795961019636\n",
      "INFO:       alpha_p_north_africa_middle_east: 0.008998879347245334\n",
      "INFO:       alpha_p_north_america_high_income: -0.010582046656472322\n",
      "INFO:       alpha_p_oceania: 0.003912463205282272\n",
      "INFO:       alpha_p_sub-saharan_africa_east: -0.0017104419033930128\n",
      "INFO:       alpha_p_sub-saharan_africa_west: 0.0008720405013353122\n",
      "INFO:       alpha_p_super-region_0: -0.05239554272311512\n",
      "INFO:       alpha_p_super-region_1: -0.04311344886836113\n",
      "INFO:       alpha_p_super-region_2: -0.0015270054964188447\n",
      "INFO:       alpha_p_super-region_3: 0.016397381116179558\n",
      "INFO:       alpha_p_super-region_4: 0.0020843372781826305\n",
      "INFO:       alpha_p_super-region_5: 0.03146968136941493\n",
      "INFO:       alpha_p_super-region_6: 0.008558937478572204\n",
      "INFO:       beta_p_x_cv_ascertainment: -0.2595777127088213\n",
      "INFO:       beta_p_x_cv_diagnostic_criteria: -0.12428034327971844\n",
      "INFO:       beta_p_x_cv_representative: 0.5137235064349075\n",
      "INFO:       beta_p_x_sex: 0.1747090571381385\n",
      "INFO:       sigma_p_interval__: 31.79146241585585\n",
      "INFO:       p_log_pred_p: [ -5.35499881  -5.15801342  -4.70273461  -5.39585979  -4.92345318\n",
      "  -5.71085775  -5.13608164  -6.06225743  -4.73112957  -5.73284024\n",
      "  -4.96358298  -7.80082782  -5.12968822  -5.36808602  -4.9654747\n",
      "  -5.84050783  -5.60142911  -6.15538718  -4.96577798  -5.15433439\n",
      "  -4.56320708  -4.96545541  -5.48090256  -5.48090256  -5.98494969\n",
      "  -5.60167837  -6.25954596  -7.15020163  -5.58958106  -4.5027255\n",
      "  -5.12686086  -4.56303868  -4.76140311  -6.23606315  -7.12587586\n",
      "  -8.07127097  -9.29534884  -5.11266269  -5.64817382  -4.58144628\n",
      "  -5.21691931  -4.76316076  -4.9836859   -5.21808742  -4.76316715\n",
      "  -4.5814423   -5.45658174  -5.11252773  -4.98368649  -5.45610325\n",
      "  -4.67511017  -4.89670206  -4.67536785  -4.41410437  -5.13007015\n",
      "  -4.41485232  -4.61855919  -5.13003768  -8.09432869  -4.89663641\n",
      "  -5.36974025  -5.6839124   -5.36909687  -4.5903301   -5.16515006\n",
      "  -5.56146185  -4.76329771  -5.25266659  -5.02092217  -4.61800965\n",
      "  -5.25404029  -5.49326138  -5.80822629  -6.27025038  -6.75091199\n",
      "  -7.08314347  -7.58472585  -8.16066659  -5.61193439  -5.31260474\n",
      "  -4.70453346  -5.36653229  -6.01281346  -6.90282036  -4.64398088\n",
      "  -9.07265441  -7.84736566 -20.72326584  -4.65061522  -5.35171561\n",
      "  -5.0882929   -5.75037018  -6.39673855  -7.28724819  -5.27447585\n",
      "  -8.59136416  -5.80717826  -5.02071851  -9.31946566  -5.35174304\n",
      "  -5.06516167  -4.61818146  -5.25405349  -5.49330256  -4.97800785\n",
      "  -5.80807335  -5.36193685  -6.27048249  -5.45042275  -6.7508795\n",
      "  -7.08333691  -7.58472599  -5.58320511  -8.97749173  -8.16060609\n",
      "  -5.87266895  -5.73034799  -4.97236244  -5.22266546  -7.17326406\n",
      "  -5.81086875  -8.97598136  -5.2105735   -5.66655533  -5.19887362\n",
      "  -5.16635716  -5.62922145  -6.27594977  -7.16605356  -9.49781488\n",
      "  -5.60608776  -4.87150799  -5.9590688   -4.95932605  -5.31006243\n",
      "  -5.66653753  -5.36691581  -5.57026476  -4.81468354  -5.49618647\n",
      "  -6.75365306  -5.8985872   -5.81114446  -5.61114666  -5.30606906\n",
      "  -5.12086312  -4.85742954  -6.27316444  -5.57935166  -5.50774889\n",
      "  -5.57918497  -7.01429172  -7.58803832  -5.38633947  -8.16422131\n",
      "  -7.08606022  -6.14920029  -5.02365095  -6.69180876  -6.22952352\n",
      "  -5.25771114  -5.49682517  -5.75431702  -6.06175958  -5.74710747\n",
      "  -5.81110064  -4.93623419  -5.16962645  -5.40805418  -6.12868594\n",
      "  -6.25776909  -5.83431593  -5.72358306  -5.59514663  -5.76525731\n",
      "  -4.9070345   -4.98673919  -5.95230617  -5.37014024  -6.01582923\n",
      "  -5.52236182  -6.90618947  -9.23837352  -6.12835396  -6.72066624\n",
      "  -5.4919787   -5.64155167  -5.64589321  -5.88066762  -5.40763552\n",
      "  -6.65689801  -6.6113838   -5.65223863  -6.19442817  -6.22746285\n",
      "  -9.10746788  -7.13776914  -5.00539743  -5.43493391  -6.01607663\n",
      "  -5.36959509  -4.94942757  -5.52239292  -6.70099288  -6.90609858\n",
      "  -5.52221078  -5.52237865  -7.85038101  -4.90691747  -5.52226816\n",
      "  -9.07505463  -6.523897    -5.43491642  -5.55908273  -5.18103577\n",
      "  -5.35795425  -7.63616901  -6.84907137  -7.14791013 -11.80893503\n",
      "  -6.60904296  -6.6087712   -6.70782266  -4.7840003   -4.44908472\n",
      "  -4.81784708  -5.00489509  -5.82985648  -4.60231988  -5.23779355\n",
      "  -5.47743613  -7.04012621  -7.00405159  -7.09139852  -6.4281139\n",
      "  -7.92577697  -5.22250315  -7.11965285  -7.4239876   -5.79196829\n",
      "  -6.94131384  -9.28998519  -5.72283419  -6.94141422  -4.69609864\n",
      "  -4.91757129  -4.43555066  -5.15088412  -5.38999307  -9.01059838\n",
      "  -5.70486868  -4.44935006  -4.68874443  -5.92107852  -7.83822137\n",
      "  -5.74963318  -6.82143292  -5.11735654  -7.33670747  -8.11777704\n",
      "  -5.62211507  -7.79325152  -8.92283277  -8.06385031  -5.55897852\n",
      "  -6.48083044  -7.19659821  -5.37445111  -5.85711512  -5.85692557\n",
      "  -5.37891655  -5.47311658  -5.73260106  -5.56055585  -5.15658695\n",
      "  -7.45743204  -5.82987436  -6.00100449  -6.38354465  -7.73229628\n",
      "  -6.78873682  -7.64547243  -6.85886077  -5.93878183  -7.66529947\n",
      " -10.92691722 -20.72326584 -10.4841395   -6.842644   -20.72326584\n",
      "  -7.54182732  -4.57502402  -9.0933254   -9.09326345  -8.7869191\n",
      " -20.72326584 -20.72326584  -8.74548079  -5.15592592  -4.44148384\n",
      "  -4.92268152  -4.70234066  -5.73854337  -8.41429466  -5.86288438\n",
      "  -5.47429963  -4.45739318  -4.79165589  -4.61108794  -5.2461007\n",
      "  -4.71667762  -7.67824088  -6.73416223  -5.8439487   -5.19741852\n",
      "  -4.5351926   -5.19746436  -6.73387979  -5.84394571  -5.19737335\n",
      "  -6.64622293  -5.75647544  -5.11004516  -4.44753553  -5.76858451\n",
      "  -6.32722208  -5.46913396  -4.83248902  -5.3479182   -5.01382972\n",
      "  -5.80067214  -5.48578564  -4.52347357  -4.78434981  -5.00604885\n",
      "  -4.4366993   -5.23938526  -5.15198943  -4.91791248  -5.47906498\n",
      "  -5.79337845  -4.69718753  -5.70595214  -5.39032178  -5.5966643\n",
      "  -4.44399967  -6.8640079   -5.15928318  -4.92580355  -4.70399372\n",
      "  -5.71320366  -5.39761231  -5.48498157  -5.48448011  -5.86829401\n",
      "  -5.48452742  -9.76937174  -8.33452158  -7.03027996  -5.20477903\n",
      "  -6.77972569  -6.94387703  -6.14023936  -5.76364503  -5.59358751\n",
      "  -4.57347007  -5.49374043  -5.59356952  -4.74912356  -5.08817939\n",
      "  -4.83187374]\n",
      "INFO:       sigma_p: 0.9999999999999845\n",
      "INFO:       mu_age_p: [1.11167046e-06 1.11247530e-06 1.11328014e-06 1.11408498e-06\n",
      " 1.11488982e-06 1.11569466e-06 1.11649950e-06 1.11730433e-06\n",
      " 1.11810917e-06 1.11891401e-06 1.11971885e-06 1.12052369e-06\n",
      " 1.12132853e-06 1.12213337e-06 1.12293821e-06 1.12374305e-06\n",
      " 1.12454789e-06 1.12535273e-06 1.12615757e-06 1.12696240e-06\n",
      " 1.12776724e-06 1.12857208e-06 1.12937692e-06 1.13018176e-06\n",
      " 1.13098660e-06 1.13179144e-06 1.13259628e-06 1.13340112e-06\n",
      " 1.13420596e-06 1.13501080e-06 1.13581563e-06 2.90152250e-05\n",
      " 5.68946344e-05 8.47740438e-05 1.12653453e-04 1.40532863e-04\n",
      " 1.68412272e-04 1.96291681e-04 2.24171091e-04 2.52050500e-04\n",
      " 2.79929909e-04 3.07809319e-04 3.35688728e-04 3.63568138e-04\n",
      " 3.91447547e-04 4.19326956e-04 5.00335639e-04 5.81344323e-04\n",
      " 6.62353006e-04 7.43361689e-04 8.24370372e-04 9.05379055e-04\n",
      " 9.86387738e-04 1.06739642e-03 1.14840510e-03 1.22941379e-03\n",
      " 1.31042247e-03 1.39143115e-03 1.47243984e-03 1.55344852e-03\n",
      " 1.63445720e-03 1.90649761e-03 2.17853802e-03 2.45057843e-03\n",
      " 2.72261884e-03 2.99465924e-03 3.26669965e-03 3.53874006e-03\n",
      " 3.81078047e-03 4.08282088e-03 4.35486128e-03 4.62690169e-03\n",
      " 4.89894210e-03 5.17098251e-03 5.44302292e-03 5.71506333e-03\n",
      " 5.98710373e-03 6.25914414e-03 6.53118455e-03 6.80322496e-03\n",
      " 7.07526537e-03 7.47565398e-03 7.87604259e-03 8.27643120e-03\n",
      " 8.67681981e-03 9.07720842e-03 9.47759703e-03 9.87798564e-03\n",
      " 1.02783742e-02 1.06787629e-02 1.10791515e-02 1.14795401e-02\n",
      " 1.18799287e-02 1.22803173e-02 1.26807059e-02 1.30810945e-02\n",
      " 1.34814831e-02 1.38818717e-02 1.42822603e-02 1.46826490e-02\n",
      " 1.50830376e-02]\n",
      "INFO:       value_constrained_mu_age_p: [0.00000000e+00 0.00000000e+00 0.00000000e+00 0.00000000e+00\n",
      " 0.00000000e+00 0.00000000e+00 0.00000000e+00 0.00000000e+00\n",
      " 0.00000000e+00 0.00000000e+00 0.00000000e+00 0.00000000e+00\n",
      " 0.00000000e+00 0.00000000e+00 0.00000000e+00 0.00000000e+00\n",
      " 0.00000000e+00 0.00000000e+00 0.00000000e+00 0.00000000e+00\n",
      " 0.00000000e+00 0.00000000e+00 0.00000000e+00 0.00000000e+00\n",
      " 0.00000000e+00 0.00000000e+00 0.00000000e+00 0.00000000e+00\n",
      " 0.00000000e+00 0.00000000e+00 1.13581563e-06 2.90152250e-05\n",
      " 5.68946344e-05 8.47740438e-05 1.12653453e-04 1.40532863e-04\n",
      " 1.68412272e-04 1.96291681e-04 2.24171091e-04 2.52050500e-04\n",
      " 2.79929909e-04 3.07809319e-04 3.35688728e-04 3.63568138e-04\n",
      " 3.91447547e-04 4.19326956e-04 5.00335639e-04 5.81344323e-04\n",
      " 6.62353006e-04 7.43361689e-04 8.24370372e-04 9.05379055e-04\n",
      " 9.86387738e-04 1.06739642e-03 1.14840510e-03 1.22941379e-03\n",
      " 1.31042247e-03 1.39143115e-03 1.47243984e-03 1.55344852e-03\n",
      " 1.63445720e-03 1.90649761e-03 2.17853802e-03 2.45057843e-03\n",
      " 2.72261884e-03 2.99465924e-03 3.26669965e-03 3.53874006e-03\n",
      " 3.81078047e-03 4.08282088e-03 4.35486128e-03 4.62690169e-03\n",
      " 4.89894210e-03 5.17098251e-03 5.44302292e-03 5.71506333e-03\n",
      " 5.98710373e-03 6.25914414e-03 6.53118455e-03 6.80322496e-03\n",
      " 7.07526537e-03 7.47565398e-03 7.87604259e-03 8.27643120e-03\n",
      " 8.67681981e-03 9.07720842e-03 9.47759703e-03 9.87798564e-03\n",
      " 1.02783742e-02 1.06787629e-02 1.10791515e-02 1.14795401e-02\n",
      " 1.18799287e-02 1.22803173e-02 1.26807059e-02 1.30810945e-02\n",
      " 1.34814831e-02 1.38818717e-02 1.42822603e-02 1.46826490e-02\n",
      " 1.50830376e-02]\n",
      "INFO:       cum_sum_mu_p: [0.00000000e+00 0.00000000e+00 0.00000000e+00 0.00000000e+00\n",
      " 0.00000000e+00 0.00000000e+00 0.00000000e+00 0.00000000e+00\n",
      " 0.00000000e+00 0.00000000e+00 0.00000000e+00 0.00000000e+00\n",
      " 0.00000000e+00 0.00000000e+00 0.00000000e+00 0.00000000e+00\n",
      " 0.00000000e+00 0.00000000e+00 0.00000000e+00 0.00000000e+00\n",
      " 0.00000000e+00 0.00000000e+00 0.00000000e+00 0.00000000e+00\n",
      " 0.00000000e+00 0.00000000e+00 0.00000000e+00 0.00000000e+00\n",
      " 0.00000000e+00 0.00000000e+00 1.13581563e-06 3.01510407e-05\n",
      " 8.70456751e-05 1.71819719e-04 2.84473172e-04 4.25006035e-04\n",
      " 5.93418307e-04 7.89709988e-04 1.01388108e-03 1.26593158e-03\n",
      " 1.54586149e-03 1.85367081e-03 2.18935954e-03 2.55292767e-03\n",
      " 2.94437522e-03 3.36370218e-03 3.86403782e-03 4.44538214e-03\n",
      " 5.10773514e-03 5.85109683e-03 6.67546720e-03 7.58084626e-03\n",
      " 8.56723400e-03 9.63463042e-03 1.07830355e-02 1.20124493e-02\n",
      " 1.33228718e-02 1.47143029e-02 1.61867428e-02 1.77401913e-02\n",
      " 1.93746485e-02 2.12811461e-02 2.34596841e-02 2.59102625e-02\n",
      " 2.86328814e-02 3.16275406e-02 3.48942403e-02 3.84329803e-02\n",
      " 4.22437608e-02 4.63265817e-02 5.06814430e-02 5.53083447e-02\n",
      " 6.02072868e-02 6.53782693e-02 7.08212922e-02 7.65363555e-02\n",
      " 8.25234592e-02 8.87826034e-02 9.53137879e-02 1.02117013e-01\n",
      " 1.09192278e-01 1.16667932e-01 1.24543975e-01 1.32820406e-01\n",
      " 1.41497226e-01 1.50574434e-01 1.60052031e-01 1.69930017e-01\n",
      " 1.80208391e-01 1.90887154e-01 2.01966305e-01 2.13445846e-01\n",
      " 2.25325774e-01 2.37606092e-01 2.50286797e-01 2.63367892e-01\n",
      " 2.76849375e-01 2.90731247e-01 3.05013507e-01 3.19696156e-01\n",
      " 3.34779194e-01]\n",
      "INFO:       mu_interval_p: [7.70055148e-03 6.39516435e-03 1.00781799e-02 5.03496231e-03\n",
      " 8.07623689e-03 3.67476026e-03 8.47260634e-03 2.45100946e-03\n",
      " 9.27636942e-03 4.63326116e-03 8.47260634e-03 4.54876700e-04\n",
      " 9.27636942e-03 8.07623689e-03 1.20801230e-02 5.03496231e-03\n",
      " 6.39516435e-03 3.67476026e-03 1.20801230e-02 9.73613142e-03\n",
      " 1.10791515e-02 1.20801230e-02 7.21787448e-03 7.21787448e-03\n",
      " 4.35486128e-03 4.35486128e-03 2.99465924e-03 1.22941379e-03\n",
      " 5.71506333e-03 1.10791515e-02 9.07720842e-03 1.10791515e-02\n",
      " 1.30810945e-02 2.99465924e-03 1.22941379e-03 4.78359483e-04\n",
      " 1.40532863e-04 6.39516435e-03 5.39237787e-03 1.20801230e-02\n",
      " 6.39516435e-03 1.00781799e-02 8.07623689e-03 6.39516435e-03\n",
      " 1.00781799e-02 1.20801230e-02 5.03496231e-03 6.39516435e-03\n",
      " 8.07623689e-03 5.03496231e-03 1.00781799e-02 8.07623689e-03\n",
      " 1.00781799e-02 1.30810945e-02 6.39516435e-03 1.30810945e-02\n",
      " 1.12793458e-02 6.39516435e-03 4.78359483e-04 8.07623689e-03\n",
      " 5.03496231e-03 3.67476026e-03 5.03496231e-03 1.10791515e-02\n",
      " 5.71506333e-03 4.63326116e-03 9.27636942e-03 5.71506333e-03\n",
      " 8.07623689e-03 1.20801230e-02 6.39516435e-03 5.03496231e-03\n",
      " 3.67476026e-03 2.31455822e-03 1.43193549e-03 1.02689208e-03\n",
      " 6.21848664e-04 3.49628433e-04 4.63326116e-03 5.71506333e-03\n",
      " 1.10791515e-02 5.71506333e-03 2.99465924e-03 1.22941379e-03\n",
      " 1.10791515e-02 1.40532863e-04 4.78359483e-04 0.00000000e+00\n",
      " 1.10791515e-02 5.03496231e-03 1.10791515e-02 5.71506333e-03\n",
      " 2.99465924e-03 1.22941379e-03 8.07623689e-03 3.33716569e-04\n",
      " 3.26669965e-03 8.07623689e-03 1.40532863e-04 5.03496231e-03\n",
      " 7.21787448e-03 1.20801230e-02 6.39516435e-03 5.03496231e-03\n",
      " 8.07623689e-03 3.67476026e-03 8.07623689e-03 2.31455822e-03\n",
      " 5.03496231e-03 1.43193549e-03 1.02689208e-03 6.21848664e-04\n",
      " 5.71506333e-03 1.54472567e-04 3.49628433e-04 4.63326116e-03\n",
      " 4.63326116e-03 7.70055148e-03 5.39237787e-03 8.52333147e-04\n",
      " 2.99465924e-03 1.40532863e-04 6.39516435e-03 3.67476026e-03\n",
      " 5.39237787e-03 9.07720842e-03 5.71506333e-03 2.99465924e-03\n",
      " 1.22941379e-03 1.19410139e-04 5.03496231e-03 1.20801230e-02\n",
      " 2.99465924e-03 1.20801230e-02 5.39237787e-03 3.67476026e-03\n",
      " 6.39516435e-03 4.35486128e-03 9.95499456e-03 5.03496231e-03\n",
      " 1.43193549e-03 2.99465924e-03 3.67476026e-03 5.71506333e-03\n",
      " 5.71506333e-03 9.07720842e-03 7.70055148e-03 2.31455822e-03\n",
      " 4.63326116e-03 6.39516435e-03 4.63326116e-03 9.45440442e-04\n",
      " 6.21848664e-04 4.63326116e-03 3.49628433e-04 1.02689208e-03\n",
      " 3.67476026e-03 8.07623689e-03 1.22941379e-03 2.99465924e-03\n",
      " 6.39516435e-03 5.03496231e-03 4.63326116e-03 3.67476026e-03\n",
      " 5.03496231e-03 3.67476026e-03 8.07623689e-03 6.39516435e-03\n",
      " 5.03496231e-03 2.31455822e-03 2.99465924e-03 5.03496231e-03\n",
      " 3.67476026e-03 6.39516435e-03 3.67476026e-03 9.07720842e-03\n",
      " 7.70055148e-03 2.99465924e-03 5.71506333e-03 2.99465924e-03\n",
      " 4.63326116e-03 1.22941379e-03 1.19410139e-04 2.31455822e-03\n",
      " 1.31042247e-03 4.63326116e-03 6.39516435e-03 4.63326116e-03\n",
      " 5.03496231e-03 8.07623689e-03 2.31455822e-03 2.31455822e-03\n",
      " 4.63326116e-03 3.67476026e-03 2.31455822e-03 1.99685843e-04\n",
      " 1.43193549e-03 1.20801230e-02 4.63326116e-03 2.99465924e-03\n",
      " 5.71506333e-03 1.10791515e-02 4.63326116e-03 1.22941379e-03\n",
      " 1.22941379e-03 4.63326116e-03 4.63326116e-03 4.78359483e-04\n",
      " 9.07720842e-03 4.63326116e-03 1.40532863e-04 2.31455822e-03\n",
      " 4.63326116e-03 4.63326116e-03 9.27636942e-03 4.63326116e-03\n",
      " 4.78359483e-04 1.22941379e-03 1.22941379e-03 8.36685800e-06\n",
      " 1.43193549e-03 1.43193549e-03 1.43193549e-03 1.00781799e-02\n",
      " 1.40820660e-02 1.10791515e-02 8.07623689e-03 4.63326116e-03\n",
      " 1.20801230e-02 6.39516435e-03 5.03496231e-03 1.02689208e-03\n",
      " 1.43193549e-03 1.43193549e-03 1.84671467e-03 6.21848664e-04\n",
      " 5.39237787e-03 1.22941379e-03 1.02689208e-03 3.67476026e-03\n",
      " 1.02689208e-03 1.40532863e-04 4.63326116e-03 1.02689208e-03\n",
      " 1.00781799e-02 8.07623689e-03 1.30810945e-02 6.39516435e-03\n",
      " 5.03496231e-03 2.10231386e-04 3.67476026e-03 1.40820660e-02\n",
      " 1.10791515e-02 3.67476026e-03 6.21848664e-04 4.63326116e-03\n",
      " 1.22941379e-03 7.21787448e-03 1.02689208e-03 3.49628433e-04\n",
      " 4.35486128e-03 4.78359483e-04 2.10231386e-04 4.78359483e-04\n",
      " 4.63326116e-03 1.84671467e-03 1.02689208e-03 4.63326116e-03\n",
      " 4.63326116e-03 4.63326116e-03 4.63326116e-03 4.63326116e-03\n",
      " 4.63326116e-03 4.63326116e-03 1.01316584e-02 6.59798145e-04\n",
      " 4.63326116e-03 4.35486128e-03 2.31455822e-03 4.78359483e-04\n",
      " 1.22941379e-03 4.78359483e-04 1.84671467e-03 4.63326116e-03\n",
      " 8.24370372e-04 3.16081302e-05 0.00000000e+00 3.24597841e-05\n",
      " 1.22941379e-03 0.00000000e+00 6.21848664e-04 1.20801230e-02\n",
      " 1.19410139e-04 1.19410139e-04 1.72091083e-04 0.00000000e+00\n",
      " 0.00000000e+00 2.79929909e-04 6.39516435e-03 1.30810945e-02\n",
      " 8.07623689e-03 1.00781799e-02 4.63326116e-03 3.49628433e-04\n",
      " 4.63326116e-03 4.63326116e-03 1.40820660e-02 1.00781799e-02\n",
      " 1.20801230e-02 6.39516435e-03 8.47260634e-03 4.78359483e-04\n",
      " 1.22941379e-03 2.99465924e-03 5.71506333e-03 1.10791515e-02\n",
      " 5.71506333e-03 1.22941379e-03 2.99465924e-03 5.71506333e-03\n",
      " 1.22941379e-03 2.99465924e-03 5.71506333e-03 1.10791515e-02\n",
      " 3.22925410e-03 1.84671467e-03 4.35486128e-03 1.20801230e-02\n",
      " 7.21787448e-03 8.07623689e-03 3.67476026e-03 5.03496231e-03\n",
      " 1.30810945e-02 1.00781799e-02 8.07623689e-03 1.30810945e-02\n",
      " 6.39516435e-03 6.39516435e-03 8.07623689e-03 5.03496231e-03\n",
      " 3.67476026e-03 1.00781799e-02 3.67476026e-03 5.03496231e-03\n",
      " 4.63326116e-03 1.30810945e-02 1.43193549e-03 6.39516435e-03\n",
      " 8.07623689e-03 1.00781799e-02 3.67476026e-03 5.03496231e-03\n",
      " 4.63326116e-03 4.63326116e-03 4.63326116e-03 4.63326116e-03\n",
      " 6.69176186e-05 3.33716569e-04 1.22941379e-03 6.38817732e-03\n",
      " 1.32995680e-03 1.12862583e-03 2.99465924e-03 5.39237787e-03\n",
      " 4.35486128e-03 1.20801230e-02 5.71506333e-03 4.35486128e-03\n",
      " 1.01316584e-02 7.21787448e-03 1.10791515e-02]\n",
      "INFO:       sigma_alpha_p_0: 0.24583614674180954\n",
      "INFO:       sigma_alpha_p_1: 0.09152927985673782\n",
      "INFO:       sigma_alpha_p_2: 0.06780738984451798\n",
      "INFO:       sigma_alpha_p_3: 0.05805692217818364\n",
      "INFO:       sigma_alpha_p_4: 0.24583614674180954\n",
      "INFO:       pi_p: [4.72147956e-03 5.75592904e-03 9.07080497e-03 4.53168741e-03\n",
      " 7.26896822e-03 3.30744578e-03 5.88230557e-03 2.32920722e-03\n",
      " 8.81538282e-03 3.23816462e-03 6.98784334e-03 4.09409026e-04\n",
      " 5.91965772e-03 4.66382050e-03 6.97596244e-03 2.90756211e-03\n",
      " 3.69304405e-03 2.12208018e-03 6.97596244e-03 5.77569889e-03\n",
      " 1.04308471e-02 6.97596244e-03 4.16813813e-03 4.16813813e-03\n",
      " 2.51482115e-03 3.69159917e-03 1.91102326e-03 7.84542798e-04\n",
      " 3.73704298e-03 1.10791302e-02 5.93552792e-03 1.04308471e-02\n",
      " 8.55364317e-03 1.95818833e-03 8.03905730e-04 3.12796174e-04\n",
      " 9.18935306e-05 6.02094677e-03 3.52604104e-03 1.02402738e-02\n",
      " 5.42115623e-03 8.54323439e-03 6.84619496e-03 5.42115623e-03\n",
      " 8.54323439e-03 1.02402738e-02 4.26811819e-03 6.02094677e-03\n",
      " 6.84619496e-03 4.26811819e-03 9.32309075e-03 7.47113962e-03\n",
      " 9.32309075e-03 1.21010174e-02 5.91601836e-03 1.21010174e-02\n",
      " 9.86770872e-03 5.91601836e-03 3.05262143e-04 7.47113962e-03\n",
      " 4.65772697e-03 3.39943557e-03 4.65772697e-03 1.01523850e-02\n",
      " 5.71505237e-03 3.84369095e-03 8.53507182e-03 5.23700061e-03\n",
      " 6.59986565e-03 9.87182395e-03 5.22610048e-03 4.11454929e-03\n",
      " 3.00299810e-03 1.89144691e-03 1.17017146e-03 8.39171739e-04\n",
      " 5.08172023e-04 2.85714834e-04 3.64901920e-03 4.92897407e-03\n",
      " 9.05383437e-03 4.67032488e-03 2.44722250e-03 1.00467160e-03\n",
      " 9.61955007e-03 1.14842844e-04 3.90913288e-04 0.00000000e+00\n",
      " 9.55524850e-03 4.74033792e-03 6.16772654e-03 3.18155662e-03\n",
      " 1.66711678e-03 6.84410540e-04 5.12166618e-03 1.85778897e-04\n",
      " 3.00564961e-03 6.59986565e-03 8.96801763e-05 4.74033792e-03\n",
      " 6.31454026e-03 9.87182395e-03 5.22610048e-03 4.11454929e-03\n",
      " 6.88939546e-03 3.00299810e-03 4.69324989e-03 1.89144691e-03\n",
      " 4.29505064e-03 1.17017146e-03 8.39171739e-04 5.08172023e-04\n",
      " 3.76062426e-03 1.26234310e-04 2.85714834e-04 2.81477043e-03\n",
      " 3.24645719e-03 6.92661871e-03 5.39236754e-03 7.66670640e-04\n",
      " 2.99465350e-03 1.26408811e-04 5.45536452e-03 3.45972906e-03\n",
      " 5.52305821e-03 5.70488053e-03 3.59182603e-03 1.88209551e-03\n",
      " 7.72666932e-04 7.50473657e-05 3.67616513e-03 7.66079032e-03\n",
      " 2.58275314e-03 7.01998179e-03 4.94130767e-03 3.45972906e-03\n",
      " 4.66928624e-03 3.80984000e-03 8.11088870e-03 4.10226431e-03\n",
      " 1.16667763e-03 2.74415722e-03 2.99403192e-03 3.65558221e-03\n",
      " 4.96214335e-03 5.97298197e-03 7.77062113e-03 1.88579954e-03\n",
      " 3.77497601e-03 4.05558893e-03 3.77497601e-03 8.98457042e-04\n",
      " 5.06654753e-04 4.57746479e-03 2.84861764e-04 8.36666190e-04\n",
      " 2.13547082e-03 6.58016016e-03 1.24060060e-03 1.97054478e-03\n",
      " 5.21049670e-03 4.10226431e-03 3.16917397e-03 2.33040407e-03\n",
      " 3.19299650e-03 2.99403192e-03 7.18082023e-03 5.68612908e-03\n",
      " 4.47673336e-03 2.17912021e-03 1.91550337e-03 2.92590926e-03\n",
      " 3.26733765e-03 3.71634770e-03 3.13473676e-03 7.39570743e-03\n",
      " 6.82832676e-03 2.60013365e-03 4.65638050e-03 2.43991573e-03\n",
      " 3.99597044e-03 1.00167191e-03 9.72900935e-05 2.17912021e-03\n",
      " 1.20570337e-03 4.11956904e-03 3.54953685e-03 3.53095224e-03\n",
      " 2.79457779e-03 4.48259011e-03 1.28465967e-03 1.34503238e-03\n",
      " 3.51034237e-03 2.03961873e-03 1.97442288e-03 1.10832532e-04\n",
      " 7.94773603e-04 6.70488504e-03 4.36073662e-03 2.43991573e-03\n",
      " 4.65638050e-03 7.08666671e-03 3.99597044e-03 1.22941143e-03\n",
      " 1.00167191e-03 3.99725882e-03 3.99597044e-03 3.89746122e-04\n",
      " 7.39570743e-03 3.99725882e-03 1.14499953e-04 1.46781165e-03\n",
      " 4.36073662e-03 3.85234871e-03 5.61869690e-03 4.71194735e-03\n",
      " 4.82712221e-04 1.06031173e-03 7.86382042e-04 7.43922002e-06\n",
      " 1.34814477e-03 1.34814477e-03 1.22150576e-03 8.36681930e-03\n",
      " 1.16908115e-02 8.08919469e-03 6.70482320e-03 2.93825173e-03\n",
      " 1.00288154e-02 5.30921107e-03 4.17998290e-03 8.75985403e-04\n",
      " 9.08083269e-04 8.32124069e-04 1.61559392e-03 3.61367703e-04\n",
      " 5.39229370e-03 8.08978493e-04 5.96745886e-04 3.05075473e-03\n",
      " 9.66802762e-04 9.24733923e-05 3.26998391e-03 9.66802762e-04\n",
      " 9.13057187e-03 7.31686294e-03 1.18511353e-02 5.79385445e-03\n",
      " 4.56154637e-03 1.22169327e-04 3.32923830e-03 1.16908115e-02\n",
      " 9.19781735e-03 2.68304403e-03 3.94354613e-04 3.18140429e-03\n",
      " 1.09016076e-03 5.99221802e-03 6.51218941e-04 2.98248871e-04\n",
      " 3.61536881e-03 4.12562618e-04 1.33321372e-04 3.14769964e-04\n",
      " 3.85234871e-03 1.53312682e-03 7.49762288e-04 4.63318883e-03\n",
      " 2.85953368e-03 2.86018423e-03 4.61249822e-03 4.19857043e-03\n",
      " 3.23868175e-03 3.84736910e-03 5.76211719e-03 5.77222832e-04\n",
      " 2.93825173e-03 2.47671409e-03 1.68992293e-03 4.38344907e-04\n",
      " 1.12657383e-03 4.78358566e-04 1.05027094e-03 2.63504679e-03\n",
      " 4.68839209e-04 1.79763020e-05 0.00000000e+00 2.79950413e-05\n",
      " 1.06744704e-03 0.00000000e+00 5.30465044e-04 1.03048914e-02\n",
      " 1.12422771e-04 1.12422771e-04 1.52598701e-04 0.00000000e+00\n",
      " 0.00000000e+00 1.59202856e-04 5.76035264e-03 1.17826084e-02\n",
      " 7.27455465e-03 9.07777616e-03 3.21922235e-03 2.21722090e-04\n",
      " 2.84299900e-03 4.19333236e-03 1.15939728e-02 8.29751428e-03\n",
      " 9.94574354e-03 5.26523319e-03 8.94829984e-03 4.62956619e-04\n",
      " 1.18982746e-03 2.89823317e-03 5.53104201e-03 1.07224100e-02\n",
      " 5.53104201e-03 1.18982746e-03 2.89823317e-03 5.53104201e-03\n",
      " 1.29843908e-03 3.16279404e-03 6.03593490e-03 1.17011891e-02\n",
      " 3.12527422e-03 1.78725167e-03 4.21463759e-03 7.96434071e-03\n",
      " 4.75869423e-03 6.64928502e-03 3.02548436e-03 4.14535877e-03\n",
      " 1.08487325e-02 8.35828207e-03 6.69798182e-03 1.18390427e-02\n",
      " 5.30379372e-03 5.78794259e-03 7.30939706e-03 4.17571778e-03\n",
      " 3.04764184e-03 9.12125533e-03 3.32584126e-03 4.55689192e-03\n",
      " 3.70947101e-03 1.17529685e-02 1.04549568e-03 5.74586211e-03\n",
      " 7.25625505e-03 9.05494045e-03 3.30166117e-03 4.52376164e-03\n",
      " 4.15035421e-03 4.15035421e-03 2.82733798e-03 4.15035421e-03\n",
      " 5.71966604e-05 2.40111182e-04 8.84570995e-04 5.49037412e-03\n",
      " 1.13675724e-03 9.64673124e-04 2.15467626e-03 3.13980789e-03\n",
      " 3.72224127e-03 1.03252732e-02 4.11202421e-03 3.72224127e-03\n",
      " 8.65985721e-03 6.16935156e-03 7.97151955e-03]\n",
      "INFO:       p_pred_p: [4.72447511e-03 5.75311734e-03 9.07043902e-03 4.53531929e-03\n",
      " 7.27396914e-03 3.30983230e-03 5.88068728e-03 2.32913707e-03\n",
      " 8.81650655e-03 3.23786783e-03 6.98784562e-03 4.09395931e-04\n",
      " 5.91840545e-03 4.66304776e-03 6.97463903e-03 2.90736580e-03\n",
      " 3.69258282e-03 2.12201922e-03 6.97252408e-03 5.77432226e-03\n",
      " 1.04285601e-02 6.97477362e-03 4.16556832e-03 4.16556832e-03\n",
      " 2.51634032e-03 3.69166255e-03 1.91211377e-03 7.84705845e-04\n",
      " 3.73659295e-03 1.10787602e-02 5.93516255e-03 1.04303164e-02\n",
      " 8.55359931e-03 1.95754694e-03 8.04028482e-04 3.12385995e-04\n",
      " 9.18504506e-05 6.02003210e-03 3.52394625e-03 1.02400756e-02\n",
      " 5.42401314e-03 8.53857827e-03 6.84877210e-03 5.41768095e-03\n",
      " 8.53852377e-03 1.02401164e-02 4.26812037e-03 6.02084459e-03\n",
      " 6.84876806e-03 4.27016313e-03 9.32449778e-03 7.47118201e-03\n",
      " 9.32209542e-03 1.21053912e-02 5.91614545e-03 1.20963404e-02\n",
      " 9.86700233e-03 5.91633757e-03 3.05265495e-04 7.47167252e-03\n",
      " 4.65534038e-03 3.40022931e-03 4.65833648e-03 1.01495075e-02\n",
      " 5.71220562e-03 3.84315418e-03 8.53740904e-03 5.23354408e-03\n",
      " 6.59843905e-03 9.87242614e-03 5.22635968e-03 4.11440364e-03\n",
      " 3.00275135e-03 1.89175487e-03 1.16981228e-03 8.39131213e-04\n",
      " 5.08154078e-04 2.85671906e-04 3.65399425e-03 4.92907105e-03\n",
      " 9.05413731e-03 4.67029849e-03 2.44719339e-03 1.00494712e-03\n",
      " 9.61932794e-03 1.14761510e-04 3.90780061e-04 1.00000000e-09\n",
      " 9.55572127e-03 4.74001199e-03 6.16854120e-03 3.18160282e-03\n",
      " 1.66698520e-03 6.84208278e-04 5.12063997e-03 1.85702586e-04\n",
      " 3.00589998e-03 6.59978297e-03 8.96618078e-05 4.73988201e-03\n",
      " 6.31289019e-03 9.87073005e-03 5.22629071e-03 4.11423421e-03\n",
      " 6.88777041e-03 3.00321062e-03 4.69180999e-03 1.89131583e-03\n",
      " 4.29448882e-03 1.16985029e-03 8.38968905e-04 5.08154008e-04\n",
      " 3.76049338e-03 1.26219042e-04 2.85689190e-04 2.81534927e-03\n",
      " 3.24594747e-03 6.92676460e-03 5.39293529e-03 7.66815711e-04\n",
      " 2.99482717e-03 1.26409824e-04 5.45854232e-03 3.45976252e-03\n",
      " 5.52278165e-03 5.70531457e-03 3.59137030e-03 1.88100369e-03\n",
      " 7.72364817e-04 7.50155692e-05 3.67542040e-03 7.66180263e-03\n",
      " 2.58231552e-03 7.01765582e-03 4.94161819e-03 3.45982411e-03\n",
      " 4.66850768e-03 3.80947171e-03 8.10978810e-03 4.10238623e-03\n",
      " 1.16661013e-03 2.74331784e-03 2.99400158e-03 3.65687376e-03\n",
      " 4.96139135e-03 5.97086711e-03 7.77043184e-03 1.88625021e-03\n",
      " 3.77501221e-03 4.05522589e-03 3.77564154e-03 8.98942291e-04\n",
      " 5.06473619e-04 4.57870318e-03 2.84658223e-04 8.36687242e-04\n",
      " 2.13518862e-03 6.58045789e-03 1.24103600e-03 1.97039053e-03\n",
      " 5.20720965e-03 4.09976685e-03 3.16907027e-03 2.33029694e-03\n",
      " 3.19200041e-03 2.99413281e-03 7.18159200e-03 5.68669270e-03\n",
      " 4.48034967e-03 2.17944300e-03 1.91551437e-03 2.92542376e-03\n",
      " 3.26798054e-03 3.71585443e-03 3.13458869e-03 7.39438392e-03\n",
      " 6.82789270e-03 2.59983792e-03 4.65347865e-03 2.43982435e-03\n",
      " 3.99639801e-03 1.00156703e-03 9.72356133e-05 2.18016665e-03\n",
      " 1.20573463e-03 4.11968447e-03 3.54735982e-03 3.53199218e-03\n",
      " 2.79292005e-03 4.48222582e-03 1.28512664e-03 1.34496969e-03\n",
      " 3.50965118e-03 2.04076984e-03 1.97445504e-03 1.10835007e-04\n",
      " 7.94522589e-04 6.70167739e-03 4.36152324e-03 2.43922081e-03\n",
      " 4.65601622e-03 7.08746488e-03 3.99627373e-03 1.22969036e-03\n",
      " 1.00165807e-03 3.99700167e-03 3.99633078e-03 3.89603498e-04\n",
      " 7.39524929e-03 3.99677234e-03 1.14486387e-04 1.46793740e-03\n",
      " 4.36159954e-03 3.85230840e-03 5.62218012e-03 4.71053284e-03\n",
      " 4.82674033e-04 1.06044000e-03 7.86506063e-04 7.43780313e-06\n",
      " 1.34812174e-03 1.34848816e-03 1.22132046e-03 8.36247955e-03\n",
      " 1.16892610e-02 8.08417297e-03 6.70504472e-03 2.93849867e-03\n",
      " 1.00285437e-02 5.31196451e-03 4.18003303e-03 8.76015995e-04\n",
      " 9.08194868e-04 8.32232660e-04 1.61549495e-03 3.61309015e-04\n",
      " 5.39381069e-03 8.09047564e-04 5.96764738e-04 3.05196909e-03\n",
      " 9.66998284e-04 9.23444278e-05 3.27042874e-03 9.66901215e-04\n",
      " 9.13083034e-03 7.31687985e-03 1.18485395e-02 5.79427965e-03\n",
      " 4.56200496e-03 1.22108766e-04 3.32971462e-03 1.16861598e-02\n",
      " 9.19822797e-03 2.68230570e-03 3.94369857e-04 3.18394853e-03\n",
      " 1.09015770e-03 5.99184119e-03 6.51191062e-04 2.98190791e-04\n",
      " 3.61698284e-03 4.12509417e-04 1.33310073e-04 3.14712727e-04\n",
      " 3.85270984e-03 1.53253747e-03 7.49129861e-04 4.63346132e-03\n",
      " 2.85948105e-03 2.86002313e-03 4.61281697e-03 4.19812794e-03\n",
      " 3.23864237e-03 3.84663765e-03 5.76132985e-03 5.77136335e-04\n",
      " 2.93844615e-03 2.47626355e-03 1.68912497e-03 4.38436186e-04\n",
      " 1.12639071e-03 4.78204338e-04 1.05010957e-03 2.63523787e-03\n",
      " 4.68816338e-04 1.79680170e-05 1.00000000e-09 2.79766730e-05\n",
      " 1.06727778e-03 1.00000000e-09 5.30427474e-04 1.03060516e-02\n",
      " 1.12413626e-04 1.12420590e-04 1.52717752e-04 1.00000000e-09\n",
      " 1.00000000e-09 1.59179066e-04 5.76513952e-03 1.17784482e-02\n",
      " 7.27958428e-03 9.07401306e-03 3.21945442e-03 2.21675789e-04\n",
      " 2.84303147e-03 4.19316431e-03 1.15925436e-02 8.29870422e-03\n",
      " 9.94099726e-03 5.26802002e-03 8.94484745e-03 4.62788283e-04\n",
      " 1.18957137e-03 2.89737913e-03 5.53082372e-03 1.07248415e-02\n",
      " 5.53057019e-03 1.18990740e-03 2.89738779e-03 5.53107357e-03\n",
      " 1.29891895e-03 3.16223748e-03 6.03581033e-03 1.17073840e-02\n",
      " 3.12417662e-03 1.78699100e-03 4.21488082e-03 7.96666741e-03\n",
      " 4.75804599e-03 6.64540446e-03 3.02552049e-03 4.14527711e-03\n",
      " 1.08512655e-02 8.35955728e-03 6.69731319e-03 1.18349377e-02\n",
      " 5.30351609e-03 5.78787869e-03 7.31438382e-03 4.17322992e-03\n",
      " 3.04766835e-03 9.12089326e-03 3.32610896e-03 4.56050561e-03\n",
      " 3.71021927e-03 1.17488529e-02 1.04471840e-03 5.74581691e-03\n",
      " 7.25689264e-03 9.05902551e-03 3.30207686e-03 4.52737804e-03\n",
      " 4.14861155e-03 4.15069241e-03 2.82769322e-03 4.15049605e-03\n",
      " 5.71762623e-05 2.40084027e-04 8.84684070e-04 5.49026350e-03\n",
      " 1.13658663e-03 9.64522854e-04 2.15440787e-03 3.13964660e-03\n",
      " 3.72165242e-03 1.03220791e-02 4.11243311e-03 3.72171938e-03\n",
      " 8.65928118e-03 6.16924142e-03 7.97157061e-03]\n",
      "INFO:   ▶ pm.sample() 수행 중 (NUTS)...\n"
     ]
    },
    {
     "name": "stdout",
     "output_type": "stream",
     "text": [
      "\n"
     ]
    },
    {
     "name": "stderr",
     "output_type": "stream",
     "text": [
      "/Users/jeonsang-eon/dismod_mr_migrated/dismod_mr/fit.py:82: FutureWarning: The `start` kwarg was renamed to `initvals` and can now do more. Please check the docstring.\n",
      "  idata = pm.sample(\n",
      "Auto-assigning NUTS sampler...\n",
      "Initializing NUTS using jitter+adapt_diag...\n",
      "Sequential sampling (2 chains in 1 job)\n",
      "NUTS: [gamma_p_0, gamma_p_1, gamma_p_2, gamma_p_3, gamma_p_4, gamma_p_5, sigma_alpha_p_0_z, sigma_alpha_p_1_z, sigma_alpha_p_2_z, sigma_alpha_p_3_z, sigma_alpha_p_4_z, alpha_p_ARG, alpha_p_AUS, alpha_p_AUT, alpha_p_BGR, alpha_p_BOL, alpha_p_CAN, alpha_p_CHL, alpha_p_CHN, alpha_p_COL, alpha_p_CUB, alpha_p_DEU, alpha_p_DNK, alpha_p_ESP, alpha_p_EST, alpha_p_ETH, alpha_p_FIN, alpha_p_FRA, alpha_p_GBR, alpha_p_IND, alpha_p_ISR, alpha_p_ITA, alpha_p_JPN, alpha_p_LBY, alpha_p_NGA, alpha_p_NLD, alpha_p_NOR, alpha_p_NZL, alpha_p_POL, alpha_p_PRT, alpha_p_SAU, alpha_p_SGP, alpha_p_SWE, alpha_p_TUN, alpha_p_TUR, alpha_p_URY, alpha_p_USA, alpha_p_asia_east, alpha_p_asia_pacific_high_income, alpha_p_asia_south, alpha_p_australasia, alpha_p_caribbean, alpha_p_europe_central, alpha_p_europe_eastern, alpha_p_europe_western, alpha_p_latin_america_andean, alpha_p_latin_america_central, alpha_p_latin_america_southern, alpha_p_north_africa_middle_east, alpha_p_north_america_high_income, alpha_p_oceania, alpha_p_sub-saharan_africa_east, alpha_p_sub-saharan_africa_west, alpha_p_super-region_0, alpha_p_super-region_1, alpha_p_super-region_2, alpha_p_super-region_3, alpha_p_super-region_4, alpha_p_super-region_5, alpha_p_super-region_6, beta_p_x_cv_ascertainment, beta_p_x_cv_diagnostic_criteria, beta_p_x_cv_representative, beta_p_x_sex, sigma_p, p_log_pred_p]\n"
     ]
    },
    {
     "data": {
      "text/html": [
       "\n",
       "<style>\n",
       "    /* Turns off some styling */\n",
       "    progress {\n",
       "        /* gets rid of default border in Firefox and Opera. */\n",
       "        border: none;\n",
       "        /* Needs to be in here for Safari polyfill so background images work as expected. */\n",
       "        background-size: auto;\n",
       "    }\n",
       "    progress:not([value]), progress:not([value])::-webkit-progress-bar {\n",
       "        background: repeating-linear-gradient(45deg, #7e7e7e, #7e7e7e 10px, #5c5c5c 10px, #5c5c5c 20px);\n",
       "    }\n",
       "    .progress-bar-interrupted, .progress-bar-interrupted::-webkit-progress-bar {\n",
       "        background: #F44336;\n",
       "    }\n",
       "</style>\n"
      ],
      "text/plain": [
       "<IPython.core.display.HTML object>"
      ]
     },
     "metadata": {},
     "output_type": "display_data"
    },
    {
     "data": {
      "text/html": [
       "\n",
       "    <div>\n",
       "      <progress value='1500' class='' max='1500' style='width:300px; height:20px; vertical-align: middle;'></progress>\n",
       "      100.00% [1500/1500 00:51&lt;00:00 Sampling chain 0, 27 divergences]\n",
       "    </div>\n",
       "    "
      ],
      "text/plain": [
       "<IPython.core.display.HTML object>"
      ]
     },
     "metadata": {},
     "output_type": "display_data"
    },
    {
     "data": {
      "text/html": [
       "\n",
       "<style>\n",
       "    /* Turns off some styling */\n",
       "    progress {\n",
       "        /* gets rid of default border in Firefox and Opera. */\n",
       "        border: none;\n",
       "        /* Needs to be in here for Safari polyfill so background images work as expected. */\n",
       "        background-size: auto;\n",
       "    }\n",
       "    progress:not([value]), progress:not([value])::-webkit-progress-bar {\n",
       "        background: repeating-linear-gradient(45deg, #7e7e7e, #7e7e7e 10px, #5c5c5c 10px, #5c5c5c 20px);\n",
       "    }\n",
       "    .progress-bar-interrupted, .progress-bar-interrupted::-webkit-progress-bar {\n",
       "        background: #F44336;\n",
       "    }\n",
       "</style>\n"
      ],
      "text/plain": [
       "<IPython.core.display.HTML object>"
      ]
     },
     "metadata": {},
     "output_type": "display_data"
    },
    {
     "data": {
      "text/html": [
       "\n",
       "    <div>\n",
       "      <progress value='1500' class='' max='1500' style='width:300px; height:20px; vertical-align: middle;'></progress>\n",
       "      100.00% [1500/1500 00:58&lt;00:00 Sampling chain 1, 41 divergences]\n",
       "    </div>\n",
       "    "
      ],
      "text/plain": [
       "<IPython.core.display.HTML object>"
      ]
     },
     "metadata": {},
     "output_type": "display_data"
    },
    {
     "name": "stderr",
     "output_type": "stream",
     "text": [
      "Sampling 2 chains for 500 tune and 1_000 draw iterations (1_000 + 2_000 draws total) took 110 seconds.\n",
      "We recommend running at least 4 chains for robust computation of convergence diagnostics\n",
      "INFO:   ▶ 샘플링 완료\n",
      "INFO: [asr] 전체 소요 시간: 143.2초\n"
     ]
    }
   ],
   "source": [
    "\n",
    "# ─────────────────────────────────────────────────────────────────────────────\n",
    "# Step 1: age_specific_rate (model.asr) 호출 → pm_model, result_dict 반환\n",
    "#         result_dict에는 {'p': ModelVars} 형태로 들어 있으므로, 실제 ModelVars는 result_dict['p']\n",
    "# ─────────────────────────────────────────────────────────────────────────────\n",
    "pm_model, result_dict = dismod_mr.model.asr(\n",
    "    mr_model,   # MRModel 인스턴스\n",
    "    'p',         # data_type ('p' for prevalence)\n",
    "    rate_type='log_normal'\n",
    ")\n",
    "\n",
    "# 반드시 “result_dict['p']”를 뽑아서 사용해야 합니다.\n",
    "vars_dict = result_dict['p']\n",
    "\n",
    "# ─────────────────────────────────────────────────────────────────────────────\n",
    "# Step 2: vars_dict를 MRModel.vars에 저장\n",
    "# ─────────────────────────────────────────────────────────────────────────────\n",
    "mr_model.vars['p'] = vars_dict\n",
    "\n",
    "# ─────────────────────────────────────────────────────────────────────────────\n",
    "# Step 3: fit.asr 호출 → pm_model로 샘플링 → mr_model.idata에 InferenceData 저장\n",
    "# ─────────────────────────────────────────────────────────────────────────────\n",
    "map_estimate, idata = dismod_mr.fit.asr(\n",
    "    mr_model=mr_model,\n",
    "    pm_model=pm_model,\n",
    "    data_type='p',\n",
    "    verbose=True,\n",
    "    draws=1000,    # 테스트용: posterior 샘플 개수\n",
    "    tune=500,      # 테스트용: tuning 단계\n",
    "    chains=2,\n",
    "    cores=1\n",
    ")\n",
    "\n"
   ]
  },
  {
   "cell_type": "code",
   "execution_count": 38,
   "metadata": {
    "scrolled": true
   },
   "outputs": [
    {
     "name": "stderr",
     "output_type": "stream",
     "text": [
      "/var/folders/t3/6wjz0w9511d3t31xphnn6jbr0000gn/T/ipykernel_50017/2951013538.py:33: FutureWarning: hdi currently interprets 2d data as (draw, shape) but this will change in a future release to (chain, draw) for coherence with other functions\n",
      "  hpd = pm.stats.hdi(pred, hdi_prob=0.95)\n"
     ]
    },
    {
     "data": {
      "text/plain": [
       "(-5.0, 105.0, -0.001, 0.055092592592414995)"
      ]
     },
     "execution_count": 38,
     "metadata": {},
     "output_type": "execute_result"
    },
    {
     "data": {
      "image/png": "[encoded data removed]",
      "text/plain": [
       "<Figure size 1000x400 with 1 Axes>"
      ]
     },
     "metadata": {},
     "output_type": "display_data"
    }
   ],
   "source": [
    "# ─────────────────────────────────────────────────────────────────────────────\n",
    "# Step 4: 데이터 바(Observation Data) 시각화\n",
    "# ─────────────────────────────────────────────────────────────────────────────\n",
    "plt.figure(figsize=(10, 4))\n",
    "dismod_mr.plot.data_bars(\n",
    "    mr_model.get_data('p'),\n",
    "    color='grey',\n",
    "    label='Simulated PD Data'\n",
    ")\n",
    "\n",
    "# ─────────────────────────────────────────────────────────────────────────────\n",
    "# Step 5: predict_for 호출하여 posterior‐predictive draws 생성\n",
    "#         → 반드시 vars=mr_model.vars['p']를 넘겨야 mu_age 등이 존재합니다.\n",
    "# ─────────────────────────────────────────────────────────────────────────────\n",
    "pred = dismod_mr.model.predict_for(\n",
    "    model=mr_model,\n",
    "    parameters=mr_model.parameters['p'],\n",
    "    root_area='all',\n",
    "    root_sex='female',\n",
    "    root_year=2009,\n",
    "    area='GBR',\n",
    "    sex='female',\n",
    "    year=2005,\n",
    "    population_weighted=1.0,\n",
    "    vars=mr_model.vars['p'],   # ← 여기서 'mu_age' 키가 반드시 있어야 합니다\n",
    "    lower=0.0,\n",
    "    upper=1.0\n",
    ")\n",
    "\n",
    "# ─────────────────────────────────────────────────────────────────────────────\n",
    "# Step 6: 95% HPD(Highest Posterior Density) 계산 및 시각화\n",
    "# ─────────────────────────────────────────────────────────────────────────────\n",
    "hpd = pm.stats.hdi(pred, hdi_prob=0.95)\n",
    "ages = np.arange(pred.shape[1])\n",
    "\n",
    "plt.plot(\n",
    "    ages,\n",
    "    pred.mean(axis=0),\n",
    "    'k-', linewidth=2,\n",
    "    label='Posterior Mean'\n",
    ")\n",
    "plt.plot(\n",
    "    ages,\n",
    "    hpd[:, 0],\n",
    "    'k--', linewidth=1,\n",
    "    label='95% HPD interval'\n",
    ")\n",
    "plt.plot(\n",
    "    ages,\n",
    "    hpd[:, 1],\n",
    "    'k--', linewidth=1\n",
    ")\n",
    "\n",
    "plt.xlabel('Age (years)')\n",
    "plt.ylabel('Prevalence (per 1)')\n",
    "plt.grid()\n",
    "plt.legend(loc='upper left')\n",
    "plt.axis(ymin=-0.001, xmin=-5, xmax=105)\n",
    "\n",
    "# ─────────────────────────────────────────────────────────────────────────────\n",
    "# Step 7: 예시—500번째 posterior draw의 연령 96~100 구간 값 출력\n",
    "# ─────────────────────────────────────────────────────────────────────────────\n",
    "# print(pred[500, -5:])"
   ]
  },
  {
   "cell_type": "code",
   "execution_count": 13,
   "metadata": {},
   "outputs": [],
   "source": [
    "p_only = mr_model  # store results for future comparison"
   ]
  },
  {
   "cell_type": "markdown",
   "metadata": {},
   "source": [
    "This estimate shows the nonlinear increase in prevalence as a function of age, where the slope of the\n",
    "curve increases at age 60.  A nonlinear estimate like this is possible thanks to DisMod-MR's piecewise linear\n",
    "spline model.\n",
    "\n",
    "The age-standardizing model for heterogeneous age groups is also important for\n",
    "such settings; a naive approach, such as using the age interval midpoint, would result in under-estimating\n",
    "the prevalence for age groups that include both individuals older and younger than 60."
   ]
  },
  {
   "cell_type": "markdown",
   "metadata": {},
   "source": [
    "\n",
    "The exact age where the slope of the curve changes is _not_ entirely data driven in this example.  The knots\n",
    "in the piecewise linear spline model were chosen a priori, on the following grid:"
   ]
  },
  {
   "cell_type": "code",
   "execution_count": null,
   "metadata": {},
   "outputs": [
    {
     "data": {
      "text/plain": [
       "[0, 30, 45, 60, 80, 100]"
      ]
     },
     "execution_count": 14,
     "metadata": {},
     "output_type": "execute_result"
    }
   ],
   "source": [
    "mr_model.parameters['p']['parameter_age_mesh']"
   ]
  },
  {
   "cell_type": "markdown",
   "metadata": {},
   "source": [
    "A sparse grid allows faster computation, but a dense grid allows more expressive age pattens.  Choosing\n",
    "the proper balance is one challenge of a DisMod-MR analysis.  This is especially true for sparse,\n",
    "noisy data, where too many knots allow the model to follow noisy idiosyncrasies of the data.  DisMod-MR\n",
    "allows for penalized spline regression to help with this choice."
   ]
  },
  {
   "cell_type": "markdown",
   "metadata": {},
   "source": [
    "The country-level random effects in this model capture country-to-country variation in PD prevalence.\n",
    "This variation is not visible in the graphic above, which shows the regional aggregation of country-level\n",
    "estimates (using a population weighted average that takes uncertainty into account).\n",
    "\n",
    "The country-level random effects take the form of intercept shifts in log-prevalence space, with values\n",
    "showing in the following:"
   ]
  },
  {
   "cell_type": "code",
   "execution_count": 15,
   "metadata": {},
   "outputs": [],
   "source": [
    "df = pd.DataFrame(index=[alpha_i.__name__ for alpha_i in mr_model.vars['p']['alpha']],\n",
    "                      columns=['mean', 'lb', 'ub'])\n",
    "for alpha_i in mr_model.vars['p']['alpha']:\n",
    "    trace = alpha_i.trace()\n",
    "    hpd = mc.utils.hpd(trace, .05)\n",
    "    df.loc[alpha_i.__name__] = (np.mean(trace), hpd[0], hpd[1])"
   ]
  },
  {
   "cell_type": "code",
   "execution_count": null,
   "metadata": {},
   "outputs": [
    {
     "name": "stdout",
     "output_type": "stream",
     "text": [
      "                                    mean     lb     ub\n",
      "alpha_p_latin_america_southern     0.064 -0.082  0.214\n",
      "alpha_p_ARG                        0.046 -0.126  0.169\n",
      "alpha_p_north_africa_middle_east   0.031 -0.136  0.162\n",
      "alpha_p_AUT                        0.026 -0.118  0.171\n",
      "alpha_p_COL                        0.024 -0.086  0.143\n",
      "alpha_p_CUB                        0.022 -0.098  0.146\n",
      "alpha_p_NOR                        0.021 -0.103  0.193\n",
      "alpha_p_australasia                0.018 -0.131  0.154\n",
      "alpha_p_asia_south                 0.018 -0.129  0.153\n",
      "alpha_p_NZL                        0.018 -0.154  0.135\n",
      "alpha_p_ETH                        0.018 -0.098  0.149\n",
      "alpha_p_TUN                        0.017 -0.133  0.156\n",
      "alpha_p_SGP                        0.017 -0.088  0.163\n",
      "alpha_p_latin_america_central      0.015 -0.133  0.174\n",
      "alpha_p_super-region_2             0.014 -0.129  0.143\n",
      "alpha_p_super-region_6             0.012 -0.130  0.148\n",
      "alpha_p_USA                        0.011 -0.126  0.109\n",
      "alpha_p_IND                        0.010 -0.162  0.113\n",
      "alpha_p_EST                        0.007 -0.166  0.109\n",
      "alpha_p_BGR                        0.007 -0.118  0.169\n",
      "alpha_p_oceania                    0.007 -0.131  0.215\n",
      "alpha_p_caribbean                  0.007 -0.123  0.139\n",
      "alpha_p_asia_pacific_high_income   0.004 -0.147  0.127\n",
      "alpha_p_BOL                        0.004 -0.155  0.159\n",
      "alpha_p_NGA                        0.004 -0.095  0.142\n",
      "alpha_p_GBR                        0.002 -0.112  0.131\n",
      "alpha_p_FRA                        0.002 -0.112  0.109\n",
      "alpha_p_LBY                        0.001 -0.153  0.163\n",
      "alpha_p_URY                        0.000 -0.129  0.134\n",
      "alpha_p_super-region_0            -0.001 -0.149  0.112\n",
      "alpha_p_CHL                       -0.003 -0.113  0.120\n",
      "alpha_p_super-region_3            -0.003 -0.126  0.148\n",
      "alpha_p_super-region_1            -0.003 -0.136  0.129\n",
      "alpha_p_CHN                       -0.003 -0.109  0.153\n",
      "alpha_p_latin_america_andean      -0.004 -0.162  0.164\n",
      "alpha_p_PRT                       -0.004 -0.145  0.124\n",
      "alpha_p_asia_east                 -0.004 -0.142  0.140\n",
      "alpha_p_POL                       -0.006 -0.110  0.144\n",
      "alpha_p_DNK                       -0.008 -0.170  0.116\n",
      "alpha_p_north_america_high_income -0.009 -0.126  0.154\n",
      "alpha_p_europe_eastern            -0.012 -0.113  0.141\n",
      "alpha_p_NLD                       -0.012 -0.129  0.075\n",
      "alpha_p_ISR                       -0.012 -0.122  0.123\n",
      "alpha_p_CAN                       -0.013 -0.157  0.127\n",
      "alpha_p_TUR                       -0.017 -0.154  0.119\n",
      "alpha_p_super-region_5            -0.018 -0.144  0.120\n",
      "alpha_p_SWE                       -0.019 -0.151  0.107\n",
      "alpha_p_sub-saharan_africa_west   -0.020 -0.201  0.129\n",
      "alpha_p_SAU                       -0.021 -0.184  0.104\n",
      "alpha_p_FIN                       -0.021 -0.201  0.083\n",
      "alpha_p_JPN                       -0.022 -0.195  0.115\n",
      "alpha_p_ESP                       -0.028 -0.233  0.128\n",
      "alpha_p_AUS                       -0.029 -0.189  0.126\n",
      "alpha_p_ITA                       -0.030 -0.139  0.093\n",
      "alpha_p_super-region_4            -0.030 -0.175  0.117\n",
      "alpha_p_europe_central            -0.033 -0.220  0.113\n",
      "alpha_p_DEU                       -0.036 -0.220  0.096\n",
      "alpha_p_sub-saharan_africa_east   -0.037 -0.205  0.116\n",
      "alpha_p_europe_western            -0.079 -0.219  0.058\n"
     ]
    }
   ],
   "source": [
    "print(np.round(df.astype(float),3).sort_values('mean', ascending=False))"
   ]
  },
  {
   "cell_type": "markdown",
   "metadata": {},
   "source": [
    "The fourth feature of the model which I want to draw attention to here is the negative binomial model of data,\n",
    "which deals with measurements of zero prevalence in a principled way.  Prevalence studies are reporting transformations\n",
    "of count data, and count data can be zero.  In the case of prevalence of PD in 30- to 40-year-olds, it often _will_ be zero."
   ]
  },
  {
   "cell_type": "code",
   "execution_count": null,
   "metadata": {},
   "outputs": [
    {
     "data": {
      "text/html": [
       "<div>\n",
       "<style scoped>\n",
       "    .dataframe tbody tr th:only-of-type {\n",
       "        vertical-align: middle;\n",
       "    }\n",
       "\n",
       "    .dataframe tbody tr th {\n",
       "        vertical-align: top;\n",
       "    }\n",
       "\n",
       "    .dataframe thead th {\n",
       "        text-align: right;\n",
       "    }\n",
       "</style>\n",
       "<table border=\"1\" class=\"dataframe\">\n",
       "  <thead>\n",
       "    <tr style=\"text-align: right;\">\n",
       "      <th></th>\n",
       "      <th>age_start</th>\n",
       "      <th>age_end</th>\n",
       "      <th>area</th>\n",
       "      <th>value</th>\n",
       "    </tr>\n",
       "  </thead>\n",
       "  <tbody>\n",
       "    <tr>\n",
       "      <th>641</th>\n",
       "      <td>0</td>\n",
       "      <td>99</td>\n",
       "      <td>CHN</td>\n",
       "      <td>0.004200</td>\n",
       "    </tr>\n",
       "    <tr>\n",
       "      <th>571</th>\n",
       "      <td>0</td>\n",
       "      <td>49</td>\n",
       "      <td>BGR</td>\n",
       "      <td>0.000049</td>\n",
       "    </tr>\n",
       "    <tr>\n",
       "      <th>572</th>\n",
       "      <td>0</td>\n",
       "      <td>49</td>\n",
       "      <td>BGR</td>\n",
       "      <td>0.000158</td>\n",
       "    </tr>\n",
       "    <tr>\n",
       "      <th>394</th>\n",
       "      <td>0</td>\n",
       "      <td>54</td>\n",
       "      <td>ITA</td>\n",
       "      <td>0.000467</td>\n",
       "    </tr>\n",
       "    <tr>\n",
       "      <th>559</th>\n",
       "      <td>0</td>\n",
       "      <td>4</td>\n",
       "      <td>PRT</td>\n",
       "      <td>0.000000</td>\n",
       "    </tr>\n",
       "    <tr>\n",
       "      <th>187</th>\n",
       "      <td>0</td>\n",
       "      <td>29</td>\n",
       "      <td>GBR</td>\n",
       "      <td>0.000000</td>\n",
       "    </tr>\n",
       "    <tr>\n",
       "      <th>1416</th>\n",
       "      <td>0</td>\n",
       "      <td>44</td>\n",
       "      <td>USA</td>\n",
       "      <td>0.000052</td>\n",
       "    </tr>\n",
       "    <tr>\n",
       "      <th>560</th>\n",
       "      <td>0</td>\n",
       "      <td>39</td>\n",
       "      <td>EST</td>\n",
       "      <td>0.000000</td>\n",
       "    </tr>\n",
       "    <tr>\n",
       "      <th>444</th>\n",
       "      <td>0</td>\n",
       "      <td>34</td>\n",
       "      <td>ITA</td>\n",
       "      <td>0.000003</td>\n",
       "    </tr>\n",
       "    <tr>\n",
       "      <th>371</th>\n",
       "      <td>0</td>\n",
       "      <td>49</td>\n",
       "      <td>ITA</td>\n",
       "      <td>0.000000</td>\n",
       "    </tr>\n",
       "    <tr>\n",
       "      <th>276</th>\n",
       "      <td>0</td>\n",
       "      <td>49</td>\n",
       "      <td>ITA</td>\n",
       "      <td>0.000056</td>\n",
       "    </tr>\n",
       "    <tr>\n",
       "      <th>563</th>\n",
       "      <td>5</td>\n",
       "      <td>9</td>\n",
       "      <td>PRT</td>\n",
       "      <td>0.000000</td>\n",
       "    </tr>\n",
       "    <tr>\n",
       "      <th>574</th>\n",
       "      <td>10</td>\n",
       "      <td>14</td>\n",
       "      <td>PRT</td>\n",
       "      <td>0.000000</td>\n",
       "    </tr>\n",
       "    <tr>\n",
       "      <th>573</th>\n",
       "      <td>15</td>\n",
       "      <td>49</td>\n",
       "      <td>IND</td>\n",
       "      <td>0.000000</td>\n",
       "    </tr>\n",
       "    <tr>\n",
       "      <th>575</th>\n",
       "      <td>15</td>\n",
       "      <td>24</td>\n",
       "      <td>PRT</td>\n",
       "      <td>0.000000</td>\n",
       "    </tr>\n",
       "  </tbody>\n",
       "</table>\n",
       "</div>"
      ],
      "text/plain": [
       "      age_start  age_end area     value\n",
       "641           0       99  CHN  0.004200\n",
       "571           0       49  BGR  0.000049\n",
       "572           0       49  BGR  0.000158\n",
       "394           0       54  ITA  0.000467\n",
       "559           0        4  PRT  0.000000\n",
       "187           0       29  GBR  0.000000\n",
       "1416          0       44  USA  0.000052\n",
       "560           0       39  EST  0.000000\n",
       "444           0       34  ITA  0.000003\n",
       "371           0       49  ITA  0.000000\n",
       "276           0       49  ITA  0.000056\n",
       "563           5        9  PRT  0.000000\n",
       "574          10       14  PRT  0.000000\n",
       "573          15       49  IND  0.000000\n",
       "575          15       24  PRT  0.000000"
      ]
     },
     "execution_count": 17,
     "metadata": {},
     "output_type": "execute_result"
    }
   ],
   "source": [
    "mr_model.get_data('p').sort_values('age_start').filter(['age_start', 'age_end', 'area', 'value']).head(15)"
   ]
  },
  {
   "cell_type": "markdown",
   "metadata": {},
   "source": [
    "The negative binomial model has an appropriately skewed distribution, where prevalence measurements \n",
    "of zero are possible, but measurements of less than zero are not possible.  To demonstrate how this\n",
    "functions, the next figure shows the \"posterior predictive distribution\" for the measurements above,\n",
    "i.e. sample values that the model predicts would be found of the studies were conducted again under\n",
    "the same conditions."
   ]
  },
  {
   "cell_type": "code",
   "execution_count": 18,
   "metadata": {},
   "outputs": [],
   "source": [
    "pred = mr_model.vars['p']['p_pred'].trace()\n",
    "obs = np.array(mr_model.vars['p']['p_obs'].value)\n",
    "ess = np.array(mr_model.vars['p']['p_obs'].parents['n'])"
   ]
  },
  {
   "cell_type": "code",
   "execution_count": null,
   "metadata": {},
   "outputs": [
    {
     "data": {
      "text/plain": [
       "Text(0.5, 1.0, 'Posterior Predictive distribution')"
      ]
     },
     "execution_count": 19,
     "metadata": {},
     "output_type": "execute_result"
    },
    {
     "data": {
      "image/png": "[encoded data removed]",
      "text/plain": [
       "<Figure size 720x288 with 1 Axes>"
      ]
     },
     "metadata": {
      "needs_background": "light"
     },
     "output_type": "display_data"
    }
   ],
   "source": [
    "plt.figure(figsize=(10,4))\n",
    "\n",
    "sorted_indices = obs.argsort().argsort()\n",
    "jitter = mc.rnormal(0, .1**-2, len(pred))\n",
    "\n",
    "for i,s_i in enumerate(sorted_indices):\n",
    "    plt.plot(s_i+jitter, pred[:, i], 'ko', mew=0, alpha=.25, zorder=-99)\n",
    "\n",
    "plt.errorbar(sorted_indices, obs, yerr=1.96*np.sqrt(obs*(1-obs)/ess), fmt='ks', mew=1, mec='white', ms=5)\n",
    "\n",
    "plt.xticks([])\n",
    "plt.xlabel('Measurement')\n",
    "plt.ylabel('Prevalence (%)\\n', ha='center')\n",
    "plt.yticks([0, .02, .04, .06, .08], [0, 2, 4, 6, 8])\n",
    "plt.axis([25.5,55.5,-.01,.1])\n",
    "plt.grid()\n",
    "plt.title('Posterior Predictive distribution')"
   ]
  },
  {
   "cell_type": "markdown",
   "metadata": {},
   "source": [
    "Additional features of DisMod-MR\n",
    "--------------------------------"
   ]
  },
  {
   "cell_type": "markdown",
   "metadata": {},
   "source": [
    "Four additional features of DisMod-MR that are important for many settings are:\n",
    "\n",
    "* informative priors\n",
    "* fixed effects to cross-walk between different studies\n",
    "* fixed effects to predict out of sample\n",
    "* fixed effects to explain the level of variation"
   ]
  },
  {
   "cell_type": "markdown",
   "metadata": {},
   "source": [
    "Informative priors are useful for modeling disease with less data available than PD, for example to include\n",
    "information that prevalence is zero for youngest ages, or than prevalence must be increasing as a function of\n",
    "age between certain ages.\n",
    "\n",
    "The informative priors are also key to the \"empirical Bayes\" approach to modeling age-specific differences between\n",
    "difference GBD regions.  In this setting, a model using all the world's data is used to produce estimates for each region,\n",
    "and these estimates are used as priors in region-specific models together with the data relevant to that region only."
   ]
  },
  {
   "cell_type": "markdown",
   "metadata": {},
   "source": [
    "\"Cross-walk\" fixed effects can correct for biases introduced by multiple outcome measures.  For example, in the PD dataset,"
   ]
  },
  {
   "cell_type": "code",
   "execution_count": 20,
   "metadata": {},
   "outputs": [],
   "source": [
    "mr_model = dismod_mr.data.load('pd_sim_data')"
   ]
  },
  {
   "cell_type": "code",
   "execution_count": 21,
   "metadata": {},
   "outputs": [],
   "source": [
    "crosswalks = list(mr_model.input_data.filter(like='x_cv').columns)\n",
    "groups = mr_model.get_data('p').groupby(crosswalks)"
   ]
  },
  {
   "cell_type": "code",
   "execution_count": null,
   "metadata": {},
   "outputs": [
    {
     "data": {
      "text/plain": [
       "['x_cv_ascertainment', 'x_cv_diagnostic_criteria', 'x_cv_representative']"
      ]
     },
     "execution_count": 22,
     "metadata": {},
     "output_type": "execute_result"
    }
   ],
   "source": [
    "crosswalks"
   ]
  },
  {
   "cell_type": "code",
   "execution_count": null,
   "metadata": {},
   "outputs": [
    {
     "data": {
      "text/html": [
       "<div>\n",
       "<style scoped>\n",
       "    .dataframe tbody tr th:only-of-type {\n",
       "        vertical-align: middle;\n",
       "    }\n",
       "\n",
       "    .dataframe tbody tr th {\n",
       "        vertical-align: top;\n",
       "    }\n",
       "\n",
       "    .dataframe thead th {\n",
       "        text-align: right;\n",
       "    }\n",
       "</style>\n",
       "<table border=\"1\" class=\"dataframe\">\n",
       "  <thead>\n",
       "    <tr style=\"text-align: right;\">\n",
       "      <th></th>\n",
       "      <th>x_cv_representative</th>\n",
       "      <th>0</th>\n",
       "      <th>1</th>\n",
       "    </tr>\n",
       "    <tr>\n",
       "      <th>x_cv_ascertainment</th>\n",
       "      <th>x_cv_diagnostic_criteria</th>\n",
       "      <th></th>\n",
       "      <th></th>\n",
       "    </tr>\n",
       "  </thead>\n",
       "  <tbody>\n",
       "    <tr>\n",
       "      <th rowspan=\"2\" valign=\"top\">0</th>\n",
       "      <th>0</th>\n",
       "      <td>0.006</td>\n",
       "      <td>-</td>\n",
       "    </tr>\n",
       "    <tr>\n",
       "      <th>1</th>\n",
       "      <td>0.009</td>\n",
       "      <td>-</td>\n",
       "    </tr>\n",
       "    <tr>\n",
       "      <th rowspan=\"2\" valign=\"top\">1</th>\n",
       "      <th>0</th>\n",
       "      <td>0.004</td>\n",
       "      <td>-</td>\n",
       "    </tr>\n",
       "    <tr>\n",
       "      <th>1</th>\n",
       "      <td>0.004</td>\n",
       "      <td>0.009</td>\n",
       "    </tr>\n",
       "  </tbody>\n",
       "</table>\n",
       "</div>"
      ],
      "text/plain": [
       "x_cv_representative                              0      1\n",
       "x_cv_ascertainment x_cv_diagnostic_criteria              \n",
       "0                  0                         0.006      -\n",
       "                   1                         0.009      -\n",
       "1                  0                         0.004      -\n",
       "                   1                         0.004  0.009"
      ]
     },
     "execution_count": 23,
     "metadata": {},
     "output_type": "execute_result"
    }
   ],
   "source": [
    "np.round(groups['value'].describe(),3).unstack()['mean'].fillna('-')"
   ]
  },
  {
   "cell_type": "markdown",
   "metadata": {},
   "source": [
    "Incorporating data on parameters other than prevalence\n",
    "------------------------------------------------------\n",
    "\n",
    "So far this example has focused on modeling the prevalence of PD from the\n",
    "prevalence data alone.  However, this represents about half of the available\n",
    "data.  There is also information on incidence, SMR, and CSMR, which has not\n",
    "yet been incorporated.\n",
    "\n",
    "DisMod-MR is capable of including all of the available data, using a compartmental\n",
    "model of disease moving through a population.  This model formalizes the observation\n",
    "that prevalent cases must once have been incident cases, and continue to be prevalent\n",
    "cases until remission or death.\n",
    "\n",
    "In this model, incidence, remission, and excess-mortality are age-standardizing negative binomial random effect spline models,\n",
    "while prevalence, SMR, CSMR, and other parameters come from the solution to a system of ordinary differential equations.\n",
    "\n",
    "The results of this model are smoother prevalence curves that take longer to calculate."
   ]
  },
  {
   "cell_type": "code",
   "execution_count": null,
   "metadata": {},
   "outputs": [
    {
     "data": {
      "image/png": "[encoded data removed]",
      "text/plain": [
       "<Figure size 720x432 with 4 Axes>"
      ]
     },
     "metadata": {
      "needs_background": "light"
     },
     "output_type": "display_data"
    }
   ],
   "source": [
    "plt.figure(figsize=(10,6))\n",
    "\n",
    "plt.subplot(2,2,1); dismod_mr.plot.data_bars(mr_model.get_data('p')); plt.xlabel('Age (years)'); plt.ylabel('Prevalence')\n",
    "plt.subplot(2,2,2); dismod_mr.plot.data_bars(mr_model.get_data('i')); plt.xlabel('Age (years)'); plt.ylabel('Incidence')\n",
    "plt.subplot(2,2,3); dismod_mr.plot.data_bars(mr_model.get_data('csmr')); plt.xlabel('Age (years)'); plt.ylabel('Cause-specific mortality')\n",
    "plt.subplot(2,2,4); dismod_mr.plot.data_bars(mr_model.get_data('smr')); plt.xlabel('Age (years)'); plt.ylabel('Standardized \\nmortality ratio');"
   ]
  },
  {
   "cell_type": "code",
   "execution_count": null,
   "metadata": {},
   "outputs": [
    {
     "data": {
      "text/plain": [
       "Index(['index', 'age_end', 'age_start', 'age_weights', 'area', 'data_type',\n",
       "       'effective_sample_size', 'lower_ci', 'sex', 'standard_error',\n",
       "       'upper_ci', 'value', 'x_cv_ascertainment', 'x_cv_diagnostic_criteria',\n",
       "       'x_cv_representative', 'year_end', 'year_start'],\n",
       "      dtype='object')"
      ]
     },
     "execution_count": 25,
     "metadata": {},
     "output_type": "execute_result"
    }
   ],
   "source": [
    "mr_model.input_data.columns"
   ]
  },
  {
   "cell_type": "code",
   "execution_count": null,
   "metadata": {},
   "outputs": [
    {
     "name": "stdout",
     "output_type": "stream",
     "text": [
      "all\n",
      "      CHN  ESP  EST  FIN  GBR  ITA  JPN  LBY  NLD  POL  ...  \\\n",
      "23    0.0  1.0  0.0  0.0  0.0  0.0  0.0  0.0  0.0  0.0  ...   \n",
      "25    0.0  1.0  0.0  0.0  0.0  0.0  0.0  0.0  0.0  0.0  ...   \n",
      "26    0.0  1.0  0.0  0.0  0.0  0.0  0.0  0.0  0.0  0.0  ...   \n",
      "27    0.0  1.0  0.0  0.0  0.0  0.0  0.0  0.0  0.0  0.0  ...   \n",
      "28    0.0  1.0  0.0  0.0  0.0  0.0  0.0  0.0  0.0  0.0  ...   \n",
      "...   ...  ...  ...  ...  ...  ...  ...  ...  ...  ...  ...   \n",
      "1410  0.0  0.0  0.0  0.0  0.0  0.0  0.0  0.0  0.0  0.0  ...   \n",
      "1411  0.0  0.0  0.0  0.0  0.0  0.0  0.0  0.0  0.0  0.0  ...   \n",
      "1412  0.0  0.0  0.0  0.0  0.0  0.0  0.0  0.0  0.0  0.0  ...   \n",
      "1413  0.0  0.0  0.0  0.0  0.0  0.0  0.0  0.0  0.0  0.0  ...   \n",
      "1414  0.0  0.0  0.0  0.0  0.0  0.0  0.0  0.0  0.0  0.0  ...   \n",
      "\n",
      "      asia_pacific_high_income  europe_central  europe_eastern  \\\n",
      "23                         0.0             0.0             0.0   \n",
      "25                         0.0             0.0             0.0   \n",
      "26                         0.0             0.0             0.0   \n",
      "27                         0.0             0.0             0.0   \n",
      "28                         0.0             0.0             0.0   \n",
      "...                        ...             ...             ...   \n",
      "1410                       0.0             0.0             0.0   \n",
      "1411                       0.0             0.0             0.0   \n",
      "1412                       0.0             0.0             0.0   \n",
      "1413                       0.0             0.0             0.0   \n",
      "1414                       0.0             0.0             0.0   \n",
      "\n",
      "      europe_western  north_africa_middle_east  north_america_high_income  \\\n",
      "23               1.0                       0.0                        0.0   \n",
      "25               1.0                       0.0                        0.0   \n",
      "26               1.0                       0.0                        0.0   \n",
      "27               1.0                       0.0                        0.0   \n",
      "28               1.0                       0.0                        0.0   \n",
      "...              ...                       ...                        ...   \n",
      "1410             0.0                       0.0                        1.0   \n",
      "1411             0.0                       0.0                        1.0   \n",
      "1412             0.0                       0.0                        1.0   \n",
      "1413             0.0                       0.0                        1.0   \n",
      "1414             0.0                       0.0                        1.0   \n",
      "\n",
      "      super-region_0  super-region_1  super-region_3  super-region_5  \n",
      "23               1.0             0.0             0.0             0.0  \n",
      "25               1.0             0.0             0.0             0.0  \n",
      "26               1.0             0.0             0.0             0.0  \n",
      "27               1.0             0.0             0.0             0.0  \n",
      "28               1.0             0.0             0.0             0.0  \n",
      "...              ...             ...             ...             ...  \n",
      "1410             1.0             0.0             0.0             0.0  \n",
      "1411             1.0             0.0             0.0             0.0  \n",
      "1412             1.0             0.0             0.0             0.0  \n",
      "1413             1.0             0.0             0.0             0.0  \n",
      "1414             1.0             0.0             0.0             0.0  \n",
      "\n",
      "[99 rows x 23 columns]\n",
      "using stored FE for beta_i_x_cv_ascertainment x_cv_ascertainment {'mu': 0, 'dist': 'Normal', 'sigma': 0.0001}\n",
      "using stored FE for beta_i_x_cv_diagnostic_criteria x_cv_diagnostic_criteria {'mu': 0, 'dist': 'Normal', 'sigma': 0.0001}\n",
      "using stored FE for beta_i_x_cv_representative x_cv_representative {'mu': 0, 'dist': 'Normal', 'sigma': 0.0001}\n",
      "using stored FE for beta_i_x_sex x_sex {'mu': 0, 'dist': 'Normal', 'sigma': 0.0001}\n",
      "WARNING: 5 rows of i have non-positive or missing ESS.\n",
      "Empty DataFrame\n",
      "Columns: [all, AFG, AGO, ALB, AND, ARE, ARG, ARM, ATG, AUS, AUT, AZE, BDI, BEL, BEN, BFA, BGD, BGR, BHR, BHS, BIH, BLR, BLZ, BOL, BRA, BRB, BRN, BTN, BWA, CAF, CAN, CHE, CHL, CHN, CIV, CMR, COD, COG, COL, COM, CPV, CRI, CUB, CYP, CZE, DEU, DJI, DMA, DNK, DOM, DZA, ECU, EGY, ERI, ESP, EST, ETH, FIN, FJI, FRA, FSM, GAB, GBR, GEO, GHA, GIN, GMB, GNB, GNQ, GRC, GRD, GTM, GUY, HND, HRV, HTI, HUN, IDN, IND, IRL, IRN, IRQ, ISL, ISR, ITA, JAM, JOR, JPN, KAZ, KEN, KGZ, KHM, KIR, KOR, KWT, LAO, LBN, LBR, LBY, LCA, ...]\n",
      "Index: []\n",
      "\n",
      "[0 rows x 216 columns]\n",
      "using stored FE for beta_r_x_cv_ascertainment x_cv_ascertainment {'mu': 0, 'dist': 'Normal', 'sigma': 0.0001}\n",
      "using stored FE for beta_r_x_cv_diagnostic_criteria x_cv_diagnostic_criteria {'mu': 0, 'dist': 'Normal', 'sigma': 0.0001}\n",
      "using stored FE for beta_r_x_cv_representative x_cv_representative {'mu': 0, 'dist': 'Normal', 'sigma': 0.0001}\n",
      "using stored FE for beta_r_x_sex x_sex {'mu': 0, 'dist': 'Normal', 'sigma': 0.0001}\n",
      "Empty DataFrame\n",
      "Columns: [all, AFG, AGO, ALB, AND, ARE, ARG, ARM, ATG, AUS, AUT, AZE, BDI, BEL, BEN, BFA, BGD, BGR, BHR, BHS, BIH, BLR, BLZ, BOL, BRA, BRB, BRN, BTN, BWA, CAF, CAN, CHE, CHL, CHN, CIV, CMR, COD, COG, COL, COM, CPV, CRI, CUB, CYP, CZE, DEU, DJI, DMA, DNK, DOM, DZA, ECU, EGY, ERI, ESP, EST, ETH, FIN, FJI, FRA, FSM, GAB, GBR, GEO, GHA, GIN, GMB, GNB, GNQ, GRC, GRD, GTM, GUY, HND, HRV, HTI, HUN, IDN, IND, IRL, IRN, IRQ, ISL, ISR, ITA, JAM, JOR, JPN, KAZ, KEN, KGZ, KHM, KIR, KOR, KWT, LAO, LBN, LBR, LBY, LCA, ...]\n",
      "Index: []\n",
      "\n",
      "[0 rows x 216 columns]\n",
      "using stored FE for beta_f_x_cv_ascertainment x_cv_ascertainment {'mu': 0, 'dist': 'Normal', 'sigma': 0.0001}\n",
      "using stored FE for beta_f_x_cv_diagnostic_criteria x_cv_diagnostic_criteria {'mu': 0, 'dist': 'Normal', 'sigma': 0.0001}\n",
      "using stored FE for beta_f_x_cv_representative x_cv_representative {'mu': 0, 'dist': 'Normal', 'sigma': 0.0001}\n",
      "using stored FE for beta_f_x_sex x_sex {'mu': 0, 'dist': 'Normal', 'sigma': 0.0001}\n"
     ]
    },
    {
     "name": "stderr",
     "output_type": "stream",
     "text": [
      "/opt/anaconda3/envs/dismod_mr/lib/python3.6/site-packages/pandas/core/indexing.py:1743: SettingWithCopyWarning: \n",
      "A value is trying to be set on a copy of a slice from a DataFrame.\n",
      "Try using .loc[row_indexer,col_indexer] = value instead\n",
      "\n",
      "See the caveats in the documentation: https://pandas.pydata.org/pandas-docs/stable/user_guide/indexing.html#returning-a-view-versus-a-copy\n",
      "  isetter(ilocs[0], value)\n",
      "/opt/anaconda3/envs/dismod_mr/lib/python3.6/site-packages/pandas/core/indexing.py:1763: SettingWithCopyWarning: \n",
      "A value is trying to be set on a copy of a slice from a DataFrame.\n",
      "Try using .loc[row_indexer,col_indexer] = value instead\n",
      "\n",
      "See the caveats in the documentation: https://pandas.pydata.org/pandas-docs/stable/user_guide/indexing.html#returning-a-view-versus-a-copy\n",
      "  isetter(loc, value)\n"
     ]
    },
    {
     "name": "stdout",
     "output_type": "stream",
     "text": [
      "all\n",
      "      ARG  AUS  AUT  BGR  BOL  CAN  CHL  CHN  COL  CUB  ...  oceania  \\\n",
      "4     0.0  0.0  0.0  0.0  0.0  0.0  0.0  0.0  0.0  0.0  ...      0.0   \n",
      "5     0.0  0.0  0.0  0.0  0.0  0.0  0.0  0.0  0.0  0.0  ...      0.0   \n",
      "6     0.0  0.0  0.0  0.0  0.0  0.0  0.0  0.0  0.0  0.0  ...      0.0   \n",
      "7     0.0  0.0  0.0  0.0  0.0  0.0  0.0  0.0  0.0  0.0  ...      0.0   \n",
      "8     0.0  0.0  0.0  0.0  0.0  0.0  0.0  0.0  0.0  0.0  ...      0.0   \n",
      "...   ...  ...  ...  ...  ...  ...  ...  ...  ...  ...  ...      ...   \n",
      "2405  0.0  0.0  0.0  0.0  0.0  0.0  0.0  0.0  0.0  0.0  ...      0.0   \n",
      "2406  0.0  0.0  0.0  0.0  0.0  0.0  0.0  0.0  0.0  0.0  ...      0.0   \n",
      "2407  0.0  0.0  0.0  0.0  0.0  0.0  0.0  0.0  0.0  0.0  ...      0.0   \n",
      "2408  0.0  0.0  0.0  0.0  0.0  0.0  0.0  0.0  0.0  0.0  ...      0.0   \n",
      "2409  0.0  0.0  0.0  0.0  0.0  0.0  0.0  0.0  0.0  0.0  ...      0.0   \n",
      "\n",
      "      sub-saharan_africa_east  sub-saharan_africa_west  super-region_0  \\\n",
      "4                         0.0                      0.0             1.0   \n",
      "5                         0.0                      0.0             1.0   \n",
      "6                         0.0                      0.0             1.0   \n",
      "7                         0.0                      0.0             1.0   \n",
      "8                         0.0                      0.0             1.0   \n",
      "...                       ...                      ...             ...   \n",
      "2405                      0.0                      0.0             1.0   \n",
      "2406                      0.0                      0.0             1.0   \n",
      "2407                      0.0                      0.0             1.0   \n",
      "2408                      0.0                      0.0             1.0   \n",
      "2409                      0.0                      0.0             1.0   \n",
      "\n",
      "      super-region_1  super-region_2  super-region_3  super-region_4  \\\n",
      "4                0.0             0.0             0.0             0.0   \n",
      "5                0.0             0.0             0.0             0.0   \n",
      "6                0.0             0.0             0.0             0.0   \n",
      "7                0.0             0.0             0.0             0.0   \n",
      "8                0.0             0.0             0.0             0.0   \n",
      "...              ...             ...             ...             ...   \n",
      "2405             0.0             0.0             0.0             0.0   \n",
      "2406             0.0             0.0             0.0             0.0   \n",
      "2407             0.0             0.0             0.0             0.0   \n",
      "2408             0.0             0.0             0.0             0.0   \n",
      "2409             0.0             0.0             0.0             0.0   \n",
      "\n",
      "      super-region_5  super-region_6  \n",
      "4                0.0             0.0  \n",
      "5                0.0             0.0  \n",
      "6                0.0             0.0  \n",
      "7                0.0             0.0  \n",
      "8                0.0             0.0  \n",
      "...              ...             ...  \n",
      "2405             0.0             0.0  \n",
      "2406             0.0             0.0  \n",
      "2407             0.0             0.0  \n",
      "2408             0.0             0.0  \n",
      "2409             0.0             0.0  \n",
      "\n",
      "[660 rows x 59 columns]\n"
     ]
    },
    {
     "name": "stderr",
     "output_type": "stream",
     "text": [
      "/opt/anaconda3/envs/dismod_mr/lib/python3.6/site-packages/pandas/core/indexing.py:1743: SettingWithCopyWarning: \n",
      "A value is trying to be set on a copy of a slice from a DataFrame.\n",
      "Try using .loc[row_indexer,col_indexer] = value instead\n",
      "\n",
      "See the caveats in the documentation: https://pandas.pydata.org/pandas-docs/stable/user_guide/indexing.html#returning-a-view-versus-a-copy\n",
      "  isetter(ilocs[0], value)\n",
      "/opt/anaconda3/envs/dismod_mr/lib/python3.6/site-packages/pandas/core/indexing.py:1763: SettingWithCopyWarning: \n",
      "A value is trying to be set on a copy of a slice from a DataFrame.\n",
      "Try using .loc[row_indexer,col_indexer] = value instead\n",
      "\n",
      "See the caveats in the documentation: https://pandas.pydata.org/pandas-docs/stable/user_guide/indexing.html#returning-a-view-versus-a-copy\n",
      "  isetter(loc, value)\n",
      "/opt/anaconda3/envs/dismod_mr/lib/python3.6/site-packages/pandas/core/indexing.py:1743: SettingWithCopyWarning: \n",
      "A value is trying to be set on a copy of a slice from a DataFrame.\n",
      "Try using .loc[row_indexer,col_indexer] = value instead\n",
      "\n",
      "See the caveats in the documentation: https://pandas.pydata.org/pandas-docs/stable/user_guide/indexing.html#returning-a-view-versus-a-copy\n",
      "  isetter(ilocs[0], value)\n",
      "/opt/anaconda3/envs/dismod_mr/lib/python3.6/site-packages/pandas/core/indexing.py:1743: SettingWithCopyWarning: \n",
      "A value is trying to be set on a copy of a slice from a DataFrame.\n",
      "Try using .loc[row_indexer,col_indexer] = value instead\n",
      "\n",
      "See the caveats in the documentation: https://pandas.pydata.org/pandas-docs/stable/user_guide/indexing.html#returning-a-view-versus-a-copy\n",
      "  isetter(ilocs[0], value)\n"
     ]
    },
    {
     "name": "stdout",
     "output_type": "stream",
     "text": [
      "WARNING: 7 rows of p have non-positive or missing ESS.\n",
      "Empty DataFrame\n",
      "Columns: [all, AFG, AGO, ALB, AND, ARE, ARG, ARM, ATG, AUS, AUT, AZE, BDI, BEL, BEN, BFA, BGD, BGR, BHR, BHS, BIH, BLR, BLZ, BOL, BRA, BRB, BRN, BTN, BWA, CAF, CAN, CHE, CHL, CHN, CIV, CMR, COD, COG, COL, COM, CPV, CRI, CUB, CYP, CZE, DEU, DJI, DMA, DNK, DOM, DZA, ECU, EGY, ERI, ESP, EST, ETH, FIN, FJI, FRA, FSM, GAB, GBR, GEO, GHA, GIN, GMB, GNB, GNQ, GRC, GRD, GTM, GUY, HND, HRV, HTI, HUN, IDN, IND, IRL, IRN, IRQ, ISL, ISR, ITA, JAM, JOR, JPN, KAZ, KEN, KGZ, KHM, KIR, KOR, KWT, LAO, LBN, LBR, LBY, LCA, ...]\n",
      "Index: []\n",
      "\n",
      "[0 rows x 216 columns]\n",
      "using stored FE for beta_X_x_cv_ascertainment x_cv_ascertainment {'mu': 0, 'dist': 'Normal', 'sigma': 0.0001}\n",
      "using stored FE for beta_X_x_cv_diagnostic_criteria x_cv_diagnostic_criteria {'mu': 0, 'dist': 'Normal', 'sigma': 0.0001}\n",
      "using stored FE for beta_X_x_cv_representative x_cv_representative {'mu': 0, 'dist': 'Normal', 'sigma': 0.0001}\n",
      "using stored FE for beta_X_x_sex x_sex {'mu': 0, 'dist': 'Normal', 'sigma': 0.0001}\n",
      "fitting submodels\n",
      ". . . . . . . . . . . . . . . . . . . . . . . . . . . . . . . . \n",
      "fitting all stochs\n",
      "\n",
      "Initial condition calculation interrupted\n",
      "finding step covariances\n",
      ". . . . . . . . . . . . . . . . . . . . . . . . Initial condition calculation interrupted\n",
      "\n",
      "sampling from posterior distribution\n",
      "\n"
     ]
    }
   ],
   "source": [
    "# model.vars += dismod_mr.model.consistent(model)\n",
    "# %time dismod_mr.fit.consistent(model)"
   ]
  },
  {
   "cell_type": "code",
   "execution_count": 25,
   "metadata": {},
   "outputs": [
    {
     "name": "stderr",
     "output_type": "stream",
     "text": [
      "/homes/abie/.conda/envs/dismod_mr/lib/python3.6/site-packages/ipykernel_launcher.py:14: MatplotlibDeprecationWarning: Adding an axes using the same arguments as a previous axes currently reuses the earlier instance.  In a future version, a new instance will always be created and returned.  Meanwhile, this warning can be suppressed, and the future behavior ensured, by passing a unique label to each axes instance.\n",
      "  \n"
     ]
    },
    {
     "data": {
      "image/png": "[encoded data removed]",
      "text/plain": [
       "<Figure size 720x432 with 4 Axes>"
      ]
     },
     "metadata": {
      "needs_background": "light"
     },
     "output_type": "display_data"
    }
   ],
   "source": [
    "# plt.figure(figsize=(10,6))\n",
    "\n",
    "# plt.subplot(2,2,1); dismod_mr.plot.data_bars(model.get_data('p')); plt.xlabel('Age (years)'); plt.ylabel('Prevalence')\n",
    "# plt.subplot(2,2,2); dismod_mr.plot.data_bars(model.get_data('i')); plt.xlabel('Age (years)'); plt.ylabel('Incidence')\n",
    "# plt.subplot(2,2,3); dismod_mr.plot.data_bars(model.get_data('csmr')); plt.xlabel('Age (years)'); plt.ylabel('Cause-specific mortality')\n",
    "# plt.subplot(2,2,4); dismod_mr.plot.data_bars(model.get_data('smr')); plt.xlabel('Age (years)'); plt.ylabel('Standardized \\nmortality ratio')\n",
    "# param_list = [dict(type='p', title='(a)', ylabel='Prevalence (%)', yticks=([0, .01, .02], [0, 1, 2]), axis=[30,101,-0.001,.025]),\n",
    "#           dict(type='i', title='(b)', ylabel='Incidence \\n(per 1000 PY)', yticks=([0, .001,.002, .003, .004], [0, 1, 2, 3, 4]), axis=[30,104,-.0003,.0055]),\n",
    "#           dict(type='pf', title='(c)', ylabel='Cause-specific mortality \\n(per 1000 PY)', yticks=([0, .001,.002], [0, 1, 2]), axis=[30,104,-.0002,.003]),\n",
    "#           dict(type='smr', title='(d)', ylabel='Standardized \\nmortality ratio', yticks=([1, 2, 3,4, ], [1, 2,3, 4]), axis=[35,104,.3,4.5]),\n",
    "#           ]\n",
    "\n",
    "# for i, params in enumerate(param_list):\n",
    "#     ax = plt.subplot(2,2,i+1)\n",
    "#     if params['type'] == 'pf': dismod_mr.plot.data_bars(model.get_data('csmr'), color='grey')\n",
    "#     else: dismod_mr.plot.data_bars(model.get_data(params['type']), color='grey')\n",
    "    \n",
    "#     if params['type'] == 'smr': model.pred = dismod_mr.model.predict_for(model, model.parameters.get('smr', {}), 'all', 'female', 2005, \n",
    "#                                                                'GBR', 'female', 2005, 1., model.vars['smr'], 0., 100.).T\n",
    "#     else : model.pred = dismod_mr.model.predict_for(model, model.parameters[params['type']],\n",
    "#                                                        'all', 'female', 2005, \n",
    "#                                                        'GBR', 'female', 2005, 1., model.vars[params['type']], 0., 1.).T\n",
    "    \n",
    "#     plt.plot(np.arange(101), model.pred.mean(axis=1), 'k-', linewidth=2, label='Posterior Mean')\n",
    "#     hpd = mc.utils.hpd(model.pred.T, .05)\n",
    "#     plt.plot(np.arange(101), hpd[0], 'k-', linewidth=1, label='95% HPD interval')\n",
    "#     plt.plot(np.arange(101), hpd[1], 'k-', linewidth=1)\n",
    "\n",
    "#     plt.xlabel('Age (years)')\n",
    "#     plt.ylabel(params['ylabel']+'\\n\\n', ha='center')\n",
    "#     plt.axis(params.get('axis', [-5,105,-.005,.06]))\n",
    "#     plt.yticks(*params.get('yticks', ([0, .025, .05], [0, 2.5, 5])))\n",
    "#     plt.title(params['title'])\n",
    "#     plt.grid()\n",
    "    \n",
    "# plt.subplots_adjust(hspace=.35, wspace=.35, top=.97)"
   ]
  },
  {
   "cell_type": "code",
   "execution_count": 26,
   "metadata": {},
   "outputs": [],
   "source": [
    "p_with = mr_model"
   ]
  },
  {
   "cell_type": "markdown",
   "metadata": {},
   "source": [
    "The most notable difference between the estimates from this model and from the model\n",
    "that used prevalence data only is that this model produces estimates of incidence and\n",
    "mortality in addition to prevalence.  In many cases, the model also produces estimates\n",
    "of the remission rate as well, but there is no remission of PD, so the estimates of zero\n",
    "are not very interesting in this example.  It is another place that informative priors are useful,\n",
    "however.\n",
    "\n",
    "There are also differences between the means and uncertainty intervals estimated by these methods,\n",
    "which show that the additional data is important.  Although the prevalence data alone predicts \n",
    "age-specific prevalence that peaks at 2%, when the incidence and mortality data is also included, the\n",
    "maximum prevalence is a bit lower, closer to 1.5%."
   ]
  },
  {
   "cell_type": "code",
   "execution_count": 27,
   "metadata": {},
   "outputs": [],
   "source": [
    "# p1 = dismod_mr.model.predict_for(p_only, model.parameters['p'],\n",
    "#                                     'all', 'total', 'all', \n",
    "#                                     'GBR', 'female', 2005, 1.,\n",
    "#                                     p_only.vars['p'], 0., 1.)\n",
    "\n",
    "# p2 = dismod_mr.model.predict_for(p_with, model.parameters['p'],\n",
    "#                                     'all', 'total', 'all', \n",
    "#                                     'GBR', 'female', 2005, 1.,\n",
    "#                                     p_with.vars['p'], 0., 1.)"
   ]
  },
  {
   "cell_type": "code",
   "execution_count": 28,
   "metadata": {},
   "outputs": [
    {
     "data": {
      "image/png": "[encoded data removed]",
      "text/plain": [
       "<Figure size 432x288 with 1 Axes>"
      ]
     },
     "metadata": {
      "needs_background": "light"
     },
     "output_type": "display_data"
    }
   ],
   "source": [
    "# plt.plot(p1.mean(axis=0), 'k--', linewidth=2, label='Only prevalence')\n",
    "# plt.plot(p2.mean(axis=0), 'k-', linewidth=2, label='All available')\n",
    "\n",
    "# plt.xlabel('Age (years)')\n",
    "# plt.ylabel('Prevalence (%)\\n\\n', ha='center')\n",
    "# plt.yticks([0, .01, .02], [0, 1, 2])\n",
    "# plt.axis([30,101,-0.001,.025])\n",
    "# plt.legend(loc='upper left')\n",
    "# plt.grid()\n",
    "\n",
    "# plt.subplots_adjust(top=.97, bottom=.16)"
   ]
  },
  {
   "cell_type": "markdown",
   "metadata": {},
   "source": [
    "Because the data is so noisy, the differences between the mean estimates of these different models are not significant; the posterior distributions\n",
    "have considerable overlap.  At age 80, for example, the posterior distributions for age-80 prevalence are estimated as the following:"
   ]
  },
  {
   "cell_type": "code",
   "execution_count": 29,
   "metadata": {},
   "outputs": [
    {
     "data": {
      "image/png": "[encoded data removed]",
      "text/plain": [
       "<Figure size 432x288 with 1 Axes>"
      ]
     },
     "metadata": {
      "needs_background": "light"
     },
     "output_type": "display_data"
    }
   ],
   "source": [
    "plt.hist(100*p1[:,80], density=True, histtype='step', label='Only prevalence', linewidth=3, color=np.array([239., 138., 98., 256.])/256)\n",
    "plt.hist(100*p2[:,80], density=True, histtype='step', label='All available', linewidth=3, color=np.array([103, 169, 207, 256.])/256)\n",
    "plt.title('PD prevalence at age 80')\n",
    "plt.xlabel('Prevalence (%)\\n\\n', ha='center')\n",
    "plt.ylabel('Probability Density')\n",
    "plt.legend(loc='upper right')\n",
    "plt.grid()\n",
    "\n",
    "plt.subplots_adjust(bottom=.16)"
   ]
  },
  {
   "cell_type": "markdown",
   "metadata": {},
   "source": [
    "Conclusion\n",
    "==========\n",
    "\n",
    "I hope that this example is a quick way to see the strengths and weaknesses of DisMod-MR.\n",
    "This model is particularly suited for estimating descriptive epidemiology of diseases\n",
    "with sparse, noisy data from multiple, incompatible sources.\n",
    "\n",
    "I am currently working to make it faster, as well as to improve the capabilities for modeling\n",
    "changes between regions over time."
   ]
  },
  {
   "cell_type": "code",
   "execution_count": 19,
   "metadata": {},
   "outputs": [
    {
     "name": "stdout",
     "output_type": "stream",
     "text": [
      "Tue Apr 29 15:47:18 EDT 2025\n"
     ]
    }
   ],
   "source": [
    "!date"
   ]
  },
  {
   "cell_type": "code",
   "execution_count": null,
   "metadata": {},
   "outputs": [],
   "source": []
  }
 ],
 "metadata": {
  "kernelspec": {
   "display_name": "Python 3",
   "language": "python",
   "name": "python3"
  },
  "language_info": {
   "codemirror_mode": {
    "name": "ipython",
    "version": 3
   },
   "file_extension": ".py",
   "mimetype": "text/x-python",
   "name": "python",
   "nbconvert_exporter": "python",
   "pygments_lexer": "ipython3",
   "version": "3.9.7"
  }
 },
 "nbformat": 4,
 "nbformat_minor": 1
}
